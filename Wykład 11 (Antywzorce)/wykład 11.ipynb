{
 "cells": [
  {
   "cell_type": "markdown",
   "metadata": {
    "collapsed": true,
    "slideshow": {
     "slide_type": "slide"
    }
   },
   "source": [
    "# Programowanie Obiektowe\n",
    "\n",
    "##  Antywzorce projektowe\n",
    "\n",
    "### dr inż. Waldemar Bauer"
   ]
  },
  {
   "cell_type": "markdown",
   "metadata": {
    "slideshow": {
     "slide_type": "slide"
    }
   },
   "source": [
    "## Antywzorzec (ang. anti-pattern)\n",
    "\n",
    "1. Zidentyfikowane przypadki powtarzających się błędów w czasie rozwiązywania problemów w trakcie pracy nad aplikacją. \n",
    "\n",
    "2. Badanie antywzorców pozwala na ich rozpoznawanie i porządkowanie, uniknanie w przyszłości, a także wykrywaie w wadliwie działających systemach.\n",
    "3. Do dobrych praktyk należy unikanie antywzorców.\n"
   ]
  },
  {
   "cell_type": "markdown",
   "metadata": {
    "slideshow": {
     "slide_type": "subslide"
    }
   },
   "source": [
    "## Podział antywzorców projektowych\n",
    "- w zarządzaniu projektem,\n",
    "- w projektowaniu oprogramowania,\n",
    "- w projektowaniu obiektowym,\n",
    "- w programowaniu."
   ]
  },
  {
   "cell_type": "markdown",
   "metadata": {
    "slideshow": {
     "slide_type": "slide"
    }
   },
   "source": [
    "## Antywzorce w programowaniu\n",
    "1. __Accidental complexity__ – wprowadzanie niepotrzebnej złożoności kodu\n",
    "2. __Action at a distance__ – niespodziewana interakcja pomiędzy rozseparowanymi częściami systemu \n",
    "4. __Blind faith (ślepa wiara)__ – niesprawdzanie wyników (a) słuszności poprawek w kodzie lub (b) wyników zwracanych przez podprogramy\n",
    "5. __Busy spin__ – zajmowanie zasobów CPU przez aktywne czekanie (ciągłe sprawdzanie) na zdarzenie"
   ]
  },
  {
   "cell_type": "markdown",
   "metadata": {
    "slideshow": {
     "slide_type": "slide"
    }
   },
   "source": [
    "## Antywzorce w programowaniu cd. \n",
    "\n",
    "6. __Checking type instead of interface__ – sprawdzenie czy zmienna jest danego typu zamiast sprawdzenia czy implementuje potrzebny interfejs (błąd ten wyklucza korzystanie z polimorfizmu)\n",
    "7. __Coding by exception (kodowanie przez wyjątki)__ – dodawanie nadmiernej liczby osobnych typów wyjątków dla każdego możliwego błędu oraz kodu do ich obsługi; prowadzi do niekontrolowanego wzrostu zbędnej złożoności (accidental complexity)\n",
    "8. __Error hiding__ – przechwytywanie komunikatu o błędzie w celu ukrycia go przed użytkownikiem\n",
    "9. __Sterowanie wyjątkami__ – używanie konstrukcji językowych służących do zarządzania błędami (wyjątkami) w celu implementacji właściwej logiki programu (np. zwracanie wyniku z funkcji przez wyrzucenie wyjątku)\n"
   ]
  },
  {
   "cell_type": "markdown",
   "metadata": {
    "slideshow": {
     "slide_type": "slide"
    }
   },
   "source": [
    "## Antywzorce w programowaniu cd. \n",
    "10. __Hard code__ – „usztywnianie” rozwiązania przez wstawianie w wielu miejscach kodu programu ustalonych wartości, związanych z założoną strukturą systemu i jego środowiska (np. dotyczących systemu operacyjnego, liczby lub rodzaju procesorów, pojemności pamięci, wydajności bazy danych, rodzaju urządzeń wejścia-wyjścia)\n",
    "11. __Magic number__ – użycie w kodzie stałych o niewyjaśnionym sensie i pochodzeniu, które „magicznie” sprawiają, że program działa prawidłowo.\n",
    "12. __Magic string__ – użycie w kodzie literałów (nienazwanych stałych) łańcuchowych (napisowych) do porównań, np. jako nazwy typów danych, identyfikatorów zdarzeń itp."
   ]
  },
  {
   "cell_type": "markdown",
   "metadata": {
    "slideshow": {
     "slide_type": "slide"
    }
   },
   "source": [
    "## Antywzorce w zarządzaniu projektem\n",
    "1.  __Magiczna atrapa (ang. Smoke and mirrors)__ -  Antywzorzec dotyczy najczęściej oprogramowania, które nie ma zaimplementowanej funkcjonalności, chociaż udaje, że ją ma (np. niedziałające formularze, opcje konfiguracyjne). Termin ten używany jest także w kontekście prezentowania możliwości firmy-wykonawcy klientowi, tak, aby ten myślał, że firma jest w stanie wykonać zleconą pracę.\n",
    "\n",
    "2. __Eksplozja oprogramowania (ang. Software bloat)__ - Przydzielanie kolejnym wersjom oprogramowania coraz większej ilości zasobów z powodu jego nadmiernego rozrostu. Oprogramowanie jest często rozwijane przez dodawanie kolejnych funkcjonalności, bez ulepszania istniejących, co zwiększa zarówno jego wymagania, jak i liczbę osób potrzebnych do jego utrzymywania.\n",
    "\n",
    "3. __Zarządzanie przez bzdury (ang. Bullshit Management)__ - Zarządzanie projektem bez odpowiedniej wiedzy na temat przedmiotu projektu. Nazwa wzięła się od kierowników, którzy są przekonani, że aby dobrze zarządzać projektem nie trzeba mieć wiedzy, wystarczy sprawiać dobre wrażenie, wygłaszając mądrze brzmiące opinie."
   ]
  },
  {
   "cell_type": "markdown",
   "metadata": {
    "slideshow": {
     "slide_type": "subslide"
    }
   },
   "source": [
    "## Antywzorce w zarządzaniu projektem cd.\n",
    "\n",
    "4. __Ja nie jestem techniczny (ang. I’m not an IT guy)__ - Przydzielanie zarządzania projektem osobie bez odpowiedniej wiedzy technicznej oraz doświadczenia w sposobie prowadzenia procesu rozwoju oprogramowania. Rozwój oprogramowania sprowadza się do podejmowania krytycznych decyzji o przesunięciu znaku graficznego logotypu o 5 pikseli w lewo bądź w prawo. Wszelkie kwestie związane z logiką biznesową prowadzone są z wykorzystaniem frazy „Ja nie jestem techniczny, ale czemu nie możemy zainstalować Windowsa na iPadzie?”.\n",
    "\n",
    "5. __Newbie__ - wykonanie najbardziej krytycznych elementów projektu powierza się najmniej doświadczonej osobie w temacie.\n",
    "\n",
    "6. __Na tym etapie bym się tym nie przejmował (ang. We’ll handle it later)__ -"
   ]
  },
  {
   "cell_type": "markdown",
   "metadata": {
    "slideshow": {
     "slide_type": "subslide"
    }
   },
   "source": [
    " Antywzorzec najczęściej dotyczący projektów zarządzanych przez członków zespołu sprzedażowego. Sprzedawca, kierujący się chęcią szybkiego wdrożenia oprogramowania, nie zastanawia się nad technicznymi aspektami podejmowanych z klientem decyzji. Dba tylko o to, aby jak najszybciej zdobyć od klienta zlecenie utwierdzając zamawiającego w przekonaniu o wysokich kompetencjach firmy zdolnej do wdrożenia dowolnej funkcjonalności. W następstwie kierujący projektem sprzedawca ignoruje wszelkie próby wskazania zagrożeń płynących z wykonania uzgodnionych z klientem zmian w oprogramowaniu twierdząc, że na tym etapie nie ma potrzeby przejmowania się negatywnymi dla projektu konsekwencjami."
   ]
  },
  {
   "cell_type": "markdown",
   "metadata": {
    "slideshow": {
     "slide_type": "slide"
    }
   },
   "source": [
    "## Antywzorce w projektowaniu oprogramowania\n",
    "1. __Inwersja abstrakcji (ang. Abstraction inversion)__-  Nieudostępnianie użytkownikom zaimplementowanej funkcjonalności, której potrzebują, przez co muszą ją zaimplementować ponownie używając funkcji wyższego poziomu.\n",
    "2. __Niejednoznaczny punkt odniesienia (ang. Ambiguous viewpoint)__ - Obiektowe modele systemu są prezentowane bez wskazania do czego się odnoszą (bez określenia w jakim kontekście są ukazane).\n",
    "3. __Błotna bryła (ang. Big ball of mud)__ - Dotyczy systemu o trudnej do wyodrębnienia i zrozumienia strukturze. Modyfikowanie takiego systemu jest ryzykowne, gdyż nie sposób przewidzieć skutków zmian, kod przypomina spaghetti.\n",
    "4. __Złocenie (ang. Gold plating)__ -  Kontynuowanie pracy nad zadaniem lub projektem na długo po przekroczeniu punktu, w którym dodatkowy wysiłek przestaje przynosić wartość dodaną."
   ]
  },
  {
   "cell_type": "markdown",
   "metadata": {
    "slideshow": {
     "slide_type": "subslide"
    }
   },
   "source": [
    "## Antywzorce w projektowaniu oprogramowania cd.\n",
    "\n",
    "5. __Petrochemia (ang. Gas factory)__ - Zbyt skomplikowany, uciążliwie drobiazgowy projekt systemu lub funkcjonalność.\n",
    "6. __Wadliwe wejście (ang. Input kludge)__ - Zachodzi gdy system nie radzi sobie z poprawnymi i niepoprawnymi danymi na wejściu, gdyż ich obsługa nie jest wyspecyfikowana i błędnie zaimplementowana. Zdarza się, że programista nie jest w stanie wykryć takiego błędu (ponieważ wiedząc, jakich danych potrzebuje program, wprowadza dane poprawne), natomiast użytkownik wykrywa go z łatwością przy pierwszym uruchomieniu (nie mając specyfikacji może podać dane dowolne, np. nazwę ulicy tam, gdzie miał być kod pocztowy).\n",
    "7. __Interfejs gigant (ang. Interface bloat)__ - Tworzenie rozbudowanych i ciężkich interfejsów (w sensie diagramu klas) tak, że trudno je zrealizować.\n",
    "8. __Magiczny przycisk (ang. Magic pushbutton)__ - Implementowanie zbyt ubogiego interfejsu użytkownika, bez pozwolenia mu na większą ingerencję w działanie programu."
   ]
  },
  {
   "cell_type": "markdown",
   "metadata": {
    "slideshow": {
     "slide_type": "subslide"
    }
   },
   "source": [
    "## Antywzorce w projektowaniu oprogramowania cd.\n",
    "\n",
    "9. __Silnie zależne komponenty (ang. Re-Coupling)__ - Wprowadzanie nadmiernych zależności w systemie, tj. zbyt silnych powiązań komponentów, klas w systemie.\n",
    "10. __System, który gra i tańczy (ang. Stovepipe system)__ - Ciężko serwisowalny system zbudowany z komponentów niepowiązanych ze sobą (funkcjonalnie).\n",
    "11. __System z wyścigami (Race hazard)__ - System, w którym źle zorganizowano obsługę zdarzeń i jego działanie jest zależne od ich kolejności."
   ]
  },
  {
   "cell_type": "markdown",
   "metadata": {
    "slideshow": {
     "slide_type": "slide"
    }
   },
   "source": [
    "## Antywzorce w projektowaniu obiektowym\n",
    "1. __BaseBean__: Umieszczanie metod typu utility w klasie bazowej, a następnie tworzenie na jej podstawie klas pochodnych. Prawidłowo używanie metod utility powinno być obsłużone przez delegowanie. Użycie dziedziczenia powoduje, że klasy dziedziczące polegają na funkcjonalności klasy bazowej, co może utrudniać kontrolę kodu przez programistę. Klasy typu utility są za to stabilne i podobne do siebie w różnych projektach – można je wyodrębnić w bibliotekę.\n",
    "\n",
    "2. __Wołanie przodka (ang. CallSuper)__ - W programowaniu obiektowym możliwe jest dziedziczenie właściwości i zachowania klas bazowych i przedefiniowywanie ich. Często metoda, która przedefiniowuje metodę bazową musi się i tak odwołać do metody bazowej w środku, aby skorzystać z jej funkcjonalności – dużo lepszym pomysłem w takim przypadku jest stworzenie czysto abstrakcyjnej metody w klasie bazowej.\n",
    "\n",
    "3. __Empty subclass failure__ - Złamanie kontraktu klasy nadrzędnej. Mówi się wówczas o niespełnieniu testu Empty Subclass Test to znaczy metody danej klasy nie zachowują się tak, jak te z klasy bazowej.\n",
    "\n",
    "4. __Boski obiekt (ang. God object)__ - Umieszczenie zbyt wielu funkcji w jednym komponencie (klasie). Obarczenie jej nadmierną odpowiedzialnością, co powoduje problemy w utrzymaniu jej kodu i wyodrębnieniu funkcjonalności."
   ]
  },
  {
   "cell_type": "markdown",
   "metadata": {
    "slideshow": {
     "slide_type": "subslide"
    }
   },
   "source": [
    "## Antywzorce w projektowaniu obiektowym cd.\n",
    "\n",
    "5. __Object cesspool__ - Ponowne wykorzystywanie obiektów, których zachowanie zmienia się przy kolejnym użyciu. Może to być wynikiem braku automatycznego przywracania stanu obiektu przy zwracaniu go do puli obiektów.\n",
    "6. __Poltergeists__ - Tworzenie obiektów, których jedynym zadaniem jest przekazywanie danych do innych obiektów.\n",
    "7. __Jo-jo (ang. Yo-yo problem)__- Sytuacja, kiedy funkcjonalność jest rozłożona pomiędzy głęboką hierarchię dziedziczących się klas. Aby zrozumieć działanie programu programista musi przechodzić w tę i z powrotem pomiędzy definicjami klas. Większość praktyk programistycznych (w tym znany artykuł „Inheritance considered harmful”) zaleca stosowanie płytkiej hierarchii dziedziczenia.\n",
    "8. __Sequential Coupling__ Klasa wymaga, aby jej metody były wywoływane w określonej kolejności.\n",
    "9. __Singletonizm (ang. Singletonitis)__ - Niepotrzebne używanie wzorca singleton"
   ]
  },
  {
   "cell_type": "code",
   "execution_count": null,
   "metadata": {},
   "outputs": [],
   "source": []
  }
 ],
 "metadata": {
  "celltoolbar": "Slideshow",
  "jupytext": {
   "formats": "ipynb"
  },
  "kernelspec": {
   "display_name": "Python 3 (ipykernel)",
   "language": "python",
   "name": "python3"
  },
  "language_info": {
   "codemirror_mode": {
    "name": "ipython",
    "version": 3
   },
   "file_extension": ".py",
   "mimetype": "text/x-python",
   "name": "python",
   "nbconvert_exporter": "python",
   "pygments_lexer": "ipython3",
   "version": "3.9.12"
  },
  "rise": {
   "autolaunch": true,
   "backimage": "img/tlo_agh.png"
  }
 },
 "nbformat": 4,
 "nbformat_minor": 2
}
