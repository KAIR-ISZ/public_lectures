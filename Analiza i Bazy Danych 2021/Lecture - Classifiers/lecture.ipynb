{
 "cells": [
  {
   "cell_type": "markdown",
   "metadata": {},
   "source": [
    "# Analiza i bazy danych\n",
    "\n",
    "## Klasyfikatory\n",
    "\n",
    "### dr hab. inż. Jerzy Baranowski, Prof. AGH"
   ]
  },
  {
   "cell_type": "markdown",
   "metadata": {},
   "source": [
    "1. Definicja problemu\n",
    "2. Rodzaje zadania: binarne/wieloklasowe\n",
    "3. Metryki oceny \n",
    "4. Confusion matrix\n",
    "5. ROC\n",
    "6. Klasyfikatory binarne\n",
    "7. Regresja logistyczna\n",
    "8. Regresja probitowa\n",
    "9. Regularyzacja\n",
    "10. Dobór parametru\n",
    "11. SVM\n",
    "12. Nieliniowe SVM\n",
    "13. Naiwny klasyfikator bayesowski\n",
    "14. k-NN\n",
    "15. Drzewa decyzyjne\n",
    "16. Lasy losowe\n",
    "17. Klasyfikatory wieloklasowe\n",
    "18. Softmax\n",
    "19. One-vs-all\n"
   ]
  },
  {
   "cell_type": "markdown",
   "metadata": {},
   "source": [
    "## Definicja\n",
    "\n",
    "Niech $\\mathcal{X}$ będzie zbiorem obiektów, zaś $\\mathcal{Y}$ zbiorem klas (skończonym).\n",
    "\n",
    "Klasyfikatorem jest funkcja, która danemu obiektowi $ x\\in\\mathcal X$ przydziela klasę $y\\in \\mathcal{Y}$. \n",
    "\n",
    "W praktyce, operacji się nie dokonuje na obiektach $x$, ale przynależnych do nich wektorach cech $\\mathbf{x}$ należących do zbioru $X$. "
   ]
  },
  {
   "cell_type": "markdown",
   "metadata": {},
   "source": [
    "## Problemy binarne i wieloklasowe \n",
    "\n",
    "Problem binarny, to taki w którym zbiór $\\mathcal{Y}$ jest dwuelementowy.\n",
    "\n",
    "Problem wieloklasowy dopuszcza skończoną liczbę elementów zbioru $\\mathcal{Y}$"
   ]
  },
  {
   "cell_type": "markdown",
   "metadata": {},
   "source": [
    "## Tworzenie klasyfikatora\n",
    "\n",
    "Jest to proces dwuetapowy\n",
    "\n",
    "1. Wybranie funkcji klasyfikującej (struktury)\n",
    "2. Uczenie klasyfikatora"
   ]
  },
  {
   "cell_type": "markdown",
   "metadata": {},
   "source": [
    "## Dobór klasyfikatora\n",
    "\n",
    "Jest wiele rodzajów klasyfikatorów. Charakteryzują się one:\n",
    "- zasadą działania\n",
    "- strukturą\n",
    "- parametrami (lub hiperparametrami) określającymi ich działanie"
   ]
  },
  {
   "cell_type": "markdown",
   "metadata": {},
   "source": [
    "## Uczenie klasyfikatora\n",
    "\n",
    "Jest to proces doboru parametrów (i hiperparametrów) klasyfikatora.\n",
    "\n",
    "Wykorzystuje się w tym celu tzw. zbiór uczący.\n",
    "\n",
    "Jest to zbiór par $(\\mathbf{x},y)$, czyli wektorów cech (czyli obiektów) i odpowiadających im prawidłowo przydzielonych klas."
   ]
  },
  {
   "cell_type": "markdown",
   "metadata": {},
   "source": [
    "## Ocena działania klasyfikatora binarnego\n",
    "\n",
    "Klasyfikator \n",
    "\n",
    "\n"
   ]
  }
 ],
 "metadata": {
  "interpreter": {
   "hash": "eac67c8cd09a973863c0eb8165917fbb7b741757d9f5fc8c47e28e31a1a3ab44"
  },
  "kernelspec": {
   "display_name": "Python 3.9.5 64-bit ('ABD2021': conda)",
   "language": "python",
   "name": "python3"
  },
  "language_info": {
   "codemirror_mode": {
    "name": "ipython",
    "version": 3
   },
   "file_extension": ".py",
   "mimetype": "text/x-python",
   "name": "python",
   "nbconvert_exporter": "python",
   "pygments_lexer": "ipython3",
   "version": "3.9.5"
  },
  "orig_nbformat": 4
 },
 "nbformat": 4,
 "nbformat_minor": 2
}
