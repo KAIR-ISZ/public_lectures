{
 "cells": [
  {
   "cell_type": "markdown",
   "metadata": {},
   "source": [
    "# Analiza i bazy danych\n",
    "\n",
    "## Klasyfikatory\n",
    "\n",
    "### dr hab. inż. Jerzy Baranowski, Prof. AGH"
   ]
  },
  {
   "cell_type": "markdown",
   "metadata": {},
   "source": [
    "1. Definicja problemu\n",
    "2. Rodzaje zadania: binarne/wieloklasowe\n",
    "3. Metryki oceny \n",
    "4. Confusion matrix\n",
    "5. ROC\n",
    "6. Klasyfikatory binarne\n",
    "7. Regresja logistyczna\n",
    "8. Regresja probitowa\n",
    "9. Regularyzacja\n",
    "10. Dobór parametru\n",
    "11. Klasyfikatory wieloklasowe\n",
    "12. Softmax\n",
    "13. k-NN\n",
    "14. drzewa decyzyjne\n",
    "15. lasy losowe\n",
    "16. naiwny klasyfikator bayesowski"
   ]
  },
  {
   "cell_type": "markdown",
   "metadata": {},
   "source": [
    "## Definicja\n",
    "\n",
    "Niech $\\mathcal{X}$ będzie zbiorem obiektów, zaś $\\mathcal{Y}$ zbiorem klas (skończonym).\n",
    "\n",
    "Klasyfikatorem jest funkcja, która danemu obiektowi $ x\\in\\mathcal X$ przydziela klasę $y\\in \\mathcal{Y}$. \n",
    "\n",
    "W praktyce, operacji się nie dokonuje na obiektach $x$, ale przynależnych do nich wektorach cech $\\mathbf{x}$ należących do zbioru $X$. "
   ]
  },
  {
   "cell_type": "markdown",
   "metadata": {},
   "source": [
    "## Problemy binarne i wieloklasowe \n",
    "\n",
    "Problem binarny, to taki w którym zbiór $\\mathcal{Y}$ "
   ]
  }
 ],
 "metadata": {
  "interpreter": {
   "hash": "eac67c8cd09a973863c0eb8165917fbb7b741757d9f5fc8c47e28e31a1a3ab44"
  },
  "kernelspec": {
   "display_name": "Python 3.9.5 64-bit ('ABD2021': conda)",
   "language": "python",
   "name": "python3"
  },
  "language_info": {
   "name": "python",
   "version": "3.9.5"
  },
  "orig_nbformat": 4
 },
 "nbformat": 4,
 "nbformat_minor": 2
}
