{
 "cells": [
  {
   "cell_type": "markdown",
   "metadata": {
    "collapsed": true,
    "slideshow": {
     "slide_type": "slide"
    }
   },
   "source": [
    "# Programowanie w języku Python\n",
    "\n",
    "## Moduły i pakiety\n",
    "\n",
    "### dr inż. Waldemar Bauer"
   ]
  },
  {
   "cell_type": "markdown",
   "metadata": {
    "slideshow": {
     "slide_type": "slide"
    }
   },
   "source": [
    "## Moduły\n",
    "\n",
    "- W Pythonie moduł to każdy plik z rozszerzeniem __.py__ zawierający kod programu.\n",
    "- Pod [linkiem](https://docs.python.org/3.9/py-modindex.html) znajduje się spis standardowych bibliotek Pythona.\n",
    "- Do używania kodu z modułów w programie używamy _import_"
   ]
  },
  {
   "cell_type": "markdown",
   "metadata": {
    "slideshow": {
     "slide_type": "subslide"
    }
   },
   "source": [
    "## modul.py\n",
    "\n",
    "- Moduł przykładowy znajdujący się w tym samym folderze \n",
    "- Zawiera definicję:\n",
    "    - dwóch zmiennych \n",
    "    - dwóch funkcji"
   ]
  },
  {
   "cell_type": "markdown",
   "metadata": {
    "slideshow": {
     "slide_type": "subslide"
    }
   },
   "source": [
    "## Import modułów\n",
    "\n",
    "- Wczytanie całego modułu dokonujemy wedłóg następującego schematu:\n",
    "```python\n",
    "import scieżka_pakietu [as alias]\n",
    "```\n",
    "- Wczytanie wybranych elementów modułu jest możliwe poprzez:\n",
    "```python\n",
    "from scieżka_pakietu import nazwa_elementu\n",
    "```"
   ]
  },
  {
   "cell_type": "markdown",
   "metadata": {
    "slideshow": {
     "slide_type": "subslide"
    }
   },
   "source": [
    "## Przykład importu własnego modułu\n"
   ]
  },
  {
   "cell_type": "code",
   "execution_count": 5,
   "metadata": {
    "slideshow": {
     "slide_type": "fragment"
    }
   },
   "outputs": [
    {
     "name": "stdout",
     "output_type": "stream",
     "text": [
      "10\n"
     ]
    }
   ],
   "source": [
    "import modul\n",
    "\n",
    "print(modul.my_int_variable)"
   ]
  },
  {
   "cell_type": "code",
   "execution_count": 6,
   "metadata": {
    "slideshow": {
     "slide_type": "fragment"
    }
   },
   "outputs": [
    {
     "name": "stdout",
     "output_type": "stream",
     "text": [
      "20\n"
     ]
    }
   ],
   "source": [
    "print(modul.add(10,10))"
   ]
  },
  {
   "cell_type": "markdown",
   "metadata": {
    "slideshow": {
     "slide_type": "subslide"
    }
   },
   "source": [
    "## Import modułu z aliasem"
   ]
  },
  {
   "cell_type": "code",
   "execution_count": 8,
   "metadata": {
    "slideshow": {
     "slide_type": "fragment"
    }
   },
   "outputs": [
    {
     "name": "stdout",
     "output_type": "stream",
     "text": [
      "[10, 1, 2, 3]\n"
     ]
    }
   ],
   "source": [
    "import modul as m\n",
    "\n",
    "print(m.my_list_variable)"
   ]
  },
  {
   "cell_type": "code",
   "execution_count": 9,
   "metadata": {
    "slideshow": {
     "slide_type": "fragment"
    }
   },
   "outputs": [
    {
     "name": "stdout",
     "output_type": "stream",
     "text": [
      "0\n"
     ]
    }
   ],
   "source": [
    "print(m.dif(10,10))"
   ]
  },
  {
   "cell_type": "markdown",
   "metadata": {
    "slideshow": {
     "slide_type": "subslide"
    }
   },
   "source": [
    "## Import wybranych elementów z modułu"
   ]
  },
  {
   "cell_type": "code",
   "execution_count": 11,
   "metadata": {
    "slideshow": {
     "slide_type": "fragment"
    }
   },
   "outputs": [
    {
     "name": "stdout",
     "output_type": "stream",
     "text": [
      "[10, 1, 2, 3]\n"
     ]
    }
   ],
   "source": [
    "from modul import my_list_variable, add \n",
    "\n",
    "print(my_list_variable)\n"
   ]
  },
  {
   "cell_type": "code",
   "execution_count": 12,
   "metadata": {
    "slideshow": {
     "slide_type": "fragment"
    }
   },
   "outputs": [
    {
     "name": "stdout",
     "output_type": "stream",
     "text": [
      "6\n"
     ]
    },
    {
     "ename": "NameError",
     "evalue": "name 'diff' is not defined",
     "output_type": "error",
     "traceback": [
      "\u001b[0;31m---------------------------------------------------------------------------\u001b[0m",
      "\u001b[0;31mNameError\u001b[0m                                 Traceback (most recent call last)",
      "Cell \u001b[0;32mIn[12], line 3\u001b[0m\n\u001b[1;32m      1\u001b[0m \u001b[38;5;28mprint\u001b[39m(add(\u001b[38;5;241m3\u001b[39m,\u001b[38;5;241m3\u001b[39m))\n\u001b[0;32m----> 3\u001b[0m \u001b[38;5;28mprint\u001b[39m(diff(\u001b[38;5;241m3\u001b[39m,\u001b[38;5;241m3\u001b[39m))\n",
      "\u001b[0;31mNameError\u001b[0m: name 'diff' is not defined"
     ]
    }
   ],
   "source": [
    "print(add(3,3))\n",
    "\n",
    "print(diff(3,3))"
   ]
  },
  {
   "cell_type": "markdown",
   "metadata": {
    "slideshow": {
     "slide_type": "subslide"
    }
   },
   "source": [
    "## Biblioteki standardowe\n",
    "\n",
    "- Zbiór modułów Python umożliwiające rozszerzenie podstawowych funkcjonalności.\n",
    "- Instalują się wraz z Pythonem.\n",
    "- Przykładowe biblioteki wraz z zastosowaniem:\n",
    "    - math - funkcje i stałe matematyczne,\n",
    "    - os - interfejsy dla różnych systemów operacyjnych,\n",
    "    - random - generator liczb losowych,\n",
    "    - datetime - podstawowy formaty czasu i daty,\n",
    "    - venv - tworzenie wirtualnych środowisk\n",
    "    "
   ]
  },
  {
   "cell_type": "markdown",
   "metadata": {
    "slideshow": {
     "slide_type": "subslide"
    }
   },
   "source": [
    "## Import biblotek standardowych"
   ]
  },
  {
   "cell_type": "code",
   "execution_count": 13,
   "metadata": {
    "slideshow": {
     "slide_type": "fragment"
    }
   },
   "outputs": [
    {
     "name": "stdout",
     "output_type": "stream",
     "text": [
      "3.141592653589793\n"
     ]
    }
   ],
   "source": [
    "import math\n",
    "\n",
    "print(math.pi)"
   ]
  },
  {
   "cell_type": "markdown",
   "metadata": {
    "slideshow": {
     "slide_type": "subslide"
    }
   },
   "source": [
    "## Przeglądanie modułów\n",
    "\n",
    "- Do zapoznania się z funkcjonalnością modułów podstawowych służy dokumentacja [Pythona](https://docs.python.org/3/)\n",
    "- Możliwe jest przeglądanie zawartości modułu za pomocą funkcji _dir()_ i _help()_"
   ]
  },
  {
   "cell_type": "markdown",
   "metadata": {
    "slideshow": {
     "slide_type": "subslide"
    }
   },
   "source": [
    "## Przykład użycia dir i help"
   ]
  },
  {
   "cell_type": "code",
   "execution_count": 16,
   "metadata": {
    "slideshow": {
     "slide_type": "fragment"
    }
   },
   "outputs": [
    {
     "name": "stdout",
     "output_type": "stream",
     "text": [
      "['__doc__', '__file__', '__loader__', '__name__', '__package__', '__spec__', 'acos', 'acosh', 'asin', 'asinh', 'atan', 'atan2', 'atanh', 'cbrt', 'ceil', 'comb', 'copysign', 'cos', 'cosh', 'degrees', 'dist', 'e', 'erf', 'erfc', 'exp', 'exp2', 'expm1', 'fabs', 'factorial', 'floor', 'fmod', 'frexp', 'fsum', 'gamma', 'gcd', 'hypot', 'inf', 'isclose', 'isfinite', 'isinf', 'isnan', 'isqrt', 'lcm', 'ldexp', 'lgamma', 'log', 'log10', 'log1p', 'log2', 'modf', 'nan', 'nextafter', 'perm', 'pi', 'pow', 'prod', 'radians', 'remainder', 'sin', 'sinh', 'sqrt', 'tan', 'tanh', 'tau', 'trunc', 'ulp']\n"
     ]
    }
   ],
   "source": [
    "print(dir(math))"
   ]
  },
  {
   "cell_type": "code",
   "execution_count": 20,
   "metadata": {
    "slideshow": {
     "slide_type": "fragment"
    }
   },
   "outputs": [
    {
     "name": "stdout",
     "output_type": "stream",
     "text": [
      "Help on built-in function sqrt in module math:\n",
      "\n",
      "sqrt(x, /)\n",
      "    Return the square root of x.\n",
      "\n"
     ]
    }
   ],
   "source": [
    "help(math.sin)"
   ]
  },
  {
   "cell_type": "markdown",
   "metadata": {
    "slideshow": {
     "slide_type": "slide"
    }
   },
   "source": [
    "## Złe praktyki w importowaniu\n",
    "\n",
    "- Importowanie nie używanych w programie bibliotek \n",
    "- Używanie w strukturze import symbolu __*__"
   ]
  },
  {
   "cell_type": "code",
   "execution_count": 21,
   "metadata": {
    "slideshow": {
     "slide_type": "fragment"
    }
   },
   "outputs": [],
   "source": [
    "import os\n",
    "\n",
    "from math import *\n",
    "from modul import *"
   ]
  },
  {
   "cell_type": "code",
   "execution_count": 22,
   "metadata": {
    "slideshow": {
     "slide_type": "fragment"
    }
   },
   "outputs": [
    {
     "data": {
      "text/plain": [
       "3.14"
      ]
     },
     "execution_count": 22,
     "metadata": {},
     "output_type": "execute_result"
    }
   ],
   "source": [
    "pi"
   ]
  },
  {
   "cell_type": "code",
   "execution_count": 23,
   "metadata": {
    "slideshow": {
     "slide_type": "fragment"
    }
   },
   "outputs": [
    {
     "name": "stdout",
     "output_type": "stream",
     "text": [
      "7\n"
     ]
    }
   ],
   "source": [
    "sin(7)"
   ]
  },
  {
   "cell_type": "code",
   "execution_count": 24,
   "metadata": {
    "slideshow": {
     "slide_type": "fragment"
    }
   },
   "outputs": [
    {
     "data": {
      "text/plain": [
       "3.141592653589793"
      ]
     },
     "execution_count": 24,
     "metadata": {},
     "output_type": "execute_result"
    }
   ],
   "source": [
    "math.pi"
   ]
  },
  {
   "cell_type": "markdown",
   "metadata": {
    "slideshow": {
     "slide_type": "slide"
    }
   },
   "source": [
    "## Pakiety \n",
    "\n",
    "- Pakiety to w zasadzie sposób organizowania kodu z modułami za pomocą folderów.\n",
    "- Pakiet jest zatem 'pojemnikiem' na wiele modułów.\n",
    "- Projekty za zwyczaj zasierają wiele modułów dla czytelności najlepeij organozować je w foldery.\n",
    "- Pozwala to na zwiększenie czytelnosci kodu.\n",
    "- Nazw pakietów powinny być zanczące a moduły w nich zawarte powinny tworzyć logiczną całość."
   ]
  },
  {
   "cell_type": "markdown",
   "metadata": {
    "slideshow": {
     "slide_type": "subslide"
    }
   },
   "source": [
    "## Przykład wczytania pakietu własnego"
   ]
  },
  {
   "cell_type": "code",
   "execution_count": 25,
   "metadata": {
    "slideshow": {
     "slide_type": "fragment"
    }
   },
   "outputs": [
    {
     "name": "stdout",
     "output_type": "stream",
     "text": [
      "10\n"
     ]
    }
   ],
   "source": [
    "import pakiet.modul_pakiet as pmp\n",
    "\n",
    "print(pmp.pakiet_var)"
   ]
  },
  {
   "cell_type": "code",
   "execution_count": 26,
   "metadata": {
    "slideshow": {
     "slide_type": "fragment"
    }
   },
   "outputs": [
    {
     "name": "stdout",
     "output_type": "stream",
     "text": [
      "30\n"
     ]
    }
   ],
   "source": [
    "print(pmp.add(10,10,10))"
   ]
  },
  {
   "cell_type": "markdown",
   "metadata": {
    "slideshow": {
     "slide_type": "slide"
    }
   },
   "source": [
    "## Zarządzanie pakietami biblotecznymi\n",
    "\n",
    "- Pakiety biblioteczne to takie które można zainstalować przez menagera pakieów.\n",
    "- Pakiety te tworzone są według ściśle określonych zasad, ale na tym wykładzie nie będziemy poruszać tego tematu.\n",
    "- Zarządzanie pakietami odbywa się przez menagera pakietów __pip__ (od wersji Python 3.4 jest domyślnym menagerem).\n",
    "- Spis wszystkich dostępnych biblotek dostępny jest na stronie https://pypi.org/project/pip/  "
   ]
  },
  {
   "cell_type": "markdown",
   "metadata": {
    "slideshow": {
     "slide_type": "slide"
    }
   },
   "source": [
    "## Wirtualne środowisko Pythona\n",
    "\n",
    "- Wirtualne środowiska pomagają w pracy grupowej w rozwijaniu oprogramownaia.\n",
    "- Środowiska wirtualne utrzymują zależności w oddzielnych \"piaskownicach\" przez co pozwalają na posiadanie wielu niezależnych wersji środowiska."
   ]
  },
  {
   "cell_type": "markdown",
   "metadata": {
    "slideshow": {
     "slide_type": "fragment"
    }
   },
   "source": [
    "## Tworzenie wirtualnego środowiska z użyciem venv\n",
    "\n",
    "```cmd\n",
    "\n",
    "python -m venv /path/to/new/virtual/environment\n",
    "\n",
    "```"
   ]
  },
  {
   "cell_type": "markdown",
   "metadata": {
    "slideshow": {
     "slide_type": "subslide"
    }
   },
   "source": [
    "## Używanie wirtualnych środowisk\n",
    "\n",
    "- Tworzenie środowiska: virtualenv twoja_nazwa_środowiska\n",
    "- Aktywacja środowiska: \n",
    "    - Linux/MAC: source twoja_nazwa_środowiska/bin/activate\n",
    "    - Windows: twoja_nazwa_środowiska\\Scripts\\activate\n",
    "- Dezaktywacja środowisko po zakończeniu pracy: deactivate "
   ]
  },
  {
   "cell_type": "markdown",
   "metadata": {
    "slideshow": {
     "slide_type": "subslide"
    }
   },
   "source": [
    "## Podstawowe wywołanie pip\n",
    "\n",
    "- pip działa jako samodzielny program w konsoli \n",
    "```cmd\n",
    "pip <argumenty>\n",
    "```\n",
    "-lub jako skrypt pythona w konsoli\n",
    "```cmd\n",
    "python -m pip <argumenty>\n",
    "```"
   ]
  },
  {
   "cell_type": "markdown",
   "metadata": {
    "slideshow": {
     "slide_type": "subslide"
    }
   },
   "source": [
    "## Podstawy używania pip"
   ]
  },
  {
   "cell_type": "code",
   "execution_count": 27,
   "metadata": {
    "slideshow": {
     "slide_type": "fragment"
    }
   },
   "outputs": [
    {
     "name": "stdout",
     "output_type": "stream",
     "text": [
      "pip 22.3.1 from /opt/homebrew/lib/python3.9/site-packages/pip (python 3.9)\r\n"
     ]
    }
   ],
   "source": [
    "#sprawdzenie wersji pip \n",
    "!pip --version"
   ]
  },
  {
   "cell_type": "code",
   "execution_count": 30,
   "metadata": {
    "slideshow": {
     "slide_type": "fragment"
    }
   },
   "outputs": [
    {
     "name": "stdout",
     "output_type": "stream",
     "text": [
      "\u001b[33mDEPRECATION: Configuring installation scheme with distutils config files is deprecated and will no longer work in the near future. If you are using a Homebrew or Linuxbrew Python, please see discussion at https://github.com/Homebrew/homebrew-core/issues/76621\u001b[0m\u001b[33m\n",
      "\u001b[0mRequirement already satisfied: numpy in /opt/homebrew/lib/python3.9/site-packages (1.23.4)\n",
      "\u001b[33mDEPRECATION: Configuring installation scheme with distutils config files is deprecated and will no longer work in the near future. If you are using a Homebrew or Linuxbrew Python, please see discussion at https://github.com/Homebrew/homebrew-core/issues/76621\u001b[0m\u001b[33m\n",
      "\u001b[0m\n",
      "\u001b[1m[\u001b[0m\u001b[34;49mnotice\u001b[0m\u001b[1;39;49m]\u001b[0m\u001b[39;49m A new release of pip available: \u001b[0m\u001b[31;49m22.3.1\u001b[0m\u001b[39;49m -> \u001b[0m\u001b[32;49m23.3.1\u001b[0m\n",
      "\u001b[1m[\u001b[0m\u001b[34;49mnotice\u001b[0m\u001b[1;39;49m]\u001b[0m\u001b[39;49m To update, run: \u001b[0m\u001b[32;49mpython3.9 -m pip install --upgrade pip\u001b[0m\n"
     ]
    }
   ],
   "source": [
    "# instalacja jednego pakietu\n",
    "!pip install numpy"
   ]
  },
  {
   "cell_type": "code",
   "execution_count": 31,
   "metadata": {
    "slideshow": {
     "slide_type": "subslide"
    }
   },
   "outputs": [
    {
     "name": "stdout",
     "output_type": "stream",
     "text": [
      "\u001b[33mDEPRECATION: Configuring installation scheme with distutils config files is deprecated and will no longer work in the near future. If you are using a Homebrew or Linuxbrew Python, please see discussion at https://github.com/Homebrew/homebrew-core/issues/76621\u001b[0m\u001b[33m\n",
      "\u001b[0mRequirement already satisfied: numpy in /opt/homebrew/lib/python3.9/site-packages (1.23.4)\n",
      "Requirement already satisfied: scipy in /opt/homebrew/lib/python3.9/site-packages (1.9.3)\n",
      "Requirement already satisfied: pandas in /opt/homebrew/lib/python3.9/site-packages (1.5.1)\n",
      "Requirement already satisfied: pytz>=2020.1 in /opt/homebrew/lib/python3.9/site-packages (from pandas) (2021.1)\n",
      "Requirement already satisfied: python-dateutil>=2.8.1 in /opt/homebrew/lib/python3.9/site-packages (from pandas) (2.8.2)\n",
      "Requirement already satisfied: six>=1.5 in /opt/homebrew/lib/python3.9/site-packages (from python-dateutil>=2.8.1->pandas) (1.16.0)\n",
      "\u001b[33mDEPRECATION: Configuring installation scheme with distutils config files is deprecated and will no longer work in the near future. If you are using a Homebrew or Linuxbrew Python, please see discussion at https://github.com/Homebrew/homebrew-core/issues/76621\u001b[0m\u001b[33m\n",
      "\u001b[0m\n",
      "\u001b[1m[\u001b[0m\u001b[34;49mnotice\u001b[0m\u001b[1;39;49m]\u001b[0m\u001b[39;49m A new release of pip available: \u001b[0m\u001b[31;49m22.3.1\u001b[0m\u001b[39;49m -> \u001b[0m\u001b[32;49m23.3.1\u001b[0m\n",
      "\u001b[1m[\u001b[0m\u001b[34;49mnotice\u001b[0m\u001b[1;39;49m]\u001b[0m\u001b[39;49m To update, run: \u001b[0m\u001b[32;49mpython3.9 -m pip install --upgrade pip\u001b[0m\n"
     ]
    }
   ],
   "source": [
    "#instalacja wielu pakietów jednocześnie\n",
    "\n",
    "!pip install numpy scipy pandas"
   ]
  },
  {
   "cell_type": "code",
   "execution_count": 1,
   "metadata": {
    "slideshow": {
     "slide_type": "fragment"
    }
   },
   "outputs": [
    {
     "name": "stdout",
     "output_type": "stream",
     "text": [
      "zsh:1: = not found\r\n"
     ]
    }
   ],
   "source": [
    "#instalacja pakietów o zadanej wersji\n",
    "\n",
    "!pip install numpy == 1.17"
   ]
  },
  {
   "cell_type": "code",
   "execution_count": null,
   "metadata": {
    "slideshow": {
     "slide_type": "fragment"
    }
   },
   "outputs": [],
   "source": [
    "# odinstalowanie pakietu\n",
    "pip uninstall numpy"
   ]
  },
  {
   "cell_type": "code",
   "execution_count": 28,
   "metadata": {
    "slideshow": {
     "slide_type": "subslide"
    }
   },
   "outputs": [
    {
     "name": "stdout",
     "output_type": "stream",
     "text": [
      "Package                                           Version   Editable project location\r\n",
      "------------------------------------------------- --------- ------------------------------------------------------------------------------\r\n",
      "agroutils                                         0.1.0     /Users/waldemarbauer/git/DiseaseModelsCalculation/TIER/Command files/agroutils\r\n",
      "alabaster                                         0.7.12\r\n",
      "argh                                              0.26.2\r\n",
      "arrow                                             1.1.1\r\n",
      "attrs                                             21.2.0\r\n",
      "Babel                                             2.11.0\r\n",
      "binaryornot                                       0.4.4\r\n",
      "bleach                                            5.0.1\r\n",
      "boto3                                             1.22.12\r\n",
      "botocore                                          1.25.12\r\n",
      "bump2version                                      0.5.11\r\n",
      "certifi                                           2021.5.30\r\n",
      "cffi                                              1.15.0\r\n",
      "chardet                                           4.0.0\r\n",
      "charset-normalizer                                2.0.3\r\n",
      "click                                             8.0.1\r\n",
      "colorama                                          0.4.5\r\n",
      "cookiecutter                                      1.7.3\r\n",
      "coverage                                          4.5.4\r\n",
      "cycler                                            0.10.0\r\n",
      "distlib                                           0.3.6\r\n",
      "docutils                                          0.19\r\n",
      "entrypoints                                       0.3\r\n",
      "et-xmlfile                                        1.1.0\r\n",
      "filelock                                          3.8.0\r\n",
      "flake8                                            3.7.8\r\n",
      "greenlet                                          1.1.0\r\n",
      "idna                                              3.2\r\n",
      "imagesize                                         1.4.1\r\n",
      "importlib-metadata                                5.0.0\r\n",
      "iniconfig                                         1.1.1\r\n",
      "jedi                                              0.17.0\r\n",
      "Jinja2                                            3.0.1\r\n",
      "jinja2-time                                       0.2.0\r\n",
      "jmespath                                          1.0.0\r\n",
      "joblib                                            1.0.1\r\n",
      "keyboard                                          0.13.5\r\n",
      "kiwisolver                                        1.3.1\r\n",
      "MarkupSafe                                        2.0.1\r\n",
      "matplotlib                                        3.4.2\r\n",
      "mccabe                                            0.6.1\r\n",
      "memory-profiler                                   0.61.0\r\n",
      "mysql                                             0.0.3\r\n",
      "mysql-connector-python                            8.0.31\r\n",
      "mysqlclient                                       2.1.1\r\n",
      "numpy                                             1.23.4\r\n",
      "openpyxl                                          3.0.7\r\n",
      "packaging                                         21.0\r\n",
      "pandas                                            1.5.1\r\n",
      "pathtools                                         0.1.2\r\n",
      "patsy                                             0.5.3\r\n",
      "Pillow                                            8.3.1\r\n",
      "pip                                               22.3.1\r\n",
      "pkginfo                                           1.8.3\r\n",
      "platformdirs                                      2.5.3\r\n",
      "pluggy                                            0.13.1\r\n",
      "poyo                                              0.5.0\r\n",
      "protobuf                                          3.17.3\r\n",
      "psutil                                            5.9.6\r\n",
      "PuLP                                              2.6.0\r\n",
      "py                                                1.10.0\r\n",
      "pycodestyle                                       2.5.0\r\n",
      "pycparser                                         2.21\r\n",
      "pyflakes                                          2.1.1\r\n",
      "Pyment                                            0.3.3\r\n",
      "PyMySQL                                           1.0.2\r\n",
      "pyobjc                                            8.5\r\n",
      "pyobjc-core                                       8.5\r\n",
      "pyobjc-framework-Accessibility                    8.5\r\n",
      "pyobjc-framework-Accounts                         8.5\r\n",
      "pyobjc-framework-AddressBook                      8.5\r\n",
      "pyobjc-framework-AdServices                       8.5\r\n",
      "pyobjc-framework-AdSupport                        8.5\r\n",
      "pyobjc-framework-AppleScriptKit                   8.5\r\n",
      "pyobjc-framework-AppleScriptObjC                  8.5\r\n",
      "pyobjc-framework-ApplicationServices              8.5\r\n",
      "pyobjc-framework-AppTrackingTransparency          8.5\r\n",
      "pyobjc-framework-AudioVideoBridging               8.5\r\n",
      "pyobjc-framework-AuthenticationServices           8.5\r\n",
      "pyobjc-framework-AutomaticAssessmentConfiguration 8.5\r\n",
      "pyobjc-framework-Automator                        8.5\r\n",
      "pyobjc-framework-AVFoundation                     8.5\r\n",
      "pyobjc-framework-AVKit                            8.5\r\n",
      "pyobjc-framework-BusinessChat                     8.5\r\n",
      "pyobjc-framework-CalendarStore                    8.5\r\n",
      "pyobjc-framework-CallKit                          8.5\r\n",
      "pyobjc-framework-CFNetwork                        8.5\r\n",
      "pyobjc-framework-ClassKit                         8.5\r\n",
      "pyobjc-framework-CloudKit                         8.5\r\n",
      "pyobjc-framework-Cocoa                            8.5\r\n",
      "pyobjc-framework-Collaboration                    8.5\r\n",
      "pyobjc-framework-ColorSync                        8.5\r\n",
      "pyobjc-framework-Contacts                         8.5\r\n",
      "pyobjc-framework-ContactsUI                       8.5\r\n",
      "pyobjc-framework-CoreAudio                        8.5\r\n",
      "pyobjc-framework-CoreAudioKit                     8.5\r\n",
      "pyobjc-framework-CoreBluetooth                    8.5\r\n",
      "pyobjc-framework-CoreData                         8.5\r\n",
      "pyobjc-framework-CoreHaptics                      8.5\r\n",
      "pyobjc-framework-CoreLocation                     8.5\r\n",
      "pyobjc-framework-CoreMedia                        8.5\r\n",
      "pyobjc-framework-CoreMediaIO                      8.5\r\n",
      "pyobjc-framework-CoreMIDI                         8.5\r\n",
      "pyobjc-framework-CoreML                           8.5\r\n",
      "pyobjc-framework-CoreMotion                       8.5\r\n",
      "pyobjc-framework-CoreServices                     8.5\r\n",
      "pyobjc-framework-CoreSpotlight                    8.5\r\n",
      "pyobjc-framework-CoreText                         8.5\r\n",
      "pyobjc-framework-CoreWLAN                         8.5\r\n",
      "pyobjc-framework-CryptoTokenKit                   8.5\r\n",
      "pyobjc-framework-DataDetection                    8.5\r\n",
      "pyobjc-framework-DeviceCheck                      8.5\r\n",
      "pyobjc-framework-DictionaryServices               8.5\r\n",
      "pyobjc-framework-DiscRecording                    8.5\r\n",
      "pyobjc-framework-DiscRecordingUI                  8.5\r\n",
      "pyobjc-framework-DiskArbitration                  8.5\r\n",
      "pyobjc-framework-DVDPlayback                      8.5\r\n",
      "pyobjc-framework-EventKit                         8.5\r\n",
      "pyobjc-framework-ExceptionHandling                8.5\r\n",
      "pyobjc-framework-ExecutionPolicy                  8.5\r\n",
      "pyobjc-framework-ExternalAccessory                8.5\r\n",
      "pyobjc-framework-FileProvider                     8.5\r\n",
      "pyobjc-framework-FileProviderUI                   8.5\r\n",
      "pyobjc-framework-FinderSync                       8.5\r\n",
      "pyobjc-framework-FSEvents                         8.5\r\n",
      "pyobjc-framework-GameCenter                       8.5\r\n",
      "pyobjc-framework-GameController                   8.5\r\n",
      "pyobjc-framework-GameKit                          8.5\r\n",
      "pyobjc-framework-GameplayKit                      8.5\r\n",
      "pyobjc-framework-ImageCaptureCore                 8.5\r\n",
      "pyobjc-framework-IMServicePlugIn                  8.5\r\n",
      "pyobjc-framework-InputMethodKit                   8.5\r\n",
      "pyobjc-framework-InstallerPlugins                 8.5\r\n",
      "pyobjc-framework-InstantMessage                   8.5\r\n",
      "pyobjc-framework-Intents                          8.5\r\n",
      "pyobjc-framework-IntentsUI                        8.5\r\n",
      "pyobjc-framework-IOSurface                        8.5\r\n",
      "pyobjc-framework-iTunesLibrary                    8.5\r\n",
      "pyobjc-framework-KernelManagement                 8.5\r\n",
      "pyobjc-framework-LatentSemanticMapping            8.5\r\n",
      "pyobjc-framework-LaunchServices                   8.5\r\n",
      "pyobjc-framework-libdispatch                      8.5\r\n",
      "pyobjc-framework-LinkPresentation                 8.5\r\n",
      "pyobjc-framework-LocalAuthentication              8.5\r\n",
      "pyobjc-framework-LocalAuthenticationEmbeddedUI    8.5\r\n",
      "pyobjc-framework-MailKit                          8.5\r\n",
      "pyobjc-framework-MapKit                           8.5\r\n",
      "pyobjc-framework-MediaAccessibility               8.5\r\n",
      "pyobjc-framework-MediaLibrary                     8.5\r\n",
      "pyobjc-framework-MediaPlayer                      8.5\r\n",
      "pyobjc-framework-MediaToolbox                     8.5\r\n",
      "pyobjc-framework-Metal                            8.5\r\n",
      "pyobjc-framework-MetalKit                         8.5\r\n",
      "pyobjc-framework-MetalPerformanceShaders          8.5\r\n",
      "pyobjc-framework-MetalPerformanceShadersGraph     8.5\r\n",
      "pyobjc-framework-MetricKit                        8.5\r\n",
      "pyobjc-framework-MLCompute                        8.5\r\n",
      "pyobjc-framework-ModelIO                          8.5\r\n",
      "pyobjc-framework-MultipeerConnectivity            8.5\r\n",
      "pyobjc-framework-NaturalLanguage                  8.5\r\n",
      "pyobjc-framework-NetFS                            8.5\r\n",
      "pyobjc-framework-Network                          8.5\r\n",
      "pyobjc-framework-NetworkExtension                 8.5\r\n",
      "pyobjc-framework-NotificationCenter               8.5\r\n",
      "pyobjc-framework-OpenDirectory                    8.5\r\n",
      "pyobjc-framework-OSAKit                           8.5\r\n",
      "pyobjc-framework-OSLog                            8.5\r\n",
      "pyobjc-framework-PassKit                          8.5\r\n",
      "pyobjc-framework-PencilKit                        8.5\r\n",
      "pyobjc-framework-Photos                           8.5\r\n",
      "pyobjc-framework-PhotosUI                         8.5\r\n",
      "pyobjc-framework-PreferencePanes                  8.5\r\n",
      "pyobjc-framework-PushKit                          8.5\r\n",
      "pyobjc-framework-Quartz                           8.5\r\n",
      "pyobjc-framework-QuickLookThumbnailing            8.5\r\n",
      "pyobjc-framework-ReplayKit                        8.5\r\n",
      "pyobjc-framework-SafariServices                   8.5\r\n",
      "pyobjc-framework-SceneKit                         8.5\r\n",
      "pyobjc-framework-ScreenCaptureKit                 8.5\r\n",
      "pyobjc-framework-ScreenSaver                      8.5\r\n",
      "pyobjc-framework-ScreenTime                       8.5\r\n",
      "pyobjc-framework-ScriptingBridge                  8.5\r\n",
      "pyobjc-framework-SearchKit                        8.5\r\n",
      "pyobjc-framework-Security                         8.5\r\n",
      "pyobjc-framework-SecurityFoundation               8.5\r\n",
      "pyobjc-framework-SecurityInterface                8.5\r\n",
      "pyobjc-framework-ServiceManagement                8.5\r\n",
      "pyobjc-framework-ShazamKit                        8.5\r\n",
      "pyobjc-framework-Social                           8.5\r\n",
      "pyobjc-framework-SoundAnalysis                    8.5\r\n",
      "pyobjc-framework-Speech                           8.5\r\n",
      "pyobjc-framework-SpriteKit                        8.5\r\n",
      "pyobjc-framework-StoreKit                         8.5\r\n",
      "pyobjc-framework-SyncServices                     8.5\r\n",
      "pyobjc-framework-SystemConfiguration              8.5\r\n",
      "pyobjc-framework-SystemExtensions                 8.5\r\n",
      "pyobjc-framework-UniformTypeIdentifiers           8.5\r\n",
      "pyobjc-framework-UserNotifications                8.5\r\n",
      "pyobjc-framework-UserNotificationsUI              8.5\r\n",
      "pyobjc-framework-VideoSubscriberAccount           8.5\r\n",
      "pyobjc-framework-VideoToolbox                     8.5\r\n",
      "pyobjc-framework-Virtualization                   8.5\r\n",
      "pyobjc-framework-Vision                           8.5\r\n",
      "pyobjc-framework-WebKit                           8.5\r\n",
      "pyparsing                                         2.4.7\r\n",
      "PySimpleGUI                                       4.60.1\r\n",
      "pytest                                            6.2.4\r\n",
      "python-dateutil                                   2.8.2\r\n",
      "python-slugify                                    5.0.2\r\n",
      "pytz                                              2021.1\r\n",
      "PyYAML                                            6.0\r\n",
      "Random-Word                                       1.0.11\r\n",
      "readme-renderer                                   37.3\r\n",
      "requests                                          2.26.0\r\n",
      "requests-toolbelt                                 0.10.1\r\n",
      "s3transfer                                        0.5.2\r\n",
      "scikit-learn                                      1.1.3\r\n",
      "scipy                                             1.9.3\r\n",
      "seaborn                                           0.12.1\r\n",
      "setuptools                                        65.6.3\r\n",
      "six                                               1.16.0\r\n",
      "sklearn                                           0.0.post1\r\n",
      "snowballstemmer                                   2.2.0\r\n",
      "Sphinx                                            1.8.5\r\n",
      "sphinxcontrib-serializinghtml                     1.1.5\r\n",
      "sphinxcontrib-websupport                          1.2.4\r\n",
      "SQLAlchemy                                        1.4.36\r\n",
      "text-unidecode                                    1.3\r\n",
      "threadpoolctl                                     2.2.0\r\n",
      "toml                                              0.10.2\r\n",
      "tomli                                             2.0.1\r\n",
      "tox                                               3.14.0\r\n",
      "tqdm                                              4.64.1\r\n",
      "twine                                             1.14.0\r\n",
      "typing-extensions                                 3.10.0.0\r\n",
      "urllib3                                           1.26.6\r\n",
      "validate-email                                    1.3\r\n",
      "virtualenv                                        20.16.6\r\n",
      "watchdog                                          0.9.0\r\n",
      "webencodings                                      0.5.1\r\n",
      "wheel                                             0.38.4\r\n",
      "zipp                                              3.5.0\r\n",
      "\r\n",
      "\u001b[1m[\u001b[0m\u001b[34;49mnotice\u001b[0m\u001b[1;39;49m]\u001b[0m\u001b[39;49m A new release of pip available: \u001b[0m\u001b[31;49m22.3.1\u001b[0m\u001b[39;49m -> \u001b[0m\u001b[32;49m23.3.1\u001b[0m\r\n",
      "\u001b[1m[\u001b[0m\u001b[34;49mnotice\u001b[0m\u001b[1;39;49m]\u001b[0m\u001b[39;49m To update, run: \u001b[0m\u001b[32;49mpython3.9 -m pip install --upgrade pip\u001b[0m\r\n"
     ]
    }
   ],
   "source": [
    "# lista zainstalowanych pakietów\n",
    "!pip list"
   ]
  },
  {
   "cell_type": "code",
   "execution_count": 32,
   "metadata": {
    "slideshow": {
     "slide_type": "fragment"
    }
   },
   "outputs": [],
   "source": [
    "# lista pakietów do wsółdzielaniarequ\n",
    "!pip freeze > plik.txt"
   ]
  },
  {
   "cell_type": "code",
   "execution_count": null,
   "metadata": {
    "slideshow": {
     "slide_type": "subslide"
    }
   },
   "outputs": [],
   "source": [
    "## instalacja z pliku\n",
    "!pip install -r requirements.txt"
   ]
  },
  {
   "cell_type": "code",
   "execution_count": null,
   "metadata": {},
   "outputs": [],
   "source": []
  }
 ],
 "metadata": {
  "celltoolbar": "Slideshow",
  "jupytext": {
   "formats": "ipynb"
  },
  "kernelspec": {
   "display_name": "Python 3 (ipykernel)",
   "language": "python",
   "name": "python3"
  },
  "language_info": {
   "codemirror_mode": {
    "name": "ipython",
    "version": 3
   },
   "file_extension": ".py",
   "mimetype": "text/x-python",
   "name": "python",
   "nbconvert_exporter": "python",
   "pygments_lexer": "ipython3",
   "version": "3.11.5"
  },
  "rise": {
   "autolaunch": true,
   "backimage": "img/tlo_agh.png"
  }
 },
 "nbformat": 4,
 "nbformat_minor": 2
}
