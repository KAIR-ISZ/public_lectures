{
 "cells": [
  {
   "cell_type": "markdown",
   "metadata": {
    "collapsed": true,
    "slideshow": {
     "slide_type": "slide"
    }
   },
   "source": [
    "# Programowanie w języku Python\n",
    "\n",
    "## Klasy i programowanie obiektowe\n",
    "\n",
    "### dr inż. Waldemar Bauer"
   ]
  },
  {
   "cell_type": "markdown",
   "metadata": {
    "slideshow": {
     "slide_type": "slide"
    }
   },
   "source": [
    "## Programowanie obiektowe \n",
    "\n",
    "- metoda strukturyzacji programu poprzez łączenie powiązanych właściwości i zachowań w pojedyncze obiekty. \n",
    "\n",
    "- obiekt zawiera atrubuty opisujące jej wlasnosci oraz funkcję które można na nim wykonywać\n"
   ]
  },
  {
   "cell_type": "markdown",
   "metadata": {
    "slideshow": {
     "slide_type": "subslide"
    }
   },
   "source": [
    "## Klasy \n",
    "\n",
    "- Sposób reprezentacji obiektów w Pythonie\n",
    "- Sposób deklarowania klasy:\n",
    "\n",
    "```python\n",
    "class MyFirstClass():\n",
    "    pass\n",
    "```"
   ]
  },
  {
   "cell_type": "markdown",
   "metadata": {
    "slideshow": {
     "slide_type": "subslide"
    }
   },
   "source": [
    "## Deklaracja vs inicjalizacja\n",
    "\n",
    "- deklaracja klasy to definicja jej struktury i funkcjonalności:"
   ]
  },
  {
   "cell_type": "code",
   "execution_count": 15,
   "metadata": {
    "slideshow": {
     "slide_type": "fragment"
    }
   },
   "outputs": [],
   "source": [
    "#deklaracja\n",
    "class Car():\n",
    "    pass"
   ]
  },
  {
   "cell_type": "markdown",
   "metadata": {
    "slideshow": {
     "slide_type": "fragment"
    }
   },
   "source": [
    "- inicjalizacja to stworzenie w pamięci operacyjnej instancji danego obiektu:"
   ]
  },
  {
   "cell_type": "code",
   "execution_count": 4,
   "metadata": {
    "slideshow": {
     "slide_type": "fragment"
    }
   },
   "outputs": [
    {
     "name": "stdout",
     "output_type": "stream",
     "text": [
      "car1=<__main__.Car object at 0x7f7eb8e75e80>\n",
      "car2=<__main__.Car object at 0x7f7ed8cbd940>\n"
     ]
    }
   ],
   "source": [
    "car1 = Car()\n",
    "car2 = Car()\n",
    "\n",
    "print(f'{car1=}')\n",
    "print(f'{car2=}')"
   ]
  },
  {
   "cell_type": "markdown",
   "metadata": {
    "slideshow": {
     "slide_type": "subslide"
    }
   },
   "source": [
    "## Porównanie obiektów"
   ]
  },
  {
   "cell_type": "code",
   "execution_count": 9,
   "metadata": {
    "slideshow": {
     "slide_type": "fragment"
    }
   },
   "outputs": [
    {
     "name": "stdout",
     "output_type": "stream",
     "text": [
      "car1 == car2: False\n",
      "type(car1) == type(car2): True\n",
      "car1 is car2: False\n"
     ]
    }
   ],
   "source": [
    "print(f'car1 == car2: {car1 == car2}')\n",
    "print(f'type(car1) == type(car2): {type(car1) == type(car2)}')\n",
    "print(f'car1 is car2: {car1 is car2}')\n"
   ]
  },
  {
   "cell_type": "markdown",
   "metadata": {
    "scrolled": true,
    "slideshow": {
     "slide_type": "slide"
    }
   },
   "source": [
    "## Konstruktor\n",
    "\n",
    "- Funkcja wywołująca się domyślnie przy tworzeniu instacji obiektu\n",
    "- W Python definiowana jako funckji \\_\\_init\\_\\_ bez parametrów (konstruktor domyślny) lub z prametrami (konstruktor sparametryzowany) "
   ]
  },
  {
   "cell_type": "code",
   "execution_count": null,
   "metadata": {
    "slideshow": {
     "slide_type": "fragment"
    }
   },
   "outputs": [],
   "source": [
    "class Car():\n",
    "    def __init__(self):\n",
    "        "
   ]
  },
  {
   "cell_type": "markdown",
   "metadata": {
    "slideshow": {
     "slide_type": "slide"
    }
   },
   "source": [
    "## Mapowanie wartości w listach\n",
    "\n",
    "- Mapowanie wartości to przekształcenie wszystkich wartości z listy/słownika zgodnie z zadaną regułą\n",
    "- W Pythonie umożliwiają je List comprahention  i funkcja _map()_\n",
    "\n",
    "Załóżmy, że chcemy obliczyć zniźkę 10% z cen podanych w liśie:\n"
   ]
  },
  {
   "cell_type": "code",
   "execution_count": 14,
   "metadata": {
    "slideshow": {
     "slide_type": "fragment"
    }
   },
   "outputs": [
    {
     "name": "stdout",
     "output_type": "stream",
     "text": [
      "car1 == car3: True\n",
      "car1 is car2: True\n"
     ]
    }
   ],
   "source": [
    "import copy\n",
    "car3 = car1\n",
    "\n",
    "print(f'car1 == car3: {car1 == car3}')\n",
    "print(f'car1 is car2: {car1 is car3}')"
   ]
  },
  {
   "cell_type": "code",
   "execution_count": null,
   "metadata": {},
   "outputs": [],
   "source": []
  }
 ],
 "metadata": {
  "celltoolbar": "Slideshow",
  "jupytext": {
   "formats": "ipynb"
  },
  "kernelspec": {
   "display_name": "Python 3 (ipykernel)",
   "language": "python",
   "name": "python3"
  },
  "language_info": {
   "codemirror_mode": {
    "name": "ipython",
    "version": 3
   },
   "file_extension": ".py",
   "mimetype": "text/x-python",
   "name": "python",
   "nbconvert_exporter": "python",
   "pygments_lexer": "ipython3",
   "version": "3.9.12"
  },
  "rise": {
   "autolaunch": true,
   "backimage": "img/tlo_agh.png"
  }
 },
 "nbformat": 4,
 "nbformat_minor": 2
}
