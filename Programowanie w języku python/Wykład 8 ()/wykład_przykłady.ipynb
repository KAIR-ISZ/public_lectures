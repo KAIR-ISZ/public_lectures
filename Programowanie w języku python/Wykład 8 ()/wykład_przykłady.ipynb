{
 "cells": [
  {
   "attachments": {},
   "cell_type": "markdown",
   "metadata": {},
   "source": [
    "## Deklarcja klasy"
   ]
  },
  {
   "cell_type": "code",
   "execution_count": null,
   "metadata": {},
   "outputs": [],
   "source": [
    "class Person():\n",
    "    pass"
   ]
  },
  {
   "attachments": {},
   "cell_type": "markdown",
   "metadata": {},
   "source": [
    "## Inicjalizacja vs deklaracja"
   ]
  },
  {
   "cell_type": "code",
   "execution_count": null,
   "metadata": {},
   "outputs": [],
   "source": [
    "per1 = Person()"
   ]
  },
  {
   "cell_type": "code",
   "execution_count": null,
   "metadata": {},
   "outputs": [],
   "source": [
    "type(per1)"
   ]
  },
  {
   "cell_type": "code",
   "execution_count": null,
   "metadata": {},
   "outputs": [],
   "source": [
    "id(per1)"
   ]
  },
  {
   "attachments": {},
   "cell_type": "markdown",
   "metadata": {},
   "source": [
    "## Konstruktor"
   ]
  },
  {
   "cell_type": "code",
   "execution_count": null,
   "metadata": {},
   "outputs": [],
   "source": [
    "import hashlib\n",
    "\n",
    "class Person():\n",
    "    \"\"\"_summary_ Klasa opisująca osobę\n",
    "    \"\"\"\n",
    "    nationality = 'Polska'\n",
    "\n",
    "    def __init__(self, name = 'Brak', surname = 'Brak') -> None:\n",
    "        self.__name = name\n",
    "        self.__surname = surname\n",
    "\n",
    "    def sey_hello(self):\n",
    "        print(f'Cześć jestem {self.__name} {self.__surname}')\n",
    "\n",
    "    def md5(self, word):\n",
    "        return hashlib.md5((self.__name + self.__surname + word).encode()).hexdigest()\n"
   ]
  },
  {
   "cell_type": "code",
   "execution_count": null,
   "metadata": {},
   "outputs": [],
   "source": [
    "per2 = Person('Jan','Kowalski')\n",
    "per3 = Person('Maria', 'Woda')\n",
    "per4 = Person()\n",
    "per5 = Person()"
   ]
  },
  {
   "cell_type": "code",
   "execution_count": null,
   "metadata": {},
   "outputs": [],
   "source": [
    "per2.sey_hello()\n",
    "per3.sey_hello()\n",
    "per4.sey_hello()\n",
    "per5.sey_hello()"
   ]
  },
  {
   "cell_type": "code",
   "execution_count": null,
   "metadata": {},
   "outputs": [],
   "source": [
    "per2 == per3"
   ]
  },
  {
   "cell_type": "code",
   "execution_count": null,
   "metadata": {},
   "outputs": [],
   "source": [
    "id(per5)"
   ]
  },
  {
   "cell_type": "code",
   "execution_count": null,
   "metadata": {},
   "outputs": [],
   "source": [
    "id(per4)"
   ]
  },
  {
   "cell_type": "code",
   "execution_count": null,
   "metadata": {},
   "outputs": [],
   "source": [
    "per2.md5('Python')"
   ]
  },
  {
   "cell_type": "code",
   "execution_count": null,
   "metadata": {},
   "outputs": [],
   "source": [
    "per2.md5('Waldek')"
   ]
  },
  {
   "attachments": {},
   "cell_type": "markdown",
   "metadata": {},
   "source": [
    "## Przeładowywanie operatorów "
   ]
  },
  {
   "cell_type": "code",
   "execution_count": null,
   "metadata": {},
   "outputs": [],
   "source": [
    "print(per2)"
   ]
  },
  {
   "cell_type": "code",
   "execution_count": null,
   "metadata": {},
   "outputs": [],
   "source": [
    "class Person():\n",
    "    \"\"\"_summary_ Klasa opisująca osobę\n",
    "    \"\"\"\n",
    "    nationality = 'Polska'\n",
    "\n",
    "    def __init__(self, name = 'Brak', surname = 'Brak') -> None:\n",
    "        self.__name = name\n",
    "        self.__surname = surname\n",
    "\n",
    "    def sey_hello(self):\n",
    "        print(f'Cześć jestem {self.__name} {self.__surname}')\n",
    "\n",
    "    def md5(self, word):\n",
    "        return hashlib.md5((self.__name + self.__surname + word).encode()).hexdigest()\n",
    "\n",
    "    def __str__(self) -> str:\n",
    "        return \"Dane osobowe:\\nImie: {0}\\nNazwisko: {1}\".format(self.__name, self.__surname)\n",
    "\n",
    "    def __pow__(self, other):\n",
    "        return (self.__name * len(other.__name), self.__surname * len(other.__surname))\n",
    "\n",
    "    def __eq__(self, __o: object) -> bool:\n",
    "        return (__o.nationality == self.nationality and __o.__name == self.__name and __o.__surname == self.__surname)"
   ]
  },
  {
   "cell_type": "code",
   "execution_count": null,
   "metadata": {},
   "outputs": [],
   "source": [
    "per6 = Person('Aldona', 'Kamińska')\n",
    "per7 = Person('Aldona', 'Kamińska')\n",
    "print(per6)"
   ]
  },
  {
   "attachments": {},
   "cell_type": "markdown",
   "metadata": {},
   "source": [
    "Addition\tp1 + p2\tp1.__add__(p2)\n",
    "Subtraction\tp1 - p2\tp1.__sub__(p2)\n",
    "Multiplication\tp1 * p2\tp1.__mul__(p2)\n",
    "Power\tp1 ** p2\tp1.__pow__(p2)\n",
    "Division\tp1 / p2\tp1.__truediv__(p2)\n",
    "Floor Division\tp1 // p2\tp1.__floordiv__(p2)\n",
    "Remainder (modulo)\tp1 % p2\tp1.__mod__(p2)\n",
    "Bitwise Left Shift\tp1 << p2\tp1.__lshift__(p2)\n",
    "Bitwise Right Shift\tp1 >> p2\tp1.__rshift__(p2)\n",
    "Bitwise AND\tp1 & p2\tp1.__and__(p2)\n",
    "Bitwise OR\tp1 | p2\tp1.__or__(p2)\n",
    "Bitwise XOR\tp1 ^ p2\tp1.__xor__(p2)\n",
    "Bitwise NOT\t~p1\tp1.__invert__()"
   ]
  },
  {
   "cell_type": "code",
   "execution_count": null,
   "metadata": {},
   "outputs": [],
   "source": [
    "per6 ** per7"
   ]
  },
  {
   "attachments": {},
   "cell_type": "markdown",
   "metadata": {},
   "source": [
    "Less than\tp1 < p2\tp1.__lt__(p2)\n",
    "Less than or equal to\tp1 <= p2\tp1.__le__(p2)\n",
    "Equal to\tp1 == p2\tp1.__eq__(p2)\n",
    "Not equal to\tp1 != p2\tp1.__ne__(p2)\n",
    "Greater than\tp1 > p2\tp1.__gt__(p2)\n",
    "Greater than or equal to\tp1 >= p2\tp1.__ge__(p2)"
   ]
  },
  {
   "cell_type": "code",
   "execution_count": null,
   "metadata": {},
   "outputs": [],
   "source": [
    "per6 == per7"
   ]
  },
  {
   "cell_type": "code",
   "execution_count": null,
   "metadata": {},
   "outputs": [],
   "source": [
    "print(id(per6))\n",
    "print(id(per7))"
   ]
  },
  {
   "cell_type": "code",
   "execution_count": null,
   "metadata": {},
   "outputs": [],
   "source": [
    "per7 is per6"
   ]
  },
  {
   "cell_type": "code",
   "execution_count": null,
   "metadata": {},
   "outputs": [],
   "source": [
    "per8 = per6\n",
    "per6 is per8"
   ]
  },
  {
   "cell_type": "code",
   "execution_count": null,
   "metadata": {},
   "outputs": [],
   "source": [
    "per8.__name = \"Marianna\"\n",
    "per6.__name"
   ]
  },
  {
   "cell_type": "code",
   "execution_count": null,
   "metadata": {},
   "outputs": [],
   "source": [
    "per6 is per8"
   ]
  },
  {
   "cell_type": "code",
   "execution_count": null,
   "metadata": {},
   "outputs": [],
   "source": [
    "print(id(per6))\n",
    "print(id(per8))"
   ]
  },
  {
   "cell_type": "code",
   "execution_count": null,
   "metadata": {},
   "outputs": [],
   "source": [
    "import copy\n",
    "\n",
    "per9 = copy.copy(per6)"
   ]
  },
  {
   "cell_type": "code",
   "execution_count": null,
   "metadata": {},
   "outputs": [],
   "source": [
    "per9 == per6"
   ]
  },
  {
   "cell_type": "code",
   "execution_count": null,
   "metadata": {},
   "outputs": [],
   "source": [
    "per9 is per6"
   ]
  },
  {
   "cell_type": "code",
   "execution_count": null,
   "metadata": {},
   "outputs": [],
   "source": [
    "print(id(per6))\n",
    "print(id(per9))"
   ]
  },
  {
   "attachments": {},
   "cell_type": "markdown",
   "metadata": {},
   "source": [
    "## Dziedziczenie"
   ]
  },
  {
   "cell_type": "code",
   "execution_count": null,
   "metadata": {},
   "outputs": [],
   "source": [
    "class Dog():\n",
    "    \"\"\"_summary_\n",
    "    _attribute_\n",
    "    name (str) - imie psa\n",
    "    tail (bool) - posiada ogon: True nie posiada ogona: False\n",
    "    \"\"\"\n",
    "    def __init__(self, name, tail) -> None:\n",
    "        self.name = name\n",
    "        self.tail = tail\n",
    "\n",
    "    def get_sound(self, sound):\n",
    "        print(sound)\n"
   ]
  },
  {
   "cell_type": "code",
   "execution_count": null,
   "metadata": {},
   "outputs": [],
   "source": [
    "class Papillon(Dog):\n",
    "    \n",
    "    def __init__(self, name, tail, sound) -> None:\n",
    "        super().__init__(name, tail)\n",
    "        self.rase = 'Papillon'\n",
    "        self.sound = sound\n",
    "    \n",
    "    def get_sound(self, sound):\n",
    "        return super().get_sound(sound)\n",
    "\n",
    "    def go_crazy(self, repeat):\n",
    "        for i in range(repeat):\n",
    "            print(self.get_sound(self.sound))\n",
    "         \n",
    "\n",
    "class Terier(Dog):\n",
    "    \n",
    "    def __init__(self, name, tail) -> None:\n",
    "        super().__init__(name, tail)\n",
    "        self.rase = 'Terier'\n",
    "    \n",
    "    def get_sound(self, sound):\n",
    "        return super().get_sound(sound)\n"
   ]
  },
  {
   "cell_type": "code",
   "execution_count": null,
   "metadata": {},
   "outputs": [],
   "source": [
    "papillon = Papillon('Wikotr', True, 'Wouf Wouf')\n",
    "terier = Terier('As', False)"
   ]
  },
  {
   "cell_type": "code",
   "execution_count": null,
   "metadata": {},
   "outputs": [],
   "source": [
    "papillon.get_sound(papillon.sound)"
   ]
  },
  {
   "cell_type": "code",
   "execution_count": null,
   "metadata": {},
   "outputs": [],
   "source": [
    "terier.get_sound('Hou')"
   ]
  },
  {
   "attachments": {},
   "cell_type": "markdown",
   "metadata": {},
   "source": [
    "## Wyjątki"
   ]
  },
  {
   "cell_type": "code",
   "execution_count": null,
   "metadata": {},
   "outputs": [],
   "source": [
    "import pandas as pd\n",
    "\n",
    "pd.read_csv(1)"
   ]
  },
  {
   "attachments": {},
   "cell_type": "markdown",
   "metadata": {},
   "source": [
    "AssertionError\tRaised when an assert statement fails.\n",
    "AttributeError\tRaised when attribute assignment or reference fails.\n",
    "EOFError\tRaised when the input() function hits end-of-file condition.\n",
    "FloatingPointError\tRaised when a floating point operation fails.\n",
    "GeneratorExit\tRaise when a generator's close() method is called.\n",
    "ImportError\tRaised when the imported module is not found.\n",
    "IndexError\tRaised when the index of a sequence is out of range.\n",
    "KeyError\tRaised when a key is not found in a dictionary.\n",
    "KeyboardInterrupt\tRaised when the user hits the interrupt key (Ctrl+C or Delete).\n",
    "MemoryError\tRaised when an operation runs out of memory.\n",
    "NameError\tRaised when a variable is not found in local or global scope.\n",
    "NotImplementedError\tRaised by abstract methods.\n",
    "OSError\tRaised when system operation causes system related error.\n",
    "OverflowError\tRaised when the result of an arithmetic operation is too large to be represented.\n",
    "ReferenceError\tRaised when a weak reference proxy is used to access a garbage collected referent.\n",
    "RuntimeError\tRaised when an error does not fall under any other category.\n",
    "StopIteration\tRaised by next() function to indicate that there is no further item to be returned by iterator.\n",
    "SyntaxError\tRaised by parser when syntax error is encountered.\n",
    "IndentationError\tRaised when there is incorrect indentation.\n",
    "TabError\tRaised when indentation consists of inconsistent tabs and spaces.\n",
    "SystemError\tRaised when interpreter detects internal error.\n",
    "SystemExit\tRaised by sys.exit() function.\n",
    "TypeError\tRaised when a function or operation is applied to an object of incorrect type.\n",
    "UnboundLocalError\tRaised when a reference is made to a local variable in a function or method, but no value has been bound to that variable.\n",
    "UnicodeError\tRaised when a Unicode-related encoding or decoding error occurs.\n",
    "UnicodeEncodeError\tRaised when a Unicode-related error occurs during encoding.\n",
    "UnicodeDecodeError\tRaised when a Unicode-related error occurs during decoding.\n",
    "UnicodeTranslateError\tRaised when a Unicode-related error occurs during translating.\n",
    "ValueError\tRaised when a function gets an argument of correct type but improper value.\n",
    "ZeroDivisionError\tRaised when the second operand of division or modulo operation is zero."
   ]
  },
  {
   "cell_type": "code",
   "execution_count": null,
   "metadata": {},
   "outputs": [],
   "source": [
    "try:\n",
    "    # kod\n",
    "except:\n",
    "    # obsługa wyjątku"
   ]
  },
  {
   "cell_type": "code",
   "execution_count": null,
   "metadata": {},
   "outputs": [],
   "source": [
    "i = 0\n",
    "while True:\n",
    "    if i > 100:\n",
    "        print(i)\n",
    "        a\n",
    "    else:\n",
    "        i+=1"
   ]
  },
  {
   "cell_type": "code",
   "execution_count": 1,
   "metadata": {},
   "outputs": [
    {
     "name": "stdout",
     "output_type": "stream",
     "text": [
      "101\n",
      "Nie znany błąd\n"
     ]
    }
   ],
   "source": [
    "i = 0\n",
    "while True:\n",
    "    try:\n",
    "        if i > 100:\n",
    "            print(i)\n",
    "            a\n",
    "        else:\n",
    "            i+=1\n",
    "    except ValueError as e:\n",
    "        print(type(e).__name__)\n",
    "    except:\n",
    "        print(\"Nie znany błąd\")\n",
    "        break"
   ]
  },
  {
   "cell_type": "code",
   "execution_count": null,
   "metadata": {},
   "outputs": [],
   "source": [
    "Exception"
   ]
  }
 ],
 "metadata": {
  "kernelspec": {
   "display_name": "base",
   "language": "python",
   "name": "python3"
  },
  "language_info": {
   "codemirror_mode": {
    "name": "ipython",
    "version": 3
   },
   "file_extension": ".py",
   "mimetype": "text/x-python",
   "name": "python",
   "nbconvert_exporter": "python",
   "pygments_lexer": "ipython3",
   "version": "3.9.12"
  },
  "orig_nbformat": 4,
  "vscode": {
   "interpreter": {
    "hash": "006df89896c29af5089ac178285e560c022d9a8d3da759fe7eb677f4213c5c3d"
   }
  }
 },
 "nbformat": 4,
 "nbformat_minor": 2
}
