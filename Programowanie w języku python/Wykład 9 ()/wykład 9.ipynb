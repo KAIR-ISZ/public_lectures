{
 "cells": [
  {
   "cell_type": "markdown",
   "metadata": {
    "collapsed": true,
    "slideshow": {
     "slide_type": "slide"
    }
   },
   "source": [
    "# Programowanie w języku Python\n",
    "\n",
    "## Obsługa wyjątków\n",
    "\n",
    "### dr inż. Waldemar Bauer"
   ]
  },
  {
   "cell_type": "markdown",
   "metadata": {
    "slideshow": {
     "slide_type": "slide"
    }
   },
   "source": [
    "## Wyjątki \n",
    "\n",
    "- Wyjątki to jeden ze sposobów na zgłaszanie i obsługę błędów pojawiających się w trakcie działania programu.\n",
    "\n",
    "- Podstawową zaletą wyjątków jest możliwość rozdzielenia kodu odpowiedzialnego za obsługę błędów od kodu odpowiedzialnego za prawidłowe wykonanie programu."
   ]
  },
  {
   "cell_type": "markdown",
   "metadata": {
    "slideshow": {
     "slide_type": "subslide"
    }
   },
   "source": [
    "## Struktura obsługi wyjątku \n",
    "\n",
    "```python\n",
    "try:\n",
    "    blok, w ktorym moze pojawic sie wyjatek\n",
    "except:\n",
    "    obsluga wyjatkow\n",
    "[else:\n",
    "    kod wykonywany gdy wyjatek nie nastapil\n",
    "finally:]\n",
    "```"
   ]
  },
  {
   "cell_type": "markdown",
   "metadata": {
    "slideshow": {
     "slide_type": "subslide"
    }
   },
   "source": [
    "## Przykład obsługi wyjątku"
   ]
  },
  {
   "cell_type": "code",
   "execution_count": 5,
   "metadata": {
    "slideshow": {
     "slide_type": "fragment"
    }
   },
   "outputs": [
    {
     "name": "stdout",
     "output_type": "stream",
     "text": [
      "Wyjątek\n",
      "Koniec obsługi \n"
     ]
    }
   ],
   "source": [
    "try:\n",
    "    5/0\n",
    "except:\n",
    "    print('Wyjątek')\n",
    "else:\n",
    "    print('Działanie poprawne')\n",
    "finally:\n",
    "    print('Koniec obsługi ')"
   ]
  },
  {
   "cell_type": "code",
   "execution_count": 6,
   "metadata": {
    "slideshow": {
     "slide_type": "fragment"
    }
   },
   "outputs": [
    {
     "name": "stdout",
     "output_type": "stream",
     "text": [
      "Działanie poprawne\n",
      "Koniec obsługi \n"
     ]
    }
   ],
   "source": [
    "try:\n",
    "    5/5\n",
    "except:\n",
    "    print('Wyjątek')\n",
    "else:\n",
    "    print('Działanie poprawne')\n",
    "finally:\n",
    "    print('Koniec obsługi ')"
   ]
  },
  {
   "cell_type": "markdown",
   "metadata": {
    "slideshow": {
     "slide_type": "slide"
    }
   },
   "source": [
    "## Rodzaje wyjątków wbudowanych\n",
    "\n",
    "- Exception bazowy typ wyjątków\n",
    "\n",
    "- AssertionError pojawia się w wyniku użycia instrukcji assert zpodanym fałszywym warunkiem (assert z warunkiem prawdziwym nie robi nic).\n",
    "\n",
    "- EOFError pojawia się w momencie napotkania końca pliku przez funkcje wczytujące dane, takie jak input() czy read().\n",
    "\n",
    "- IOError oznacza błąd wejścia/wyjścia; może wystąpić w trakcie użycia dowolnej z funkcji operujących na plikach (omówionych dalej).\n",
    "\n",
    "- SyntaxError to błąd składni. Występuje w wyniku próby załadowania niepoprawnego modułu lub użycia funkcji eval() i exec()."
   ]
  },
  {
   "cell_type": "markdown",
   "metadata": {
    "slideshow": {
     "slide_type": "slide"
    }
   },
   "source": [
    "## Rodzaje wyjątków wbudowanych\n",
    "\n",
    "- ImportError występuje w przypadku nieudanej próby załadowania modułu (podstawowy powód: nie udało się znaleźć modułu na dysku).\n",
    "\n",
    "- KeyError oznacza, że nastąpiła próba odczytania w słowniku wartości związanej z kluczem, którego ten słownik nie zawiera.\n",
    "\n",
    "- FloatingPointError to błąd w operacjach zmiennoprzecinkowych.\n",
    "\n",
    "- IndexError oznacza indeks tablicy poza zakresem."
   ]
  },
  {
   "cell_type": "markdown",
   "metadata": {
    "slideshow": {
     "slide_type": "slide"
    }
   },
   "source": [
    "## Rodzaje wyjątków wbudowanych\n",
    "\n",
    "- TypeError to niewłaściwy typ argumentu (występuje przy wywoływaniu funkcji).\n",
    "\n",
    "- ValueError to niewłaściwa wartość argumentu; pojawia się m.in. jako efekt nieudanej konwersji napisu do liczby lub liczby do liczby innego typu.\n",
    "\n",
    "- ZeroDivisionError to błąd dzielenia przez zero"
   ]
  },
  {
   "cell_type": "markdown",
   "metadata": {
    "slideshow": {
     "slide_type": "subslide"
    }
   },
   "source": [
    "## Obsługa wyjątku z typem\n",
    "\n",
    "- Dla precyzyjnego ustalenia źródła błedu w progeramie w sekcji _except_ możemy zaznaczyć typ wyjątku jaki chcemy obsłużyć."
   ]
  },
  {
   "cell_type": "markdown",
   "metadata": {
    "slideshow": {
     "slide_type": "fragment"
    }
   },
   "source": [
    "- Struktura obsługi wyjątku z typem: \n",
    "\n",
    "```python\n",
    "try:\n",
    "    blok, w ktorym moze pojawic sie wyjatek\n",
    "except Typ_1 as t1 :\n",
    "    obsluga wyjatkow\n",
    "except Typ_2 as t2:\n",
    "    obsluga wyjatkow\n",
    "...\n",
    "except Exceptiona as e:\n",
    "    obsluga wyjatkow\n",
    "[else:\n",
    "    kod wykonywany gdy wyjatek nie nastapil\n",
    "finally:]\n",
    "```"
   ]
  },
  {
   "cell_type": "markdown",
   "metadata": {
    "slideshow": {
     "slide_type": "subslide"
    }
   },
   "source": [
    "## Przykład obsługi wyjątku z typem"
   ]
  },
  {
   "cell_type": "code",
   "execution_count": 11,
   "metadata": {
    "slideshow": {
     "slide_type": "fragment"
    }
   },
   "outputs": [
    {
     "ename": "NameError",
     "evalue": "name 'funkcja' is not defined",
     "output_type": "error",
     "traceback": [
      "\u001b[0;31m---------------------------------------------------------------------------\u001b[0m",
      "\u001b[0;31mNameError\u001b[0m                                 Traceback (most recent call last)",
      "Input \u001b[0;32mIn [11]\u001b[0m, in \u001b[0;36m<cell line: 1>\u001b[0;34m()\u001b[0m\n\u001b[1;32m      1\u001b[0m \u001b[38;5;28;01mtry\u001b[39;00m:\n\u001b[0;32m----> 2\u001b[0m     \u001b[43mfunkcja\u001b[49m()\n\u001b[1;32m      3\u001b[0m     \u001b[38;5;241m5\u001b[39m\u001b[38;5;241m/\u001b[39m\u001b[38;5;241m0\u001b[39m\n\u001b[1;32m      4\u001b[0m \u001b[38;5;28;01mexcept\u001b[39;00m \u001b[38;5;167;01mZeroDivisionError\u001b[39;00m \u001b[38;5;28;01mas\u001b[39;00m e:\n",
      "\u001b[0;31mNameError\u001b[0m: name 'funkcja' is not defined"
     ]
    }
   ],
   "source": [
    "try:\n",
    "    funkcja()\n",
    "    5/0\n",
    "except ZeroDivisionError as e:\n",
    "    print('Błąd dzielenia przez zero')\n",
    "    print(e)"
   ]
  },
  {
   "cell_type": "markdown",
   "metadata": {
    "slideshow": {
     "slide_type": "subslide"
    }
   },
   "source": [
    "## Kolejność obsługi wyjątków"
   ]
  },
  {
   "cell_type": "code",
   "execution_count": 12,
   "metadata": {
    "slideshow": {
     "slide_type": "fragment"
    }
   },
   "outputs": [
    {
     "name": "stdout",
     "output_type": "stream",
     "text": [
      "Błąd ogólny\n",
      "division by zero\n"
     ]
    }
   ],
   "source": [
    "try:\n",
    "    5/0\n",
    "except Exception as e:\n",
    "    print('Błąd ogólny')\n",
    "    print(e)\n",
    "except ZeroDivisionError as e:\n",
    "    print('Błąd dzielenia przez zero')\n",
    "    print(e) \n"
   ]
  },
  {
   "cell_type": "code",
   "execution_count": 13,
   "metadata": {
    "slideshow": {
     "slide_type": "fragment"
    }
   },
   "outputs": [
    {
     "name": "stdout",
     "output_type": "stream",
     "text": [
      "Błąd dzielenia przez zero\n",
      "division by zero\n"
     ]
    }
   ],
   "source": [
    "try:\n",
    "    5/0\n",
    "except ZeroDivisionError as e:\n",
    "    print('Błąd dzielenia przez zero')\n",
    "    print(e)\n",
    "except Exception as e:\n",
    "    print('Błąd ogólny')\n",
    "    print(e)"
   ]
  },
  {
   "cell_type": "markdown",
   "metadata": {
    "scrolled": true,
    "slideshow": {
     "slide_type": "slide"
    }
   },
   "source": [
    "## Rzucenie wyjątku\n",
    "\n",
    "- Możemy samodzielnie wywołać dowlny wyjątek poprzez użycia w kodzie polecenia _rasie_\n"
   ]
  },
  {
   "cell_type": "code",
   "execution_count": 14,
   "metadata": {
    "slideshow": {
     "slide_type": "fragment"
    }
   },
   "outputs": [],
   "source": [
    "def diff(a,b):\n",
    "    if b == 0:\n",
    "        raise ZeroDivisionError\n",
    "    \n",
    "    return a/b  "
   ]
  },
  {
   "cell_type": "code",
   "execution_count": 15,
   "metadata": {
    "slideshow": {
     "slide_type": "fragment"
    }
   },
   "outputs": [
    {
     "ename": "ZeroDivisionError",
     "evalue": "",
     "output_type": "error",
     "traceback": [
      "\u001b[0;31m---------------------------------------------------------------------------\u001b[0m",
      "\u001b[0;31mZeroDivisionError\u001b[0m                         Traceback (most recent call last)",
      "Input \u001b[0;32mIn [15]\u001b[0m, in \u001b[0;36m<cell line: 1>\u001b[0;34m()\u001b[0m\n\u001b[0;32m----> 1\u001b[0m \u001b[43mdiff\u001b[49m\u001b[43m(\u001b[49m\u001b[38;5;241;43m1\u001b[39;49m\u001b[43m,\u001b[49m\u001b[38;5;241;43m0\u001b[39;49m\u001b[43m)\u001b[49m\n",
      "Input \u001b[0;32mIn [14]\u001b[0m, in \u001b[0;36mdiff\u001b[0;34m(a, b)\u001b[0m\n\u001b[1;32m      1\u001b[0m \u001b[38;5;28;01mdef\u001b[39;00m \u001b[38;5;21mdiff\u001b[39m(a,b):\n\u001b[1;32m      2\u001b[0m     \u001b[38;5;28;01mif\u001b[39;00m b \u001b[38;5;241m==\u001b[39m \u001b[38;5;241m0\u001b[39m:\n\u001b[0;32m----> 3\u001b[0m         \u001b[38;5;28;01mraise\u001b[39;00m \u001b[38;5;167;01mZeroDivisionError\u001b[39;00m\n\u001b[1;32m      5\u001b[0m     \u001b[38;5;28;01mreturn\u001b[39;00m a\u001b[38;5;241m/\u001b[39mb\n",
      "\u001b[0;31mZeroDivisionError\u001b[0m: "
     ]
    }
   ],
   "source": [
    "diff(1,0)"
   ]
  },
  {
   "cell_type": "markdown",
   "metadata": {
    "slideshow": {
     "slide_type": "subslide"
    }
   },
   "source": [
    "## Przykład łapania wyjątku samodzielnie rzuconego"
   ]
  },
  {
   "cell_type": "code",
   "execution_count": 16,
   "metadata": {
    "scrolled": true,
    "slideshow": {
     "slide_type": "fragment"
    }
   },
   "outputs": [
    {
     "name": "stdout",
     "output_type": "stream",
     "text": [
      "Błąd dzielenia przez zero\n",
      "\n"
     ]
    }
   ],
   "source": [
    "try:\n",
    "    diff(1,0)\n",
    "except ZeroDivisionError as e:\n",
    "    print('Błąd dzielenia przez zero')\n",
    "    print(e)\n",
    "except Exception as e:\n",
    "    print('Błąd ogólny')\n",
    "    print(e)"
   ]
  },
  {
   "cell_type": "markdown",
   "metadata": {
    "scrolled": true,
    "slideshow": {
     "slide_type": "slide"
    }
   },
   "source": [
    "## Rzucenie wyjątku z informacją"
   ]
  },
  {
   "cell_type": "code",
   "execution_count": 17,
   "metadata": {
    "slideshow": {
     "slide_type": "subslide"
    }
   },
   "outputs": [],
   "source": [
    "def diff2(a,b):\n",
    "    if b == 0:\n",
    "        raise ZeroDivisionError('Parametr b jest zerem')\n",
    "    \n",
    "    return a/b "
   ]
  },
  {
   "cell_type": "code",
   "execution_count": 18,
   "metadata": {
    "slideshow": {
     "slide_type": "fragment"
    }
   },
   "outputs": [
    {
     "name": "stdout",
     "output_type": "stream",
     "text": [
      "Błąd dzielenia przez zero\n",
      "Parametr b jest zerem\n"
     ]
    }
   ],
   "source": [
    "try:\n",
    "    diff2(1,0)\n",
    "except ZeroDivisionError as e:\n",
    "    print('Błąd dzielenia przez zero')\n",
    "    print(e)\n",
    "except Exception as e:\n",
    "    print('Błąd ogólny')\n",
    "    print(e)"
   ]
  },
  {
   "cell_type": "markdown",
   "metadata": {
    "slideshow": {
     "slide_type": "slide"
    }
   },
   "source": [
    "## Definiowanie własnych wyjątków\n",
    "\n",
    "- W ramach pracy nad programem może zaistnieć konieczność stworzenia własnego typu wyjątku\n",
    "- Własne typy wyjątków tworzy się poprzez definicję klasy dziedziczącej po _Exception_ "
   ]
  },
  {
   "cell_type": "code",
   "execution_count": 20,
   "metadata": {
    "slideshow": {
     "slide_type": "fragment"
    }
   },
   "outputs": [],
   "source": [
    "class CustomException(Exception):\n",
    "    \"\"\"Raised when needed\"\"\""
   ]
  },
  {
   "cell_type": "code",
   "execution_count": 21,
   "metadata": {
    "slideshow": {
     "slide_type": "fragment"
    }
   },
   "outputs": [
    {
     "name": "stdout",
     "output_type": "stream",
     "text": [
      "Błąd ogólny\n",
      "custom exception\n"
     ]
    }
   ],
   "source": [
    "try:\n",
    "    raise CustomException('custom exception')\n",
    "except ZeroDivisionError as e:\n",
    "    print('Błąd dzielenia przez zero')\n",
    "    print(e)\n",
    "except Exception as e:\n",
    "    print('Błąd ogólny')\n",
    "    print(e)"
   ]
  },
  {
   "cell_type": "code",
   "execution_count": 22,
   "metadata": {
    "slideshow": {
     "slide_type": "fragment"
    }
   },
   "outputs": [
    {
     "name": "stdout",
     "output_type": "stream",
     "text": [
      "Błąd własny\n",
      "custom exception\n"
     ]
    }
   ],
   "source": [
    "try:\n",
    "    raise CustomException('custom exception')\n",
    "except ZeroDivisionError as e:\n",
    "    print('Błąd dzielenia przez zero')\n",
    "    print(e)\n",
    "except CustomException as e:\n",
    "    print('Błąd własny')\n",
    "    print(e)\n",
    "except Exception as e:\n",
    "    print('Błąd ogólny')\n",
    "    print(e)"
   ]
  },
  {
   "cell_type": "markdown",
   "metadata": {
    "slideshow": {
     "slide_type": "slide"
    }
   },
   "source": [
    "## Obsługa wyjątków w pętli"
   ]
  },
  {
   "cell_type": "code",
   "execution_count": 23,
   "metadata": {
    "slideshow": {
     "slide_type": "fragment"
    }
   },
   "outputs": [
    {
     "ename": "ZeroDivisionError",
     "evalue": "division by zero",
     "output_type": "error",
     "traceback": [
      "\u001b[0;31m---------------------------------------------------------------------------\u001b[0m",
      "\u001b[0;31mZeroDivisionError\u001b[0m                         Traceback (most recent call last)",
      "Input \u001b[0;32mIn [23]\u001b[0m, in \u001b[0;36m<cell line: 1>\u001b[0;34m()\u001b[0m\n\u001b[1;32m      1\u001b[0m \u001b[38;5;28;01mfor\u001b[39;00m i \u001b[38;5;129;01min\u001b[39;00m \u001b[38;5;28mrange\u001b[39m(\u001b[38;5;241m0\u001b[39m,\u001b[38;5;241m10\u001b[39m):\n\u001b[0;32m----> 2\u001b[0m     \u001b[38;5;28mprint\u001b[39m(\u001b[38;5;241;43m20\u001b[39;49m\u001b[38;5;241;43m/\u001b[39;49m\u001b[43mi\u001b[49m)\n",
      "\u001b[0;31mZeroDivisionError\u001b[0m: division by zero"
     ]
    }
   ],
   "source": [
    "for i in range(0,10):\n",
    "    print(20/i)"
   ]
  },
  {
   "cell_type": "code",
   "execution_count": 24,
   "metadata": {
    "slideshow": {
     "slide_type": "fragment"
    }
   },
   "outputs": [
    {
     "name": "stdout",
     "output_type": "stream",
     "text": [
      "Złapano wyjątek\n",
      "20.0\n",
      "10.0\n",
      "6.666666666666667\n",
      "5.0\n",
      "4.0\n",
      "3.3333333333333335\n",
      "2.857142857142857\n",
      "2.5\n",
      "2.2222222222222223\n"
     ]
    }
   ],
   "source": [
    "for i in range(0,10):\n",
    "    try:\n",
    "        print(20/i)\n",
    "    except:\n",
    "        print('Złapano wyjątek')"
   ]
  },
  {
   "cell_type": "markdown",
   "metadata": {
    "slideshow": {
     "slide_type": "subslide"
    }
   },
   "source": [
    "## Obsługa wyjątków w pętli cd:"
   ]
  },
  {
   "cell_type": "code",
   "execution_count": 26,
   "metadata": {
    "slideshow": {
     "slide_type": "fragment"
    }
   },
   "outputs": [
    {
     "name": "stdout",
     "output_type": "stream",
     "text": [
      "Złapano wyjątek\n"
     ]
    }
   ],
   "source": [
    "for i in range(0,10):\n",
    "    try:\n",
    "        print(20/i)\n",
    "    except:\n",
    "        print('Złapano wyjątek')\n",
    "        break"
   ]
  }
 ],
 "metadata": {
  "celltoolbar": "Slideshow",
  "jupytext": {
   "formats": "ipynb"
  },
  "kernelspec": {
   "display_name": "Python 3 (ipykernel)",
   "language": "python",
   "name": "python3"
  },
  "language_info": {
   "codemirror_mode": {
    "name": "ipython",
    "version": 3
   },
   "file_extension": ".py",
   "mimetype": "text/x-python",
   "name": "python",
   "nbconvert_exporter": "python",
   "pygments_lexer": "ipython3",
   "version": "3.9.12"
  },
  "rise": {
   "autolaunch": true,
   "backimage": "img/tlo_agh.png"
  }
 },
 "nbformat": 4,
 "nbformat_minor": 2
}
