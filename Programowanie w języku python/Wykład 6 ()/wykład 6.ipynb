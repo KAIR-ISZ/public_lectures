{
 "cells": [
  {
   "cell_type": "markdown",
   "metadata": {
    "collapsed": true,
    "slideshow": {
     "slide_type": "slide"
    }
   },
   "source": [
    "# Programowanie w języku Python\n",
    "\n",
    "## Funkcje biblotek standardowych dla ciągów znaków (string)\n",
    "\n",
    "### dr inż. Waldemar Bauer"
   ]
  },
  {
   "cell_type": "markdown",
   "metadata": {
    "slideshow": {
     "slide_type": "slide"
    }
   },
   "source": [
    "## Przypisanie ciągów znakowych"
   ]
  },
  {
   "cell_type": "code",
   "execution_count": 3,
   "metadata": {
    "slideshow": {
     "slide_type": "fragment"
    }
   },
   "outputs": [
    {
     "name": "stdout",
     "output_type": "stream",
     "text": [
      "Jedna linia definicji str który jest bardzo długi i może się żle wyglądać w kodzie. Ale czasem nie ma wyjścia\n",
      "\n",
      "Linia 1 \n",
      "\tLinia 2 \n",
      "Linia 3 \n"
     ]
    }
   ],
   "source": [
    "singleline_def_str = 'Jedna linia definicji str który jest bardzo długi i może się żle wyglądać w kodzie. Ale czasem nie ma wyjścia' \n",
    "\n",
    "multiline_def_str = 'Linia 1 \\n'\\\n",
    "                '\\tLinia 2 \\n'\\\n",
    "                'Linia 3 '\n",
    "\n",
    "print(singleline_def_str)\n",
    "print()\n",
    "print(multiline_def_str)"
   ]
  },
  {
   "cell_type": "markdown",
   "metadata": {
    "slideshow": {
     "slide_type": "slide"
    }
   },
   "source": [
    "## Formatowanie ciągów znakowych\n",
    "- do formatowania ciągów znakowych służy funkcja _format_ \n",
    "- lub definicja stringa jako formatowalnego, przez dodanie do jego definicji _f_ przed symbolem ''"
   ]
  },
  {
   "cell_type": "code",
   "execution_count": 4,
   "metadata": {
    "slideshow": {
     "slide_type": "fragment"
    }
   },
   "outputs": [
    {
     "name": "stdout",
     "output_type": "stream",
     "text": [
      "Mój tekst zdefiniowany w lini pojedynczej: Jedna linia definicji str który jest bardzo długi i może się żle wyglądać w kodzie. Ale czasem nie ma wyjścia\n",
      "\n",
      "Mój tekst zdefiniowany w lini pojedynczej: Jedna linia definicji str który jest bardzo długi i może się żle wyglądać w kodzie. Ale czasem nie ma wyjścia. \n",
      "I w wielolini: Linia 1 \n",
      "\tLinia 2 \n",
      "Linia 3 \n"
     ]
    }
   ],
   "source": [
    "print('Mój tekst zdefiniowany w lini pojedynczej: {0}'.format(singleline_def_str))\n",
    "print()\n",
    "print('Mój tekst zdefiniowany w lini pojedynczej: {0}. \\nI w wielolini: {1}'.format(singleline_def_str,multiline_def_str))\n"
   ]
  },
  {
   "cell_type": "code",
   "execution_count": 6,
   "metadata": {
    "slideshow": {
     "slide_type": "fragment"
    }
   },
   "outputs": [
    {
     "name": "stdout",
     "output_type": "stream",
     "text": [
      "Mój tekst zdefiniowany w lini pojedynczej: Jedna linia definicji str który jest bardzo długi i może się żle wyglądać w kodzie. Ale czasem nie ma wyjścia\n",
      "\n",
      "Mój tekst zdefiniowany w lini pojedynczej: Jedna linia definicji str który jest bardzo długi i może się żle wyglądać w kodzie. Ale czasem nie ma wyjścia. \n",
      "I w wielolini: Linia 1 \n",
      "\tLinia 2 \n",
      "Linia 3 \n"
     ]
    }
   ],
   "source": [
    "print(f'Mój tekst zdefiniowany w lini pojedynczej: {singleline_def_str}')\n",
    "print()\n",
    "print(f'Mój tekst zdefiniowany w lini pojedynczej: {singleline_def_str}. \\nI w wielolini: {multiline_def_str}')\n",
    " "
   ]
  },
  {
   "cell_type": "markdown",
   "metadata": {
    "slideshow": {
     "slide_type": "slide"
    }
   },
   "source": [
    "## Formatowanie stringów zdefiniowanych wieloliniowo"
   ]
  },
  {
   "cell_type": "code",
   "execution_count": 9,
   "metadata": {
    "slideshow": {
     "slide_type": "subslide"
    }
   },
   "outputs": [
    {
     "name": "stdout",
     "output_type": "stream",
     "text": [
      "Mój tekst zdefiniowany w lini pojedynczej: Jedna linia definicji str który jest bardzo długi i może się żle wyglądać w kodzie. Ale czasem nie ma wyjścia\n",
      "I w wielolini: Linia 1 \n",
      "\tLinia 2 \n",
      "Linia 3 \n"
     ]
    }
   ],
   "source": [
    "multiline_def_format_string = f'Mój tekst zdefiniowany w lini pojedynczej: {singleline_def_str}'\\\n",
    "                            f'\\nI w wielolini: {multiline_def_str}'\n",
    "print(multiline_def_format_string)"
   ]
  },
  {
   "cell_type": "code",
   "execution_count": 14,
   "metadata": {
    "slideshow": {
     "slide_type": "subslide"
    }
   },
   "outputs": [
    {
     "name": "stdout",
     "output_type": "stream",
     "text": [
      "Mój tekst zdefiniowany w lini pojedynczej: Jedna linia definicji str który jest bardzo długi i może się żle wyglądać w kodzie. Ale czasem nie ma wyjścia\n",
      "I w wielolini: Linia 1 \n",
      "\tLinia 2 \n",
      "Linia 3 \n"
     ]
    }
   ],
   "source": [
    "multiline_def_format_string = 'Mój tekst zdefiniowany w lini pojedynczej: {}'\\\n",
    "                            '\\nI w wielolini: {}'.format(singleline_def_str,multiline_def_str)\n",
    "print(multiline_def_format_string)"
   ]
  },
  {
   "cell_type": "markdown",
   "metadata": {
    "slideshow": {
     "slide_type": "slide"
    }
   },
   "source": [
    "## Formatowanie wartości liczbowych"
   ]
  },
  {
   "cell_type": "code",
   "execution_count": 22,
   "metadata": {
    "slideshow": {
     "slide_type": "fragment"
    }
   },
   "outputs": [],
   "source": [
    "import random\n",
    "ex_int = round(random.random()*100)\n",
    "ex_flout = random.random()*10"
   ]
  },
  {
   "cell_type": "code",
   "execution_count": 23,
   "metadata": {
    "scrolled": true,
    "slideshow": {
     "slide_type": "fragment"
    }
   },
   "outputs": [
    {
     "name": "stdout",
     "output_type": "stream",
     "text": [
      "15\n",
      "ex_int=15\n",
      "ex_flout=4.574356991622607\n"
     ]
    }
   ],
   "source": [
    "# wypisanie w formie debugingu\n",
    "print(f'{ex_int}')\n",
    "print(f'{ex_int=}')\n",
    "print(f'{ex_flout=}')"
   ]
  },
  {
   "cell_type": "code",
   "execution_count": 35,
   "metadata": {
    "slideshow": {
     "slide_type": "fragment"
    }
   },
   "outputs": [
    {
     "name": "stdout",
     "output_type": "stream",
     "text": [
      "4.574\n",
      "4.57435699162260700489923693\n"
     ]
    }
   ],
   "source": [
    "# formatowanie doubla\n",
    "print(f'{ex_flout:{3}.{4}}')\n",
    "print('{:.26f}'.format(ex_flout))"
   ]
  },
  {
   "cell_type": "markdown",
   "metadata": {
    "slideshow": {
     "slide_type": "slide"
    }
   },
   "source": [
    "##  Funkcje modyfikujące wielkość znaków "
   ]
  },
  {
   "cell_type": "code",
   "execution_count": 38,
   "metadata": {
    "slideshow": {
     "slide_type": "fragment"
    }
   },
   "outputs": [
    {
     "name": "stdout",
     "output_type": "stream",
     "text": [
      "ex_str='zdanie Które posŁuży Do ZapRezentoWania działaNIA funkcji'\n",
      "cap_str='Zdanie które posłuży do zaprezentowania działania funkcji'\n"
     ]
    }
   ],
   "source": [
    "ex_str = 'zdanie Które posŁuży Do ZapRezentoWania działaNIA funkcji'\n",
    "\n",
    "# capitalize\n",
    "cap_str = ex_str.capitalize()\n",
    "\n",
    "print(f'{ex_str=}')\n",
    "print(f'{cap_str=}')\n"
   ]
  },
  {
   "cell_type": "code",
   "execution_count": 39,
   "metadata": {
    "slideshow": {
     "slide_type": "fragment"
    }
   },
   "outputs": [
    {
     "name": "stdout",
     "output_type": "stream",
     "text": [
      "low_str='zdanie które posłuży do zaprezentowania działania funkcji'\n",
      "upp_str='ZDANIE KTÓRE POSŁUŻY DO ZAPREZENTOWANIA DZIAŁANIA FUNKCJI'\n",
      "cas_str='zdanie które posłuży do zaprezentowania działania funkcji'\n"
     ]
    }
   ],
   "source": [
    "# lower, upper i casefold\n",
    "low_str = ex_str.lower()\n",
    "upp_str = ex_str.upper()\n",
    "cas_str = ex_str.casefold()\n",
    "\n",
    "print(f'{low_str=}')\n",
    "print(f'{upp_str=}')\n",
    "print(f'{cas_str=}')"
   ]
  },
  {
   "cell_type": "code",
   "execution_count": 40,
   "metadata": {
    "slideshow": {
     "slide_type": "subslide"
    }
   },
   "outputs": [
    {
     "name": "stdout",
     "output_type": "stream",
     "text": [
      "ex_str='zdanie Które posŁuży Do ZapRezentoWania działaNIA funkcji'\n",
      "tit_str='Zdanie Które Posłuży Do Zaprezentowania Działania Funkcji'\n"
     ]
    }
   ],
   "source": [
    "# title i swapcase\n",
    "tit_str = ex_str.title()\n",
    "\n",
    "print(f'{ex_str=}')\n",
    "print(f'{tit_str=}')"
   ]
  },
  {
   "cell_type": "code",
   "execution_count": 41,
   "metadata": {
    "slideshow": {
     "slide_type": "fragment"
    }
   },
   "outputs": [
    {
     "name": "stdout",
     "output_type": "stream",
     "text": [
      "ex_str='zdanie Które posŁuży Do ZapRezentoWania działaNIA funkcji'\n",
      "swa_str='ZDANIE kTÓRE POSłUŻY dO zAPrEZENTOwANIA DZIAŁAnia FUNKCJI'\n"
     ]
    }
   ],
   "source": [
    "swa_str = ex_str.swapcase()\n",
    "print(f'{ex_str=}')\n",
    "print(f'{swa_str=}')"
   ]
  },
  {
   "cell_type": "markdown",
   "metadata": {
    "slideshow": {
     "slide_type": "slide"
    }
   },
   "source": [
    "## Funkcje przeszukiwań ciągów znaków"
   ]
  },
  {
   "cell_type": "code",
   "execution_count": 49,
   "metadata": {
    "slideshow": {
     "slide_type": "fragment"
    }
   },
   "outputs": [
    {
     "name": "stdout",
     "output_type": "stream",
     "text": [
      "ex_str='zdanie Które posŁuży Do ZapRezentoWania działaNIA funkcji'\n",
      "cnt_a=6\n",
      "cnt_an=2\n"
     ]
    }
   ],
   "source": [
    "# count(<sub>[, <start>[, <end>]])\n",
    "print(f'{ex_str=}')\n",
    "\n",
    "cnt_a= ex_str.count('a')\n",
    "print(f'{cnt_a=}')\n",
    "\n",
    "cnt_an= ex_str.count('an')\n",
    "print(f'{cnt_an=}')"
   ]
  },
  {
   "cell_type": "code",
   "execution_count": 50,
   "metadata": {
    "slideshow": {
     "slide_type": "fragment"
    }
   },
   "outputs": [
    {
     "name": "stdout",
     "output_type": "stream",
     "text": [
      "cnt_a_lower=7\n",
      "cnt_an_lower=3\n"
     ]
    }
   ],
   "source": [
    "cnt_a_lower= ex_str.lower().count('a')\n",
    "cnt_an_lower= ex_str.lower().count('an')\n",
    "\n",
    "print(f'{cnt_a_lower=}')\n",
    "print(f'{cnt_an_lower=}')"
   ]
  },
  {
   "cell_type": "code",
   "execution_count": 51,
   "metadata": {
    "slideshow": {
     "slide_type": "subslide"
    }
   },
   "outputs": [
    {
     "name": "stdout",
     "output_type": "stream",
     "text": [
      "ex_str_sub_10='re posŁuży Do ZapRezentoWania działaNIA funkcji'\n",
      "cnt_a_str=5\n",
      "\n",
      "ex_str_sub_10_20='re posŁuży'\n",
      "cnt_a_str_end=0\n"
     ]
    }
   ],
   "source": [
    "ex_str_sub_10 = ex_str[10:]\n",
    "cnt_a_str= ex_str.count('a',10)\n",
    "\n",
    "ex_str_sub_10_20 = ex_str[10:20]\n",
    "cnt_a_str_end= ex_str.count('a',10,20)\n",
    "\n",
    "print(f'{ex_str_sub_10=}')\n",
    "print(f'{cnt_a_str=}')\n",
    "print()\n",
    "print(f'{ex_str_sub_10_20=}')\n",
    "print(f'{cnt_a_str_end=}')\n"
   ]
  },
  {
   "cell_type": "code",
   "execution_count": 54,
   "metadata": {
    "slideshow": {
     "slide_type": "subslide"
    }
   },
   "outputs": [
    {
     "name": "stdout",
     "output_type": "stream",
     "text": [
      "ex_str='zdanie Które posŁuży Do ZapRezentoWania działaNIA funkcji'\n",
      "ends_str=True\n",
      "ends_str2=False\n"
     ]
    }
   ],
   "source": [
    "## endswith(<suffix>[, <start>[, <end>]])\n",
    "print(f'{ex_str=}')\n",
    "\n",
    "ends_str= ex_str.endswith('cji')\n",
    "print(f'{ends_str=}')\n",
    "\n",
    "ends_str2= ex_str.endswith('Funkcji')\n",
    "print(f'{ends_str2=}')"
   ]
  },
  {
   "cell_type": "code",
   "execution_count": 55,
   "metadata": {
    "slideshow": {
     "slide_type": "fragment"
    }
   },
   "outputs": [
    {
     "name": "stdout",
     "output_type": "stream",
     "text": [
      "start_str=True\n",
      "start_str2=False\n"
     ]
    }
   ],
   "source": [
    "## startswith(<prefix>[, <start>[, <end>]])\n",
    "\n",
    "start_str= ex_str.startswith('zda')\n",
    "print(f'{start_str=}')\n",
    "\n",
    "start_str2= ex_str.startswith('Zda')\n",
    "print(f'{start_str2=}')"
   ]
  },
  {
   "cell_type": "code",
   "execution_count": 58,
   "metadata": {
    "slideshow": {
     "slide_type": "subslide"
    }
   },
   "outputs": [
    {
     "name": "stdout",
     "output_type": "stream",
     "text": [
      "ex_str='zdanie Które posŁuży Do ZapRezentoWania działaNIA funkcji'\n",
      "find_idx=13\n",
      "posŁuży\n",
      "\n",
      "find_idx2=-1\n"
     ]
    }
   ],
   "source": [
    "## find(<sub>[, <start>[, <end>]]) i index\n",
    "print(f'{ex_str=}')\n",
    "\n",
    "find_idx= ex_str.find('posŁuży')\n",
    "print(f'{find_idx=}')\n",
    "print(ex_str[find_idx:find_idx+len('posŁuży')])\n",
    "\n",
    "print()\n",
    "find_idx2= ex_str.find('posłuży')\n",
    "print(f'{find_idx2=}')"
   ]
  },
  {
   "cell_type": "code",
   "execution_count": 59,
   "metadata": {
    "slideshow": {
     "slide_type": "fragment"
    }
   },
   "outputs": [
    {
     "name": "stdout",
     "output_type": "stream",
     "text": [
      "index_idx=13\n",
      "posŁuży\n",
      "\n"
     ]
    },
    {
     "ename": "ValueError",
     "evalue": "substring not found",
     "output_type": "error",
     "traceback": [
      "\u001b[0;31m---------------------------------------------------------------------------\u001b[0m",
      "\u001b[0;31mValueError\u001b[0m                                Traceback (most recent call last)",
      "Cell \u001b[0;32mIn[59], line 6\u001b[0m\n\u001b[1;32m      3\u001b[0m \u001b[38;5;28mprint\u001b[39m(ex_str[index_idx:index_idx\u001b[38;5;241m+\u001b[39m\u001b[38;5;28mlen\u001b[39m(\u001b[38;5;124m'\u001b[39m\u001b[38;5;124mposŁuży\u001b[39m\u001b[38;5;124m'\u001b[39m)])\n\u001b[1;32m      5\u001b[0m \u001b[38;5;28mprint\u001b[39m()\n\u001b[0;32m----> 6\u001b[0m index_idx2\u001b[38;5;241m=\u001b[39m ex_str\u001b[38;5;241m.\u001b[39mindex(\u001b[38;5;124m'\u001b[39m\u001b[38;5;124mposłuży\u001b[39m\u001b[38;5;124m'\u001b[39m)\n\u001b[1;32m      7\u001b[0m \u001b[38;5;28mprint\u001b[39m(\u001b[38;5;124mf\u001b[39m\u001b[38;5;124m'\u001b[39m\u001b[38;5;132;01m{\u001b[39;00mindex_idx2\u001b[38;5;132;01m=}\u001b[39;00m\u001b[38;5;124m'\u001b[39m)\n",
      "\u001b[0;31mValueError\u001b[0m: substring not found"
     ]
    }
   ],
   "source": [
    "index_idx= ex_str.index('posŁuży')\n",
    "print(f'{index_idx=}')\n",
    "print(ex_str[index_idx:index_idx+len('posŁuży')])\n",
    "\n",
    "print()\n",
    "index_idx2= ex_str.index('posłuży')\n",
    "print(f'{index_idx2=}')"
   ]
  },
  {
   "cell_type": "markdown",
   "metadata": {
    "slideshow": {
     "slide_type": "slide"
    }
   },
   "source": [
    "## Funkcję walidujące postać ciągu znaków "
   ]
  },
  {
   "cell_type": "code",
   "execution_count": 60,
   "metadata": {
    "slideshow": {
     "slide_type": "fragment"
    }
   },
   "outputs": [
    {
     "name": "stdout",
     "output_type": "stream",
     "text": [
      "abc123 jest alfanumerycznym ciągiem:  True\n",
      "abc$123 jest alfanumerycznym ciągiem: False\n"
     ]
    }
   ],
   "source": [
    "## isalnum()\n",
    "print('abc123 jest alfanumerycznym ciągiem: ','abc123'.isalnum())\n",
    "print('abc$123 jest alfanumerycznym ciągiem:','abc$123'.isalnum())"
   ]
  },
  {
   "cell_type": "code",
   "execution_count": 62,
   "metadata": {
    "slideshow": {
     "slide_type": "fragment"
    }
   },
   "outputs": [
    {
     "name": "stdout",
     "output_type": "stream",
     "text": [
      "abcABC jest ciągiem literowym:  True\n",
      "abc123 jest ciągiem literowym: False\n",
      "ĆŻĄ jest ciągiem literowym: True\n"
     ]
    }
   ],
   "source": [
    "## isalpha()\n",
    "print('abcABC jest ciągiem literowym: ','abcABC'.isalpha())\n",
    "print('abc123 jest ciągiem literowym:','abc123'.isalpha())\n",
    "print('ĆŻĄ jest ciągiem literowym:','ĆŻĄ'.isalpha())"
   ]
  },
  {
   "cell_type": "code",
   "execution_count": 63,
   "metadata": {
    "slideshow": {
     "slide_type": "subslide"
    }
   },
   "outputs": [
    {
     "name": "stdout",
     "output_type": "stream",
     "text": [
      "123 jest numerycznym ciągiem:  True\n"
     ]
    }
   ],
   "source": [
    "## isdigit()\n",
    "print('123 jest numerycznym ciągiem: ','123'.isdigit())"
   ]
  },
  {
   "cell_type": "code",
   "execution_count": 64,
   "metadata": {
    "slideshow": {
     "slide_type": "fragment"
    }
   },
   "outputs": [
    {
     "name": "stdout",
     "output_type": "stream",
     "text": [
      "123.01 jest numerycznym ciągiem:  False\n"
     ]
    }
   ],
   "source": [
    "print('123.01 jest numerycznym ciągiem: ','123.01'.isdigit())"
   ]
  },
  {
   "cell_type": "code",
   "execution_count": 65,
   "metadata": {
    "slideshow": {
     "slide_type": "fragment"
    }
   },
   "outputs": [
    {
     "name": "stdout",
     "output_type": "stream",
     "text": [
      "abc123 jest numerycznym ciągiem: False\n"
     ]
    }
   ],
   "source": [
    "print('abc123 jest numerycznym ciągiem:','abc123'.isdigit())"
   ]
  },
  {
   "cell_type": "code",
   "execution_count": 66,
   "metadata": {
    "slideshow": {
     "slide_type": "fragment"
    }
   },
   "outputs": [
    {
     "name": "stdout",
     "output_type": "stream",
     "text": [
      "\"123 \" jest numerycznym ciągiem: False\n"
     ]
    }
   ],
   "source": [
    "print('\"123 \" jest numerycznym ciągiem:','123 '.isdigit())"
   ]
  },
  {
   "cell_type": "code",
   "execution_count": 71,
   "metadata": {
    "slideshow": {
     "slide_type": "slide"
    }
   },
   "outputs": [
    {
     "name": "stdout",
     "output_type": "stream",
     "text": [
      "a\tb ciąg drukowalny:  False\n",
      "a b ciąg drukowalny: True\n",
      "\"\" ciąg drukowalny: True\n",
      "a\n",
      "b  ciąg drukowalny: False\n"
     ]
    }
   ],
   "source": [
    "# isprintable()\n",
    "\n",
    "print('a\\tb ciąg drukowalny: ', 'a\\tb'.isprintable())\n",
    "print('a b ciąg drukowalny:','a b'.isprintable())\n",
    "print('\"\" ciąg drukowalny:',''.isprintable())\n",
    "print('a\\nb  ciąg drukowalny:','a\\nb'.isprintable())"
   ]
  },
  {
   "cell_type": "code",
   "execution_count": 69,
   "metadata": {
    "slideshow": {
     "slide_type": "fragment"
    }
   },
   "outputs": [
    {
     "name": "stdout",
     "output_type": "stream",
     "text": [
      "True\n",
      "False\n"
     ]
    }
   ],
   "source": [
    "# isspace()\n",
    "print(' \\t \\n '.isspace())\n",
    "print('   a   '.isspace())"
   ]
  },
  {
   "cell_type": "markdown",
   "metadata": {
    "slideshow": {
     "slide_type": "slide"
    }
   },
   "source": [
    "## Funkcje zamiany lub podziału według zadanego wzorca\n"
   ]
  },
  {
   "cell_type": "code",
   "execution_count": 72,
   "metadata": {
    "slideshow": {
     "slide_type": "fragment"
    }
   },
   "outputs": [
    {
     "name": "stdout",
     "output_type": "stream",
     "text": [
      "rep_a_3='zdAnie Które posŁuży Do ZApRezentoWAnia działaNIA funkcji'\n"
     ]
    }
   ],
   "source": [
    "rep_a_3= ex_str.replace('a', 'A', 3)\n",
    "print(f'{rep_a_3=}')"
   ]
  },
  {
   "cell_type": "markdown",
   "metadata": {
    "slideshow": {
     "slide_type": "slide"
    }
   },
   "source": [
    "## Konwersja między ciągiem znaków a listą"
   ]
  },
  {
   "cell_type": "code",
   "execution_count": 81,
   "metadata": {
    "slideshow": {
     "slide_type": "slide"
    }
   },
   "outputs": [
    {
     "name": "stdout",
     "output_type": "stream",
     "text": [
      "ex_str='zdanie Które posŁuży Do ZapRezentoWania działaNIA funkcji'\n",
      "split_space=['zdanie', 'Które', 'posŁuży', 'Do', 'ZapRezentoWania', 'działaNIA', 'funkcji']\n",
      "\n",
      "split_a=['zd', 'nie Które posŁuży Do Z', 'pRezentoW', 'ni', ' dzi', 'ł', 'NIA funkcji']\n"
     ]
    }
   ],
   "source": [
    "## split(sep=None, maxsplit=-1)\n",
    "print(f'{ex_str=}')\n",
    "\n",
    "split_space = ex_str.split()\n",
    "print(f'{split_space=}')\n",
    "print()\n",
    "\n",
    "split_a = ex_str.split('a')\n",
    "print(f'{split_a=}')"
   ]
  },
  {
   "cell_type": "code",
   "execution_count": 83,
   "metadata": {
    "slideshow": {
     "slide_type": "fragment"
    }
   },
   "outputs": [
    {
     "name": "stdout",
     "output_type": "stream",
     "text": [
      "split_a_2=['zd', 'nie Które posŁuży Do Z', 'pRezentoWania działaNIA funkcji']\n"
     ]
    }
   ],
   "source": [
    "split_a_2 = ex_str.split('a', 2)\n",
    "print(f'{split_a_2=}')"
   ]
  },
  {
   "cell_type": "code",
   "execution_count": null,
   "metadata": {},
   "outputs": [],
   "source": []
  },
  {
   "cell_type": "code",
   "execution_count": 84,
   "metadata": {
    "slideshow": {
     "slide_type": "subslide"
    }
   },
   "outputs": [
    {
     "name": "stdout",
     "output_type": "stream",
     "text": [
      "zdanie Które posŁuży Do ZapRezentoWania działaNIA funkcji\n"
     ]
    }
   ],
   "source": [
    "## join()\n",
    "print(' '.join(split_space))"
   ]
  },
  {
   "cell_type": "code",
   "execution_count": 85,
   "metadata": {
    "slideshow": {
     "slide_type": "fragment"
    }
   },
   "outputs": [
    {
     "name": "stdout",
     "output_type": "stream",
     "text": [
      "zdanie Które posŁuży Do ZapRezentoWania działaNIA funkcji\n"
     ]
    }
   ],
   "source": [
    "print('a'.join(split_a))"
   ]
  },
  {
   "cell_type": "code",
   "execution_count": null,
   "metadata": {
    "slideshow": {
     "slide_type": "fragment"
    }
   },
   "outputs": [],
   "source": [
    "print('a'.join(split_a_2))"
   ]
  }
 ],
 "metadata": {
  "celltoolbar": "Slideshow",
  "jupytext": {
   "formats": "ipynb"
  },
  "kernelspec": {
   "display_name": "Python 3 (ipykernel)",
   "language": "python",
   "name": "python3"
  },
  "language_info": {
   "codemirror_mode": {
    "name": "ipython",
    "version": 3
   },
   "file_extension": ".py",
   "mimetype": "text/x-python",
   "name": "python",
   "nbconvert_exporter": "python",
   "pygments_lexer": "ipython3",
   "version": "3.11.5"
  },
  "rise": {
   "autolaunch": true,
   "backimage": "img/tlo_agh.png"
  }
 },
 "nbformat": 4,
 "nbformat_minor": 2
}
