{
 "cells": [
  {
   "cell_type": "markdown",
   "metadata": {
    "collapsed": true,
    "slideshow": {
     "slide_type": "slide"
    }
   },
   "source": [
    "# Programowanie Obirktowe\n",
    "\n",
    "## Zagadnienia wstępne\n",
    "\n",
    "### dr inż. Waldemar Bauer"
   ]
  },
  {
   "cell_type": "markdown",
   "metadata": {
    "slideshow": {
     "slide_type": "slide"
    }
   },
   "source": [
    "## Sprawy organizacyjne\n",
    "- C3 216, godziny konsultacji: środa 10.00\n",
    "- bauer@agh.edu.pl\n",
    "- Materiały do przedmiotu są dostępne na Github. Jeżeli zauważycie błedy proszę o założenie tematu na platformie Github."
   ]
  },
  {
   "cell_type": "markdown",
   "metadata": {
    "slideshow": {
     "slide_type": "subslide"
    }
   },
   "source": [
    "## Sprawy organizacyjne cd.\n",
    "\n",
    "- Zaliczenie na podstawie projektu i obecności na laboratorium \n",
    "- Na laboratorium używać będziemy:\n",
    "    - [Python 3.8](https://www.python.org/downloads/)\n",
    "    - [Github](https://github.com/) lub inny serwer kontroli wersji\n",
    "    - IDE\n",
    "        - podstawowe: [VSCode](https://code.visualstudio.com/docs/languages/python)\n",
    "        - opcjonalne: [PyCharm](https://www.jetbrains.com/pycharm/)\n",
    "    \n",
    "### Wszystkie technologie w ramach zajęć są *darmowe* "
   ]
  },
  {
   "cell_type": "markdown",
   "metadata": {
    "slideshow": {
     "slide_type": "subslide"
    }
   },
   "source": [
    "## Zakres kursu\n",
    "1. Paradygmaty programowania obiektowego. \n",
    "2. Wprowadzenie do technik analizy i projektowania obiektowego (Object Oriented Programming). \n",
    "3. Techniki strukturalne, a obiektowe. \n",
    "4. Klasy i obiekty. \n",
    "5. Dziedziczenie i hierarchia klas. \n",
    "6. Typy dziedziczenia. \n",
    "7. Klasy abstrakcyjne. \n",
    "8. Polimorfizm. \n",
    "9. Przeciążanie operatorów. \n",
    "10. Obsługa wyjątków. \n",
    "11. SOLID. \n",
    "12.\tTypy biblioteczne, kontenery, łańcuchy znaków. \n",
    "13.\tPodstawy przetwarzania równoległego. \n",
    "14.\tElementy inżynierii programowania. Narzędzia IDE/RAD/CASE. \n",
    "15.\tTestowanie, lokalizacja i eliminacja błędów."
   ]
  },
  {
   "cell_type": "markdown",
   "metadata": {
    "slideshow": {
     "slide_type": "slide"
    }
   },
   "source": [
    "## Paradygmaty programowania\n",
    "\n",
    "- wzorzec programowania komputerów przedkładany w danym okresie rozwoju informatyki ponad inne lub ceniony w pewnych okolicznościach lub zastosowaniach.\n",
    "\n",
    "- definiuje sposób patrzenia programisty na przepływ sterowania i wykonywanie programu komputerowego.\n",
    "\n",
    "- różne języki programowania mogą wspierać różne paradygmaty programowania"
   ]
  },
  {
   "cell_type": "markdown",
   "metadata": {
    "slideshow": {
     "slide_type": "subslide"
    }
   },
   "source": [
    "## Paradygmaty programowania\n",
    "\n",
    "- **Imperatywne**: C, C++, Java, PHP, Python, Ruby,\n",
    "- **Strukturalne**: C, C++, Java, Pascal, PHP, Python,\n",
    "- **Proceduralne**: C, C++, Java, Pascal, PHP, Python,\n",
    "- **Funkcyjne**: C++, Erlang, F#, Haskell, Java (odwersji 8), Lisp, Python, JavaScript\n",
    "- **Obiektowe**: Common Lisp, C++, C#, Java, PHP,Python, Ruby, Scala, JavaScript\n",
    "- **Deklaratywne**: SQL, regular expressions, Prolog, OWL,SPARQL, Prolog"
   ]
  },
  {
   "cell_type": "markdown",
   "metadata": {
    "slideshow": {
     "slide_type": "slide"
    }
   },
   "source": [
    "## Architektura oprogramowania\n",
    "\n",
    "Jest sposobem zapewniania między innymi niezawodności, elastyczności, bezpieczeństwa, skalowalności systemu oraz sposobem spełniania oczekiwań technicznych i biznesowych, wysuwanych względem niego.\n",
    "\n",
    "Zbiór zasad i technik:\n",
    "- Dzielenie problemów na mniejsze części i budowanie systemu z mniejszych modułów \n",
    "- Tworzenia połączeń (interfejsów) pomiędzy modułami\n",
    "- Zasad zarządzania strukturą i przepływem danych/instrukcji w programie\n",
    "- Zasady połączenia (interfejsu) systemu ześrodowiskiem zewnętrznym\n",
    "- Sposoby zarządzania zmianami i utzrymaniem programu"
   ]
  },
  {
   "cell_type": "markdown",
   "metadata": {
    "slideshow": {
     "slide_type": "subslide"
    }
   },
   "source": [
    "## Architektura oprogramowania\n",
    "\n",
    "Aktualnie najbardziej popularnymi sposobami tworzenia Architektury Oprogramowania są:\n",
    "\n",
    "- architektura monolityczna (monolit)\n",
    "\n",
    "- architektura Zorientowana na Usługi (SOA - Service-Oriented Architecture)\n",
    "\n",
    "- architektura mikroserwisów"
   ]
  },
  {
   "cell_type": "markdown",
   "metadata": {
    "slideshow": {
     "slide_type": "subslide"
    }
   },
   "source": [
    "## Architektura oprogramowania a paradygmaty programowania\n",
    "\n",
    "- Pojęcia które są ze sobą powiązane.\n",
    "\n",
    "- Wybór odpowiedniej architektury może zależeć od przyjętego języka programowania lub na odwrót."
   ]
  },
  {
   "cell_type": "markdown",
   "metadata": {
    "slideshow": {
     "slide_type": "slide"
    }
   },
   "source": [
    "## Paradygmat programowani obiektowego\n",
    "\n",
    "- Metoda analizy potrzeb, projektowania rozwiązań i programowania oprogramowania\n",
    "- Systemy buduje się na podstawi współpracujących kolekcji „obiektów”\n",
    "- Obiekty komunikują się, przekazując „wiadomości”, na które „reagują” inne obiekty\n",
    "- Obiekty są zorganizowane w „klasy”. Wszystkie obiekty w klasie zachowują się tak samo (ale mogą przechowywać różne dane)\n",
    "- Zajęcia są zorganizowane w „hierarchie abstrakcji”\n"
   ]
  },
  {
   "cell_type": "markdown",
   "metadata": {
    "slideshow": {
     "slide_type": "subslide"
    }
   },
   "source": [
    "## Składowe paradygmatu programowani obiektowego\n",
    "\n",
    "- Abstrakcja, \n",
    "- Enkapsulacja, \n",
    "- Polimorfizm, \n",
    "- Dziedziczenie "
   ]
  },
  {
   "cell_type": "markdown",
   "metadata": {
    "slideshow": {
     "slide_type": "subslide"
    }
   },
   "source": [
    "## Abstrakcja\n",
    "Każdy obiekt w systemie służy jako model abstrakcyjnego „wykonawcy”, który może wykonywać pracę, opisywać i zmieniać swój stan oraz komunikować się z innymi obiektami w systemie bez ujawniania, w jaki sposób zaimplementowano dane cechy. Procesy, funkcje lub metody mogą być również abstrahowane, a kiedy tak się dzieje, konieczne są rozmaite techniki rozszerzania abstrakcji.\n",
    "\n"
   ]
  },
  {
   "cell_type": "markdown",
   "metadata": {
    "slideshow": {
     "slide_type": "subslide"
    }
   },
   "source": [
    "## Enkapsulacja\n",
    "Czyli ukrywanie implementacji, enkapsulacja. Zapewnia, że obiekt nie może zmieniać stanu wewnętrznego innych obiektów w nieoczekiwany sposób. Tylko własne metody obiektu są uprawnione do zmiany jego stanu. Każdy typ obiektu prezentuje innym obiektom swój interfejs, który określa dopuszczalne metody współpracy. Pewne języki osłabiają to założenie, dopuszczając pewien poziom bezpośredniego (kontrolowanego) dostępu do „wnętrzności” obiektu. Ograniczają w ten sposób poziom abstrakcji. "
   ]
  },
  {
   "cell_type": "markdown",
   "metadata": {
    "slideshow": {
     "slide_type": "subslide"
    }
   },
   "source": [
    "## Modułowość"
   ]
  },
  {
   "cell_type": "markdown",
   "metadata": {
    "slideshow": {
     "slide_type": "subslide"
    }
   },
   "source": [
    "## Polimorfizm\n",
    "Referencje i kolekcje obiektów mogą dotyczyć obiektów różnego typu, a wywołanie metody dla referencji spowoduje zachowanie odpowiednie dla pełnego typu obiektu wywoływanego. Jeśli dzieje się to w czasie działania programu, to nazywa się to późnym wiązaniem lub wiązaniem dynamicznym. "
   ]
  },
  {
   "cell_type": "markdown",
   "metadata": {
    "slideshow": {
     "slide_type": "subslide"
    }
   },
   "source": [
    "## Dziedziczenie \n",
    "\n",
    "Porządkuje i wspomaga polimorfizm i enkapsulację dzięki umożliwieniu definiowania i tworzenia specjalizowanych obiektów na podstawie bardziej ogólnych. Dla obiektów specjalizowanych nie trzeba redefiniować całej funkcjonalności, lecz tylko tę, której nie ma obiekt ogólniejszy. W typowym przypadku powstają grupy obiektów zwane klasami, oraz grupy klas zwane drzewami. Odzwierciedlają one wspólne cechy obiektów."
   ]
  },
  {
   "cell_type": "markdown",
   "metadata": {
    "slideshow": {
     "slide_type": "slide"
    }
   },
   "source": [
    "##  Zalety programowania obiektowego\n",
    "\n",
    "\n",
    "- Samoistne użycie zasady DRY (ang. Don't Repeat Yourself).\n",
    "- Bardziej spójna ideologia zarządzania kodem w stosunku do programowania strukturalnego.\n",
    "- Lepiej dostosowany do dużych projeków programistycznych.\n",
    "- Przejrzystość kodu.\n",
    "- Niższy koszt rozwoju i późniejszej konserwacji aplikacji.\n",
    "- Stabilność i elastyczność. \n",
    "- Łatwość w dokonywaniu zmian oraz możliwość rozbudowywania o nowe funkcje (dzięki istnieniu dziedziczenia) bez konieczności przebudowywania całego systemu."
   ]
  },
  {
   "cell_type": "markdown",
   "metadata": {
    "slideshow": {
     "slide_type": "slide"
    }
   },
   "source": [
    "##  Wady programowania obiektowego\n",
    "\n",
    "- Wolniejsza realizacja programu realizującego technikę zorientowaną obiektowo w stosunku do programowania strukturalnego.\n",
    "- Nie odpowiedni dla wszystkich rodzajów rozwiązanych problemów. Niektóre problemy (niewielkie skrypty, stosunkowo małe programy) skuteczniej, szybciej i wydajniej realizuje inżynieria budowy strukturalnej, niż metoda zorientowana obiektowo."
   ]
  },
  {
   "cell_type": "markdown",
   "metadata": {
    "slideshow": {
     "slide_type": "slide"
    }
   },
   "source": [
    "## Z czego i jak się uczyć\n",
    "\n",
    "1. Książki\n",
    "    - [Python Crash Course]\n",
    "    - [Learning Python]\n",
    "2. Kursy internetowe\n",
    "    - https://checkio.org/\n",
    "    - https://www.codingame.com/\n",
    "    - https://www.101computing.net/\n",
    "    - https://pythonprinciples.com/\n",
    "    - https://edabit.com/challenges\n",
    "    "
   ]
  },
  {
   "cell_type": "code",
   "execution_count": null,
   "metadata": {},
   "outputs": [],
   "source": []
  }
 ],
 "metadata": {
  "celltoolbar": "Slideshow",
  "jupytext": {
   "formats": "ipynb"
  },
  "kernelspec": {
   "display_name": "Python 3 (ipykernel)",
   "language": "python",
   "name": "python3"
  },
  "language_info": {
   "codemirror_mode": {
    "name": "ipython",
    "version": 3
   },
   "file_extension": ".py",
   "mimetype": "text/x-python",
   "name": "python",
   "nbconvert_exporter": "python",
   "pygments_lexer": "ipython3",
   "version": "3.9.12"
  },
  "rise": {
   "autolaunch": true,
   "backimage": "img/tlo_agh.png"
  }
 },
 "nbformat": 4,
 "nbformat_minor": 2
}
