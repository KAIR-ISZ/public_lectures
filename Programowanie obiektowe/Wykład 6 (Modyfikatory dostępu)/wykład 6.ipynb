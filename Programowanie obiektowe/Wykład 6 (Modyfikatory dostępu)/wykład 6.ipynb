{
 "cells": [
  {
   "cell_type": "markdown",
   "metadata": {
    "collapsed": true,
    "slideshow": {
     "slide_type": "slide"
    }
   },
   "source": [
    "# Programowanie w języku Python\n",
    "\n",
    "## Modyfikatory dostępu\n",
    "\n",
    "### dr inż. Waldemar Bauer"
   ]
  },
  {
   "cell_type": "markdown",
   "metadata": {
    "slideshow": {
     "slide_type": "slide"
    }
   },
   "source": [
    "## Modyfikatory dostępu\n",
    "\n",
    "- Różne języki obiektowe, takie jak C++, Java, Python, umożliwiają modyfikacje dostępu do elementów klas.\n",
    "\n",
    "- Służą one do enkapsulacji elementów kalsy.\n",
    "\n",
    "- Służy to ograniczeniu dostępu do zmiennych i metod klasy. \n",
    "\n",
    "- Większość języków programowania ma trzy formy modyfikatorów dostępu: \n",
    "    - Public \n",
    "    - Protected \n",
    "    - Private \n",
    "\n"
   ]
  },
  {
   "cell_type": "markdown",
   "metadata": {
    "slideshow": {
     "slide_type": "subslide"
    }
   },
   "source": [
    "## Modyfikatory dostępu cd.\n",
    "\n",
    "- Python używa symbolu „_” przed nazwą zmiennej do określenia poziou kontroli dostępu dla określonego elementu danych lub funkcji składowej klasy. \n",
    "\n",
    "- Specyfikatory dostępu w Pythonie odgrywają ważną rolę w zabezpieczaniu danych klasy przed nieautoryzowanym dostępem i zapobieganiu ich wykorzystaniu w niekontrolowany sposób.\n",
    "\n",
    "\n",
    "- Modyfikatory dostępu za pomocą nazw:\n",
    "    - Public: variableName \n",
    "    - Protected: _variableName \n",
    "    - Private: __variableName"
   ]
  },
  {
   "cell_type": "markdown",
   "metadata": {
    "slideshow": {
     "slide_type": "slide"
    }
   },
   "source": [
    "## Modyfikator Public\n",
    "\n",
    "- Elementy klasy zadeklarowane jako publiczne są dostępni z dowolnej części programu. \n",
    "\n",
    "- Wszystkie składowe danych i funkcje składowe klasy są domyślnie publiczne.\n",
    "\n",
    "- Ten modyfikator stosujemy dla tych elementów z których korzystać mają inni programiści.\n",
    "\n"
   ]
  },
  {
   "cell_type": "markdown",
   "metadata": {
    "slideshow": {
     "slide_type": "subslide"
    }
   },
   "source": [
    "## Klasa z elementami publicznymi"
   ]
  },
  {
   "cell_type": "code",
   "execution_count": null,
   "metadata": {
    "slideshow": {
     "slide_type": "fragment"
    }
   },
   "outputs": [],
   "source": [
    "class Ex1_public():\n",
    "    a = 0\n",
    "    b = 0\n",
    "    \n",
    "    def __init__(self,a,b):\n",
    "        self.a = a\n",
    "        self.b = b\n",
    "        self.c = 10\n",
    "        \n",
    "    def display(self):\n",
    "        print(f'{self.a=}')\n",
    "        print(f'{self.b=}')\n",
    "        print(f'{self.c=}')"
   ]
  },
  {
   "cell_type": "markdown",
   "metadata": {
    "slideshow": {
     "slide_type": "subslide"
    }
   },
   "source": [
    "## Klasa z elementami publicznymi cd."
   ]
  },
  {
   "cell_type": "code",
   "execution_count": null,
   "metadata": {
    "slideshow": {
     "slide_type": "fragment"
    }
   },
   "outputs": [],
   "source": [
    "ex1 = Ex1_public(1,2)\n",
    "\n",
    "print(f'{ex1.a=}')\n",
    "print(f'{ex1.b=}')\n",
    "print(f'{ex1.c=}')\n"
   ]
  },
  {
   "cell_type": "code",
   "execution_count": null,
   "metadata": {
    "slideshow": {
     "slide_type": "fragment"
    }
   },
   "outputs": [],
   "source": [
    "ex1.display()"
   ]
  },
  {
   "cell_type": "code",
   "execution_count": null,
   "metadata": {
    "slideshow": {
     "slide_type": "subslide"
    }
   },
   "outputs": [],
   "source": [
    "ex1.a = 4\n",
    "ex1.b = 5\n",
    "ex1.c = 9\n",
    "\n",
    "\n",
    "print(f'{ex1.a=}')\n",
    "print(f'{ex1.b=}')\n",
    "print(f'{ex1.c=}')"
   ]
  },
  {
   "cell_type": "markdown",
   "metadata": {
    "slideshow": {
     "slide_type": "slide"
    }
   },
   "source": [
    "## Modyfikator Protect\n",
    "\n",
    "- Elementy klasy zadeklarowane jako chronione są dostępne tylko dla klasy i klas z niej pochodnch. \n",
    "- Elementy danych klasy deklaruje się jako chronione poprzez dodanie pojedynczego symbolu podkreślenia „_” przed nazwą elementu tej klasy."
   ]
  },
  {
   "cell_type": "markdown",
   "metadata": {
    "slideshow": {
     "slide_type": "subslide"
    }
   },
   "source": [
    "## Klasa z elementami chronionymi"
   ]
  },
  {
   "cell_type": "code",
   "execution_count": null,
   "metadata": {
    "slideshow": {
     "slide_type": "fragment"
    }
   },
   "outputs": [],
   "source": [
    "class Ex2_protect():\n",
    "    a = 0\n",
    "    _b = 0\n",
    "    \n",
    "    def __init__(self,a,b):\n",
    "        self.a = a\n",
    "        self._b = b\n",
    "        self._c = 10\n",
    "        \n",
    "    def display(self):\n",
    "        print(f'{self.a=}')\n",
    "        print(f'{self._b=}')\n",
    "        print(f'{self._c=}')"
   ]
  },
  {
   "cell_type": "markdown",
   "metadata": {
    "slideshow": {
     "slide_type": "subslide"
    }
   },
   "source": [
    "## Klasa z elementami chronionymi cd."
   ]
  },
  {
   "cell_type": "code",
   "execution_count": null,
   "metadata": {
    "slideshow": {
     "slide_type": "fragment"
    }
   },
   "outputs": [],
   "source": [
    "ex2 = Ex2_protect(1,2)\n",
    "\n",
    "print(f'{ex2.a=}')"
   ]
  },
  {
   "cell_type": "code",
   "execution_count": null,
   "metadata": {
    "slideshow": {
     "slide_type": "fragment"
    }
   },
   "outputs": [],
   "source": [
    "print(f'{ex2._b=}')  "
   ]
  },
  {
   "cell_type": "code",
   "execution_count": null,
   "metadata": {
    "slideshow": {
     "slide_type": "fragment"
    }
   },
   "outputs": [],
   "source": [
    "print(f'{ex2._c=}')"
   ]
  },
  {
   "cell_type": "markdown",
   "metadata": {
    "slideshow": {
     "slide_type": "subslide"
    }
   },
   "source": [
    "## Klasa z elementami chronionymi cd."
   ]
  },
  {
   "cell_type": "code",
   "execution_count": null,
   "metadata": {
    "scrolled": false,
    "slideshow": {
     "slide_type": "fragment"
    }
   },
   "outputs": [],
   "source": [
    "ex2.display()"
   ]
  },
  {
   "cell_type": "markdown",
   "metadata": {
    "slideshow": {
     "slide_type": "subslide"
    }
   },
   "source": [
    "## Klasa z elementami prywatnymi"
   ]
  },
  {
   "cell_type": "code",
   "execution_count": 92,
   "metadata": {
    "slideshow": {
     "slide_type": "fragment"
    }
   },
   "outputs": [],
   "source": [
    "class Ex3_private():\n",
    "    a = 0    \n",
    "    __b = 0\n",
    "    \n",
    "    def __init__(self,a,b):\n",
    "        self.a = a\n",
    "        self.__b = b\n",
    "        self.__c = 10\n",
    "        \n",
    "    def display(self):\n",
    "        print(f'{self.a=}')\n",
    "        print(f'{self.__b=}')\n",
    "        print(f'{self.__c=}')"
   ]
  },
  {
   "cell_type": "markdown",
   "metadata": {
    "slideshow": {
     "slide_type": "subslide"
    }
   },
   "source": [
    "## Klasa z elementami prywatnymi cd."
   ]
  },
  {
   "cell_type": "code",
   "execution_count": null,
   "metadata": {},
   "outputs": [],
   "source": [
    "ex5 = Ex3_private(100,100)\n",
    "ex6 = Ex3_private(1000,1000)\n"
   ]
  },
  {
   "cell_type": "code",
   "execution_count": 93,
   "metadata": {},
   "outputs": [
    {
     "ename": "AttributeError",
     "evalue": "'Ex3_private' object has no attribute '__c'",
     "output_type": "error",
     "traceback": [
      "\u001b[0;31m---------------------------------------------------------------------------\u001b[0m",
      "\u001b[0;31mAttributeError\u001b[0m                            Traceback (most recent call last)",
      "Cell \u001b[0;32mIn[93], line 1\u001b[0m\n\u001b[0;32m----> 1\u001b[0m ex5\u001b[38;5;241m.\u001b[39m__c\n",
      "\u001b[0;31mAttributeError\u001b[0m: 'Ex3_private' object has no attribute '__c'"
     ]
    }
   ],
   "source": [
    "ex5.__c"
   ]
  },
  {
   "cell_type": "code",
   "execution_count": 90,
   "metadata": {},
   "outputs": [],
   "source": [
    "ex6._Ex3_private__c = 100"
   ]
  },
  {
   "cell_type": "code",
   "execution_count": null,
   "metadata": {
    "slideshow": {
     "slide_type": "fragment"
    }
   },
   "outputs": [],
   "source": [
    "ex3 = Ex3_private(1,10)\n",
    "\n",
    "print(f'{ex3.a=}')"
   ]
  },
  {
   "cell_type": "code",
   "execution_count": null,
   "metadata": {},
   "outputs": [],
   "source": [
    "type(ex3).a = 10"
   ]
  },
  {
   "cell_type": "code",
   "execution_count": null,
   "metadata": {},
   "outputs": [],
   "source": [
    "ex3.a"
   ]
  },
  {
   "cell_type": "code",
   "execution_count": 91,
   "metadata": {},
   "outputs": [],
   "source": [
    "type(ex3).__b = 100"
   ]
  },
  {
   "cell_type": "code",
   "execution_count": null,
   "metadata": {},
   "outputs": [],
   "source": [
    "vars(ex3)"
   ]
  },
  {
   "cell_type": "code",
   "execution_count": null,
   "metadata": {},
   "outputs": [],
   "source": [
    "vars(type(ex3))"
   ]
  },
  {
   "cell_type": "code",
   "execution_count": null,
   "metadata": {
    "slideshow": {
     "slide_type": "fragment"
    }
   },
   "outputs": [],
   "source": [
    "ex3.a = 20\n",
    "\n",
    "print(f'{ex3.a=}')"
   ]
  },
  {
   "cell_type": "code",
   "execution_count": null,
   "metadata": {
    "slideshow": {
     "slide_type": "fragment"
    }
   },
   "outputs": [],
   "source": [
    "print(f'{ex3.__b=}')"
   ]
  },
  {
   "cell_type": "code",
   "execution_count": null,
   "metadata": {
    "slideshow": {
     "slide_type": "fragment"
    }
   },
   "outputs": [],
   "source": [
    "print(f'{ex3.__c=}')"
   ]
  },
  {
   "cell_type": "code",
   "execution_count": 95,
   "metadata": {
    "slideshow": {
     "slide_type": "subslide"
    }
   },
   "outputs": [
    {
     "name": "stdout",
     "output_type": "stream",
     "text": [
      "ex3.__c=20\n"
     ]
    }
   ],
   "source": [
    "ex3.__c = 20\n",
    "print(f'{ex3.__c=}')"
   ]
  },
  {
   "cell_type": "code",
   "execution_count": 94,
   "metadata": {},
   "outputs": [],
   "source": [
    "ex3.__c = 10\n"
   ]
  },
  {
   "cell_type": "code",
   "execution_count": null,
   "metadata": {},
   "outputs": [],
   "source": [
    "ex4 = Ex3_private(1,2)\n",
    "vars(ex)\n"
   ]
  },
  {
   "cell_type": "code",
   "execution_count": 96,
   "metadata": {},
   "outputs": [
    {
     "data": {
      "text/plain": [
       "{'_Ex3_private__b': 10, '_Ex3_private__c': 10, '__c': 20}"
      ]
     },
     "execution_count": 96,
     "metadata": {},
     "output_type": "execute_result"
    }
   ],
   "source": [
    "vars(ex3)"
   ]
  },
  {
   "cell_type": "markdown",
   "metadata": {
    "slideshow": {
     "slide_type": "subslide"
    }
   },
   "source": [
    "## Klasa z elementami prywatnymi cd."
   ]
  },
  {
   "cell_type": "code",
   "execution_count": null,
   "metadata": {
    "scrolled": true,
    "slideshow": {
     "slide_type": "fragment"
    }
   },
   "outputs": [],
   "source": [
    "ex3.display()"
   ]
  },
  {
   "cell_type": "code",
   "execution_count": null,
   "metadata": {},
   "outputs": [],
   "source": []
  },
  {
   "cell_type": "markdown",
   "metadata": {
    "slideshow": {
     "slide_type": "slide"
    }
   },
   "source": [
    "### Jak obsługiwać zmienne chronine i prywatne\n",
    "\n",
    "- Modyfikacje i pozmiennych  zmiennych prywatnych i chroniwnych w ramach działania na obiekcie jest możliwa tylko dzięki interfejsowi udostępnionemu przez programistów\n",
    "\n",
    "- Metody modyfikujące i pobierające zmienne prywatne i chronione nazywane są get-erami i set-eraami "
   ]
  },
  {
   "cell_type": "markdown",
   "metadata": {
    "slideshow": {
     "slide_type": "subslide"
    }
   },
   "source": [
    "## Klasa z elementami protect z metodami get i set"
   ]
  },
  {
   "cell_type": "code",
   "execution_count": 97,
   "metadata": {
    "slideshow": {
     "slide_type": "fragment"
    }
   },
   "outputs": [],
   "source": [
    "class Ex2_private_set_get():\n",
    "    a = 0\n",
    "    __b = 0\n",
    "    \n",
    "    def __init__(self,a,b):\n",
    "        self.a = a\n",
    "        self.__b = b\n",
    "        self.__c = 10\n",
    "    \n",
    "    def set_b(self,b):\n",
    "        self.__b = b\n",
    "    \n",
    "    def set_c(self,c):\n",
    "        self.__c = c\n",
    "    \n",
    "    def get_b(self):\n",
    "        return self.__b\n",
    "    \n",
    "    def get_c(self):\n",
    "        return self.__c \n",
    "    \n",
    "        \n",
    "    def display(self):\n",
    "        print(f'{self.a=}')\n",
    "        print(f'{self.__b=}')\n",
    "        print(f'{self.__c=}')"
   ]
  },
  {
   "cell_type": "markdown",
   "metadata": {
    "slideshow": {
     "slide_type": "subslide"
    }
   },
   "source": [
    "## Klasa z elementami private z metodami get i set"
   ]
  },
  {
   "cell_type": "code",
   "execution_count": 98,
   "metadata": {
    "scrolled": true,
    "slideshow": {
     "slide_type": "fragment"
    }
   },
   "outputs": [
    {
     "name": "stdout",
     "output_type": "stream",
     "text": [
      "self.a=1\n",
      "self.__b=2\n",
      "self.__c=10\n"
     ]
    }
   ],
   "source": [
    "ex2_get_set = Ex2_private_set_get(1,2)\n",
    "ex2_get_set.display()"
   ]
  },
  {
   "cell_type": "code",
   "execution_count": 99,
   "metadata": {
    "slideshow": {
     "slide_type": "fragment"
    }
   },
   "outputs": [
    {
     "name": "stdout",
     "output_type": "stream",
     "text": [
      "ex2_get_set.get_b()=2\n",
      "ex2_get_set.get_c()=10\n"
     ]
    }
   ],
   "source": [
    "print(f'{ex2_get_set.get_b()=}')\n",
    "print(f'{ex2_get_set.get_c()=}')"
   ]
  },
  {
   "cell_type": "markdown",
   "metadata": {
    "slideshow": {
     "slide_type": "subslide"
    }
   },
   "source": [
    "## Klasa z elementami private z metodami get i set cd."
   ]
  },
  {
   "cell_type": "code",
   "execution_count": 102,
   "metadata": {
    "slideshow": {
     "slide_type": "fragment"
    }
   },
   "outputs": [
    {
     "name": "stdout",
     "output_type": "stream",
     "text": [
      "ex2_get_set.get_b()=5\n",
      "ex2_get_set.get_c()=6\n",
      "self.a=1\n",
      "self.__b=5\n",
      "self.__c=6\n"
     ]
    }
   ],
   "source": [
    "ex2_get_set.set_b(5)\n",
    "ex2_get_set.set_c(6)\n",
    "\n",
    "print(f'{ex2_get_set.get_b()=}')\n",
    "print(f'{ex2_get_set.get_c()=}')\n",
    "\n",
    "ex2_get_set.display()"
   ]
  },
  {
   "cell_type": "markdown",
   "metadata": {
    "slideshow": {
     "slide_type": "slide"
    }
   },
   "source": [
    "## Dziedziczenie z modyfikatorem dostępu\n",
    "\n",
    "Modyfikatory dostępu mają wpływ na dostęp do atrybutów klasy w następujący sposób:\n",
    "\n",
    "- Publiczny (public): Elementy publiczne klasy bazowej są dziedziczone jako publiczne przez klasy pochodne. Oznacza to, że elementy te są dostępne również po stronie klasy pochodnej i innych klas korzystających z klasy pochodnej.\n",
    "\n",
    "- Chroniony (protected): Elementy chronione klasy bazowej są dziedziczone jako chronione przez klasy pochodne. Elementy te są dostępne tylko dla klas pochodnych i nie mogą być używane poza nimi.\n",
    "\n",
    "- Prywatny (private): Elementy prywatne klasy bazowej nie są dziedziczone przez klasy pochodne. Oznacza to, że nie są one dostępne w klasach pochodnych ani w innych częściach kodu korzystających z klasy pochodnej.\n",
    "\n"
   ]
  },
  {
   "cell_type": "markdown",
   "metadata": {
    "slideshow": {
     "slide_type": "subslide"
    }
   },
   "source": [
    "## Przykład dziedziczenia z modyfikatorem private"
   ]
  },
  {
   "cell_type": "code",
   "execution_count": 103,
   "metadata": {
    "slideshow": {
     "slide_type": "fragment"
    }
   },
   "outputs": [],
   "source": [
    "class SubPrivate(Ex3_private):\n",
    "    def __init__(self):\n",
    "        super().__init__(10,100)\n",
    "        self.__c = 100\n",
    "        \n",
    "    def display_sub(self):\n",
    "        print(f'{self.a=}')\n",
    "        print(f'{self.__b=}')\n",
    "        print(f'{self.__c=}')"
   ]
  },
  {
   "cell_type": "code",
   "execution_count": 105,
   "metadata": {
    "slideshow": {
     "slide_type": "fragment"
    }
   },
   "outputs": [],
   "source": [
    "sub1 = SubPrivate() "
   ]
  },
  {
   "cell_type": "code",
   "execution_count": 106,
   "metadata": {
    "slideshow": {
     "slide_type": "fragment"
    }
   },
   "outputs": [
    {
     "data": {
      "text/plain": [
       "10"
      ]
     },
     "execution_count": 106,
     "metadata": {},
     "output_type": "execute_result"
    }
   ],
   "source": [
    "sub1.a"
   ]
  },
  {
   "cell_type": "code",
   "execution_count": 107,
   "metadata": {
    "slideshow": {
     "slide_type": "fragment"
    }
   },
   "outputs": [
    {
     "ename": "AttributeError",
     "evalue": "'SubPrivate' object has no attribute '__c'",
     "output_type": "error",
     "traceback": [
      "\u001b[0;31m---------------------------------------------------------------------------\u001b[0m",
      "\u001b[0;31mAttributeError\u001b[0m                            Traceback (most recent call last)",
      "Cell \u001b[0;32mIn[107], line 1\u001b[0m\n\u001b[0;32m----> 1\u001b[0m sub1\u001b[38;5;241m.\u001b[39m__c\n",
      "\u001b[0;31mAttributeError\u001b[0m: 'SubPrivate' object has no attribute '__c'"
     ]
    }
   ],
   "source": [
    "sub1.__c"
   ]
  },
  {
   "cell_type": "code",
   "execution_count": 109,
   "metadata": {
    "slideshow": {
     "slide_type": "fragment"
    }
   },
   "outputs": [
    {
     "name": "stdout",
     "output_type": "stream",
     "text": [
      "self.a=10\n",
      "self.__b=100\n",
      "self.__c=10\n"
     ]
    }
   ],
   "source": [
    "sub1.display() "
   ]
  },
  {
   "cell_type": "markdown",
   "metadata": {
    "slideshow": {
     "slide_type": "subslide"
    }
   },
   "source": [
    "## Dlaczego self.__c = 10 ?"
   ]
  },
  {
   "cell_type": "code",
   "execution_count": 110,
   "metadata": {
    "slideshow": {
     "slide_type": "fragment"
    }
   },
   "outputs": [
    {
     "data": {
      "text/plain": [
       "{'a': 10, '_Ex3_private__b': 100, '_Ex3_private__c': 10, '_SubPrivate__c': 100}"
      ]
     },
     "execution_count": 110,
     "metadata": {},
     "output_type": "execute_result"
    }
   ],
   "source": [
    "vars(sub1)"
   ]
  },
  {
   "cell_type": "markdown",
   "metadata": {
    "slideshow": {
     "slide_type": "subslide"
    }
   },
   "source": [
    "## Jak dotrzeć do zmiennych prywatnych funkcji dziedziczącej"
   ]
  },
  {
   "cell_type": "code",
   "execution_count": 111,
   "metadata": {
    "slideshow": {
     "slide_type": "fragment"
    }
   },
   "outputs": [],
   "source": [
    "class SubPrivate(Ex3_private):\n",
    "    def __init__(self):\n",
    "        super().__init__(10,100)\n",
    "        self.__c = 100\n",
    "        \n",
    "    def display_sub(self):\n",
    "        print(f'{self.a=}')\n",
    "        print(f'{self.__b=}')\n",
    "        print(f'{self.__c=}')"
   ]
  },
  {
   "cell_type": "code",
   "execution_count": 113,
   "metadata": {},
   "outputs": [
    {
     "name": "stdout",
     "output_type": "stream",
     "text": [
      "self.a=10\n",
      "self.__b=100\n",
      "self.__c=10\n"
     ]
    }
   ],
   "source": [
    "sub2 = SubPrivate()\n",
    "sub2.display()"
   ]
  },
  {
   "cell_type": "code",
   "execution_count": 114,
   "metadata": {
    "scrolled": true,
    "slideshow": {
     "slide_type": "fragment"
    }
   },
   "outputs": [
    {
     "name": "stdout",
     "output_type": "stream",
     "text": [
      "self.a=10\n"
     ]
    },
    {
     "ename": "AttributeError",
     "evalue": "'SubPrivate' object has no attribute '_SubPrivate__b'",
     "output_type": "error",
     "traceback": [
      "\u001b[0;31m---------------------------------------------------------------------------\u001b[0m",
      "\u001b[0;31mAttributeError\u001b[0m                            Traceback (most recent call last)",
      "Cell \u001b[0;32mIn[114], line 1\u001b[0m\n\u001b[0;32m----> 1\u001b[0m sub2\u001b[38;5;241m.\u001b[39mdisplay_sub()\n",
      "Cell \u001b[0;32mIn[111], line 8\u001b[0m, in \u001b[0;36mSubPrivate.display_sub\u001b[0;34m(self)\u001b[0m\n\u001b[1;32m      6\u001b[0m \u001b[38;5;28;01mdef\u001b[39;00m \u001b[38;5;21mdisplay_sub\u001b[39m(\u001b[38;5;28mself\u001b[39m):\n\u001b[1;32m      7\u001b[0m     \u001b[38;5;28mprint\u001b[39m(\u001b[38;5;124mf\u001b[39m\u001b[38;5;124m'\u001b[39m\u001b[38;5;132;01m{\u001b[39;00m\u001b[38;5;28mself\u001b[39m\u001b[38;5;241m.\u001b[39ma\u001b[38;5;132;01m=}\u001b[39;00m\u001b[38;5;124m'\u001b[39m)\n\u001b[0;32m----> 8\u001b[0m     \u001b[38;5;28mprint\u001b[39m(\u001b[38;5;124mf\u001b[39m\u001b[38;5;124m'\u001b[39m\u001b[38;5;132;01m{\u001b[39;00m\u001b[38;5;28mself\u001b[39m\u001b[38;5;241m.\u001b[39m__b\u001b[38;5;132;01m=}\u001b[39;00m\u001b[38;5;124m'\u001b[39m)\n\u001b[1;32m      9\u001b[0m     \u001b[38;5;28mprint\u001b[39m(\u001b[38;5;124mf\u001b[39m\u001b[38;5;124m'\u001b[39m\u001b[38;5;132;01m{\u001b[39;00m\u001b[38;5;28mself\u001b[39m\u001b[38;5;241m.\u001b[39m__c\u001b[38;5;132;01m=}\u001b[39;00m\u001b[38;5;124m'\u001b[39m)\n",
      "\u001b[0;31mAttributeError\u001b[0m: 'SubPrivate' object has no attribute '_SubPrivate__b'"
     ]
    }
   ],
   "source": [
    "sub2.display_sub()"
   ]
  },
  {
   "cell_type": "markdown",
   "metadata": {
    "slideshow": {
     "slide_type": "subslide"
    }
   },
   "source": [
    "## Jak dotrzeć do zmiennych prywatnych funkcji dziedziczącej"
   ]
  },
  {
   "cell_type": "code",
   "execution_count": 115,
   "metadata": {
    "slideshow": {
     "slide_type": "fragment"
    }
   },
   "outputs": [],
   "source": [
    "class SubPrivate(Ex3_private):\n",
    "    def __init__(self):\n",
    "        super().__init__(10,100)\n",
    "        self.__c = 100\n",
    "        \n",
    "    def display_sub(self):\n",
    "        print(f'{self.a=}')\n",
    "        print(f'{self.__c=}')"
   ]
  },
  {
   "cell_type": "code",
   "execution_count": 116,
   "metadata": {
    "slideshow": {
     "slide_type": "fragment"
    }
   },
   "outputs": [
    {
     "name": "stdout",
     "output_type": "stream",
     "text": [
      "self.a=10\n",
      "self.__c=100\n"
     ]
    }
   ],
   "source": [
    "sub3 = SubPrivate()\n",
    "sub3.display_sub()"
   ]
  },
  {
   "cell_type": "code",
   "execution_count": 117,
   "metadata": {},
   "outputs": [
    {
     "name": "stdout",
     "output_type": "stream",
     "text": [
      "self.a=10\n",
      "self.__b=100\n",
      "self.__c=10\n"
     ]
    }
   ],
   "source": [
    "sub3.display()"
   ]
  },
  {
   "cell_type": "markdown",
   "metadata": {
    "slideshow": {
     "slide_type": "subslide"
    }
   },
   "source": [
    "## Podsumowanie modyfikatorów dostępu\n",
    "\n",
    "\n",
    "| Modyfikator | Deklaracja     |     Znaczenie    |                       Dostęp                      |\n",
    "|-------------|----------------|:----------------:|:-------------------------------------------------:|\n",
    "| public      | variableName   | dostęp publiczny |         wszystkie klasy  (bez ograniczeń)         |\n",
    "|  protected  |  _variableName | dostęp chroniony | klasy w tym samym  pakiecie i  klasy dziedziczące |\n",
    "|   private   | __variableName |  dostęp prywatny |             tylko wewnątrz  tej klasy             |"
   ]
  },
  {
   "cell_type": "code",
   "execution_count": null,
   "metadata": {},
   "outputs": [],
   "source": []
  }
 ],
 "metadata": {
  "celltoolbar": "Slideshow",
  "jupytext": {
   "formats": "ipynb"
  },
  "kernelspec": {
   "display_name": "Python 3 (ipykernel)",
   "language": "python",
   "name": "python3"
  },
  "language_info": {
   "codemirror_mode": {
    "name": "ipython",
    "version": 3
   },
   "file_extension": ".py",
   "mimetype": "text/x-python",
   "name": "python",
   "nbconvert_exporter": "python",
   "pygments_lexer": "ipython3",
   "version": "3.11.5"
  },
  "rise": {
   "autolaunch": true,
   "backimage": "img/tlo_agh.png"
  }
 },
 "nbformat": 4,
 "nbformat_minor": 2
}
