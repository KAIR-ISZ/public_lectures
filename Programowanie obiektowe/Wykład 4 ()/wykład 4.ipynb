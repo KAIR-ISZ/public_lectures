{
 "cells": [
  {
   "cell_type": "markdown",
   "metadata": {
    "collapsed": true,
    "slideshow": {
     "slide_type": "slide"
    }
   },
   "source": [
    "# Programowanie Obirktowe\n",
    "\n",
    "## Klasy Abstrakcyjne\n",
    "\n",
    "### dr inż. Waldemar Bauer"
   ]
  },
  {
   "cell_type": "markdown",
   "metadata": {
    "slideshow": {
     "slide_type": "slide"
    }
   },
   "source": [
    "## Klasa abstrakcyjna\n",
    " \n",
    "- Rodzaj klasy która nie może inocjalizować obiektó. \n",
    "\n",
    "- Klasa abstrakcyjna jest uogólnieniem/bazą dla klas pochodnych, które nabywają jej własności poprzez dziedziczenie.\n",
    "\n",
    "- Zależnie od użytego języka programowania klasy abstrakcyjne tworzy się na różne sposoby."
   ]
  },
  {
   "cell_type": "markdown",
   "metadata": {
    "slideshow": {
     "slide_type": "fragment"
    }
   },
   "source": [
    "## Przykład klasy abstrakcyjnej"
   ]
  },
  {
   "cell_type": "code",
   "execution_count": 68,
   "metadata": {
    "slideshow": {
     "slide_type": "fragment"
    }
   },
   "outputs": [],
   "source": [
    "import abc\n",
    "\n",
    "class Figure(abc.ABC):\n",
    "    \n",
    "    def __init__(self, *args, **kwargs):\n",
    "        super().__init__()\n",
    "        \n",
    "    @abc.abstractmethod\n",
    "    def area(self):\n",
    "        ...\n",
    "    \n",
    "    def print_area(self):\n",
    "        print(self.area())\n",
    "    \n",
    "    def __repr__(self):\n",
    "        return self.__class__.__name__\n",
    "    "
   ]
  },
  {
   "cell_type": "code",
   "execution_count": 69,
   "metadata": {
    "slideshow": {
     "slide_type": "subslide"
    }
   },
   "outputs": [
    {
     "name": "stdout",
     "output_type": "stream",
     "text": [
      "Can't instantiate abstract class Figure with abstract method area\n"
     ]
    }
   ],
   "source": [
    "try:\n",
    "    fig = Figure()\n",
    "except Exception as e:\n",
    "    print(e)"
   ]
  },
  {
   "cell_type": "markdown",
   "metadata": {
    "slideshow": {
     "slide_type": "subslide"
    }
   },
   "source": [
    "## Niepoprawna definicja obiketu dziedzicącego po klasie abstrakcyjnej\n",
    "\n",
    "- Obiekt dziedziczący po klasie abstrakcyjnej musi zaimpelmentować wszystkie metody apstrakcyjne, żeby przestał być kalsą abstarkcyjną"
   ]
  },
  {
   "cell_type": "code",
   "execution_count": 70,
   "metadata": {
    "slideshow": {
     "slide_type": "fragment"
    }
   },
   "outputs": [],
   "source": [
    "import math\n",
    "\n",
    "class Circle(Figure):\n",
    "    def __init__(self, R):\n",
    "        self.R = R\n",
    "        super().__init__()\n"
   ]
  },
  {
   "cell_type": "code",
   "execution_count": 71,
   "metadata": {
    "slideshow": {
     "slide_type": "fragment"
    }
   },
   "outputs": [
    {
     "name": "stdout",
     "output_type": "stream",
     "text": [
      "Can't instantiate abstract class Circle with abstract method area\n"
     ]
    }
   ],
   "source": [
    "try:\n",
    "    circle = Circle()\n",
    "except Exception as e:\n",
    "    print(e)"
   ]
  },
  {
   "cell_type": "markdown",
   "metadata": {
    "slideshow": {
     "slide_type": "subslide"
    }
   },
   "source": [
    "## Poprawna definicja klasy dziedzicącej po klasie abstrakcyjnej"
   ]
  },
  {
   "cell_type": "code",
   "execution_count": 72,
   "metadata": {
    "slideshow": {
     "slide_type": "fragment"
    }
   },
   "outputs": [],
   "source": [
    "import math\n",
    "\n",
    "class Circle(Figure):\n",
    "    def __init__(self, R):\n",
    "        self.R = R\n",
    "        super().__init__()\n",
    "    \n",
    "    def area(self):\n",
    "        return math.pi*self.R**2 "
   ]
  },
  {
   "cell_type": "code",
   "execution_count": 74,
   "metadata": {
    "slideshow": {
     "slide_type": "fragment"
    }
   },
   "outputs": [],
   "source": [
    "class Rectangle(Figure):\n",
    "    def __init__(self, a,b):\n",
    "        self.a = a\n",
    "        self.b = b\n",
    "        super().__init__()\n",
    "    \n",
    "    def area(self):\n",
    "        return self.a*self.b"
   ]
  },
  {
   "cell_type": "markdown",
   "metadata": {
    "slideshow": {
     "slide_type": "subslide"
    }
   },
   "source": [
    "## Inicjalizacja obiektów "
   ]
  },
  {
   "cell_type": "code",
   "execution_count": 75,
   "metadata": {
    "slideshow": {
     "slide_type": "fragment"
    }
   },
   "outputs": [
    {
     "name": "stdout",
     "output_type": "stream",
     "text": [
      "circle.area()=314.1592653589793\n",
      "Circle\n"
     ]
    }
   ],
   "source": [
    "circle = Circle(R = 10)\n",
    "print(f'{circle.area()=}')\n",
    "print(circle)"
   ]
  },
  {
   "cell_type": "code",
   "execution_count": 76,
   "metadata": {
    "slideshow": {
     "slide_type": "fragment"
    }
   },
   "outputs": [
    {
     "name": "stdout",
     "output_type": "stream",
     "text": [
      "rectangle.area()=100\n",
      "Rectangle\n"
     ]
    }
   ],
   "source": [
    "rectangle = Rectangle(a = 10, b = 10)\n",
    "print(f'{rectangle.area()=}')\n",
    "print(rectangle)"
   ]
  },
  {
   "cell_type": "markdown",
   "metadata": {
    "slideshow": {
     "slide_type": "slide"
    }
   },
   "source": [
    "## Dziedziczenie po wielu "
   ]
  },
  {
   "cell_type": "code",
   "execution_count": 78,
   "metadata": {
    "slideshow": {
     "slide_type": "fragment"
    }
   },
   "outputs": [],
   "source": [
    "class MyABC1(abc.ABC):\n",
    "    @abc.abstractmethod\n",
    "    def fun1(self):\n",
    "        ...\n",
    "    @abc.abstractmethod\n",
    "    def fun_abc1(self):\n",
    "        ...\n",
    "        \n",
    "class MyABC2(abc.ABC):\n",
    "    @abc.abstractmethod\n",
    "    def fun1(self):\n",
    "        ...\n",
    "    def fun_abc2(self):\n",
    "        print('fun_abc2')"
   ]
  },
  {
   "cell_type": "code",
   "execution_count": 79,
   "metadata": {
    "scrolled": true,
    "slideshow": {
     "slide_type": "fragment"
    }
   },
   "outputs": [
    {
     "name": "stdout",
     "output_type": "stream",
     "text": [
      "MyObj\n",
      "fun_abc1\n",
      "fun_abc2\n"
     ]
    }
   ],
   "source": [
    "class MyObj(MyABC1, MyABC2):\n",
    "    def __init__(self):\n",
    "        super().__init__()\n",
    "        \n",
    "    def fun1(self):\n",
    "        print(self.__class__.__name__)\n",
    "    \n",
    "    def fun_abc1(self):\n",
    "        print('fun_abc1')\n",
    "\n",
    "        \n",
    "myobj = MyObj()\n",
    "myobj.fun1()\n",
    "myobj.fun_abc1()\n",
    "myobj.fun_abc2()"
   ]
  },
  {
   "cell_type": "markdown",
   "metadata": {
    "slideshow": {
     "slide_type": "subslide"
    }
   },
   "source": [
    "## Problem dziedziczenia powileu"
   ]
  },
  {
   "cell_type": "code",
   "execution_count": 80,
   "metadata": {
    "slideshow": {
     "slide_type": "fragment"
    }
   },
   "outputs": [],
   "source": [
    "class MyABC3(abc.ABC):\n",
    "    @abc.abstractmethod\n",
    "    def fun1(self,a):\n",
    "        ...\n",
    "        \n",
    "class MyABC4(abc.ABC):\n",
    "    @abc.abstractmethod\n",
    "    def fun1(self,b,c):\n",
    "        ...\n",
    "        \n",
    "class MyObj2(MyABC3, MyABC4):\n",
    "    def __init__(self):\n",
    "        super().__init__()\n",
    "        \n",
    "    def fun1(self,a,b,c):\n",
    "        print(self.__class__.__name__)"
   ]
  },
  {
   "cell_type": "code",
   "execution_count": 82,
   "metadata": {
    "slideshow": {
     "slide_type": "fragment"
    }
   },
   "outputs": [
    {
     "ename": "TypeError",
     "evalue": "fun1() missing 2 required positional arguments: 'b' and 'c'",
     "output_type": "error",
     "traceback": [
      "\u001b[0;31m---------------------------------------------------------------------------\u001b[0m",
      "\u001b[0;31mTypeError\u001b[0m                                 Traceback (most recent call last)",
      "Input \u001b[0;32mIn [82]\u001b[0m, in \u001b[0;36m<cell line: 6>\u001b[0;34m()\u001b[0m\n\u001b[1;32m      3\u001b[0m \u001b[38;5;28;01mexcept\u001b[39;00m \u001b[38;5;167;01mException\u001b[39;00m \u001b[38;5;28;01mas\u001b[39;00m e:\n\u001b[1;32m      4\u001b[0m     \u001b[38;5;28mprint\u001b[39m(e)\n\u001b[0;32m----> 6\u001b[0m \u001b[43mmyobj2\u001b[49m\u001b[38;5;241;43m.\u001b[39;49m\u001b[43mfun1\u001b[49m\u001b[43m(\u001b[49m\u001b[38;5;241;43m1\u001b[39;49m\u001b[43m)\u001b[49m\n",
      "\u001b[0;31mTypeError\u001b[0m: fun1() missing 2 required positional arguments: 'b' and 'c'"
     ]
    }
   ],
   "source": [
    "try:\n",
    "    myobj2 = MyObj2()\n",
    "except Exception as e:\n",
    "    print(e)\n",
    "    \n",
    "myobj2.fun1(1)"
   ]
  },
  {
   "cell_type": "markdown",
   "metadata": {
    "slideshow": {
     "slide_type": "slide"
    }
   },
   "source": [
    "## Duck typing\n",
    "\n",
    "- Termin ten pochodzi od powiedzenia „Jeśli coś chodzi jak kaczka i kwacze jak kaczka, to musi być kaczką”\n",
    "- Koncepcja związana z typowaniem dynamicznym, w której typ lub klasa obiektu jest mniej ważna niż metody\n",
    "- Polega na tym by nie sprawdzasz typów obiektów, zamiast tego sprawdzana jest obecność danej metody lub atrybutu"
   ]
  },
  {
   "cell_type": "markdown",
   "metadata": {
    "slideshow": {
     "slide_type": "subslide"
    }
   },
   "source": [
    "## Metoda _isinstance_"
   ]
  },
  {
   "cell_type": "code",
   "execution_count": 85,
   "metadata": {
    "slideshow": {
     "slide_type": "fragment"
    }
   },
   "outputs": [
    {
     "name": "stdout",
     "output_type": "stream",
     "text": [
      "isinstance(myobj2,object)=True\n",
      "isinstance(myobj2,object)=True\n",
      "isinstance(myobj2,object)=True\n"
     ]
    }
   ],
   "source": [
    "print(f'{isinstance(myobj2,MyABC3)=}')\n",
    "print(f'{isinstance(myobj2,MyABC4)=}')\n",
    "print(f'{isinstance(myobj2,MyABC1)=}')"
   ]
  },
  {
   "cell_type": "markdown",
   "metadata": {
    "slideshow": {
     "slide_type": "slide"
    }
   },
   "source": [
    "## Polimorfizm\n",
    "\n",
    "- wielopostaciowość to jedno z podstawowych założeń programowania obiektowego. \n",
    "\n",
    "- Wielopostaciowość, to umiejętność progrmu do ''interpretacji'' obiektów lub metod na różne sposoby\n",
    "\n",
    "- Polimorfizm statyczny to taki który dokonuje się na etapie kompilacji kodu\n",
    "\n",
    "- Polimorfizm dynamiczny to interpretacja typów w trakcie działania programu \n",
    "\n"
   ]
  },
  {
   "cell_type": "markdown",
   "metadata": {
    "slideshow": {
     "slide_type": "subslide"
    }
   },
   "source": [
    "## Przykład polimorfizmu"
   ]
  },
  {
   "cell_type": "code",
   "execution_count": 88,
   "metadata": {
    "slideshow": {
     "slide_type": "fragment"
    }
   },
   "outputs": [],
   "source": [
    "class BaseClass():\n",
    "    def baseMetod(self):\n",
    "        print('Klasa bazowa')\n",
    "        \n",
    "class Inherit1(BaseClass):\n",
    "    def baseMetod(self):\n",
    "        print('Klasa inherit 1')\n",
    "\n",
    "class Inherit2(Inherit1):\n",
    "    def baseMetod(self):\n",
    "        print('Klasa inherit 2')"
   ]
  },
  {
   "cell_type": "markdown",
   "metadata": {
    "slideshow": {
     "slide_type": "subslide"
    }
   },
   "source": [
    "## Przykład polimorfizmu cd."
   ]
  },
  {
   "cell_type": "code",
   "execution_count": 87,
   "metadata": {
    "slideshow": {
     "slide_type": "fragment"
    }
   },
   "outputs": [],
   "source": [
    "bc =  BaseClass()    \n",
    "in1 = Inherit1()\n",
    "in2 = Inherit2()"
   ]
  },
  {
   "cell_type": "code",
   "execution_count": 90,
   "metadata": {
    "slideshow": {
     "slide_type": "fragment"
    }
   },
   "outputs": [
    {
     "name": "stdout",
     "output_type": "stream",
     "text": [
      "Klasa bazowa\n"
     ]
    }
   ],
   "source": [
    "bc.baseMetod()"
   ]
  },
  {
   "cell_type": "code",
   "execution_count": 91,
   "metadata": {
    "slideshow": {
     "slide_type": "fragment"
    }
   },
   "outputs": [
    {
     "name": "stdout",
     "output_type": "stream",
     "text": [
      "Klasa inherit 1\n"
     ]
    }
   ],
   "source": [
    "in1.baseMetod()"
   ]
  },
  {
   "cell_type": "code",
   "execution_count": 92,
   "metadata": {
    "slideshow": {
     "slide_type": "fragment"
    }
   },
   "outputs": [
    {
     "name": "stdout",
     "output_type": "stream",
     "text": [
      "Klasa inherit 2\n"
     ]
    }
   ],
   "source": [
    "in2.baseMetod()"
   ]
  },
  {
   "cell_type": "code",
   "execution_count": null,
   "metadata": {},
   "outputs": [],
   "source": []
  }
 ],
 "metadata": {
  "celltoolbar": "Slideshow",
  "jupytext": {
   "formats": "ipynb"
  },
  "kernelspec": {
   "display_name": "Python 3 (ipykernel)",
   "language": "python",
   "name": "python3"
  },
  "language_info": {
   "codemirror_mode": {
    "name": "ipython",
    "version": 3
   },
   "file_extension": ".py",
   "mimetype": "text/x-python",
   "name": "python",
   "nbconvert_exporter": "python",
   "pygments_lexer": "ipython3",
   "version": "3.9.12"
  },
  "rise": {
   "autolaunch": true,
   "backimage": "img/tlo_agh.png"
  }
 },
 "nbformat": 4,
 "nbformat_minor": 2
}
