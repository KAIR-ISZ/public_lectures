{
 "cells": [
  {
   "cell_type": "markdown",
   "metadata": {
    "collapsed": true,
    "slideshow": {
     "slide_type": "slide"
    }
   },
   "source": [
    "# Programowanie Obirktowe\n",
    "\n",
    "## Klasy Abstrakcyjne\n",
    "\n",
    "### dr inż. Waldemar Bauer"
   ]
  },
  {
   "cell_type": "markdown",
   "metadata": {
    "slideshow": {
     "slide_type": "slide"
    }
   },
   "source": [
    "## Dziedziczenie\n",
    " \n",
    "- Jest to rodzaj relacji pomiędzy dwoma klasami, która pozwala klasie dziedzicącej używać kodu z klasy podstawowej\n",
    "- Dzięki niemu można budować hierarchię między klasami, to znaczy obiekt może przejąć metody i właściwości innego obiektu. \n",
    "- Najczęściej używamy dziedziczenia po to, aby stworzyć bardziej wyspecjalizowaną klasę. "
   ]
  },
  {
   "cell_type": "markdown",
   "metadata": {
    "slideshow": {
     "slide_type": "subslide"
    }
   },
   "source": [
    "## Przykład klasy bazowej"
   ]
  },
  {
   "cell_type": "code",
   "execution_count": 19,
   "metadata": {
    "slideshow": {
     "slide_type": "fragment"
    }
   },
   "outputs": [],
   "source": [
    "class Figure():\n",
    "    \n",
    "    def __init__(self, *args, **kwargs):\n",
    "        super().__init__()\n",
    "        self.name = 'Figure'\n",
    "        \n",
    "    def print_name(self):\n",
    "        print(f'Jestem figurą typu: {self.name}')\n",
    "        \n",
    "    def __repr__(self):\n",
    "        return self.__class__.__name__"
   ]
  },
  {
   "cell_type": "markdown",
   "metadata": {
    "slideshow": {
     "slide_type": "subslide"
    }
   },
   "source": [
    "## Inicjalizacja klasy bazowej"
   ]
  },
  {
   "cell_type": "code",
   "execution_count": 18,
   "metadata": {
    "slideshow": {
     "slide_type": "subslide"
    }
   },
   "outputs": [
    {
     "name": "stdout",
     "output_type": "stream",
     "text": [
      "Jestem figurą typu: Figure\n",
      "Figure\n"
     ]
    }
   ],
   "source": [
    "figure = Figure() \n",
    "figure.print_name()\n",
    "print(figure)"
   ]
  },
  {
   "cell_type": "markdown",
   "metadata": {
    "slideshow": {
     "slide_type": "subslide"
    }
   },
   "source": [
    "## Przykład klas pochodnych\n"
   ]
  },
  {
   "cell_type": "code",
   "execution_count": 34,
   "metadata": {
    "slideshow": {
     "slide_type": "fragment"
    }
   },
   "outputs": [],
   "source": [
    "class Circle(Figure):\n",
    "    def __init__(self, r):\n",
    "        super().__init__()\n",
    "        self.name = 'Circle' \n",
    "        self.r = r\n",
    "    \n",
    "    def print_name(self):\n",
    "        super().print_name()\n",
    "        print(f'O promieniu {self.r=}')\n",
    "    \n",
    "\n",
    "class Rectangle(Figure):\n",
    "    def __init__(self, a,b):\n",
    "        super().__init__()\n",
    "        self.name = 'Rectangle' \n",
    "        self.a = a\n",
    "        self.b = b\n",
    "    \n",
    "    def print_name(self):\n",
    "        super().print_name()\n",
    "        print(f'O bokach {self.a=} i {self.b=}')"
   ]
  },
  {
   "cell_type": "markdown",
   "metadata": {
    "slideshow": {
     "slide_type": "subslide"
    }
   },
   "source": [
    "## Inicjalizacja klas pochodnych"
   ]
  },
  {
   "cell_type": "code",
   "execution_count": 31,
   "metadata": {
    "slideshow": {
     "slide_type": "fragment"
    }
   },
   "outputs": [
    {
     "name": "stdout",
     "output_type": "stream",
     "text": [
      "Jestem figurą typu: Circle\n",
      "O promieniu self.r=10\n",
      "Circle\n",
      "\n",
      "O bokach self.a=1 i self.b=2\n",
      "<__main__.Rectangle object at 0x1048ea190>\n",
      "\n"
     ]
    }
   ],
   "source": [
    "circle = Circle(10)\n",
    "rectangle = Rectangle(1,2)\n",
    "\n",
    "circle.print_name()\n",
    "print(circle)\n",
    "print()\n",
    "\n",
    "rectangle.print_name()\n",
    "print(rectangle)\n",
    "print()"
   ]
  },
  {
   "cell_type": "markdown",
   "metadata": {
    "slideshow": {
     "slide_type": "slide"
    }
   },
   "source": [
    "## Klasa abstrakcyjna\n",
    " \n",
    "- Rodzaj klasy która nie może inocjalizować obiektó. \n",
    "\n",
    "- Klasa abstrakcyjna jest uogólnieniem/bazą dla klas pochodnych, które nabywają jej własności poprzez dziedziczenie.\n",
    "\n",
    "- Zależnie od użytego języka programowania klasy abstrakcyjne tworzy się na różne sposoby."
   ]
  },
  {
   "cell_type": "markdown",
   "metadata": {
    "slideshow": {
     "slide_type": "fragment"
    }
   },
   "source": [
    "## Przykład klasy abstrakcyjnej"
   ]
  },
  {
   "cell_type": "code",
   "execution_count": 37,
   "metadata": {
    "slideshow": {
     "slide_type": "fragment"
    }
   },
   "outputs": [],
   "source": [
    "import abc\n",
    "\n",
    "class Figure(abc.ABC):\n",
    "    \n",
    "    def __init__(self, *args, **kwargs):\n",
    "        super().__init__()\n",
    "        \n",
    "    @abc.abstractmethod\n",
    "    def area(self):\n",
    "        ...\n",
    "    \n",
    "    def print_area(self):\n",
    "        print(self.area())\n",
    "    \n",
    "    def __repr__(self):\n",
    "        return self.__class__.__name__\n",
    "    "
   ]
  },
  {
   "cell_type": "code",
   "execution_count": 38,
   "metadata": {
    "slideshow": {
     "slide_type": "subslide"
    }
   },
   "outputs": [
    {
     "name": "stdout",
     "output_type": "stream",
     "text": [
      "Can't instantiate abstract class Figure with abstract method area\n"
     ]
    }
   ],
   "source": [
    "try:\n",
    "    fig = Figure()\n",
    "except Exception as e:\n",
    "    print(e)"
   ]
  },
  {
   "cell_type": "markdown",
   "metadata": {
    "slideshow": {
     "slide_type": "subslide"
    }
   },
   "source": [
    "## Niepoprawna definicja obiketu dziedzicącego po klasie abstrakcyjnej\n",
    "\n",
    "- Obiekt dziedziczący po klasie abstrakcyjnej musi zaimpelmentować wszystkie metody apstrakcyjne, żeby przestał być kalsą abstarkcyjną"
   ]
  },
  {
   "cell_type": "code",
   "execution_count": 39,
   "metadata": {
    "slideshow": {
     "slide_type": "fragment"
    }
   },
   "outputs": [],
   "source": [
    "import math\n",
    "\n",
    "class Circle(Figure):\n",
    "    def __init__(self, R):\n",
    "        super().__init__()\n",
    "        self.R = R\n"
   ]
  },
  {
   "cell_type": "code",
   "execution_count": 40,
   "metadata": {
    "slideshow": {
     "slide_type": "fragment"
    }
   },
   "outputs": [
    {
     "name": "stdout",
     "output_type": "stream",
     "text": [
      "Can't instantiate abstract class Circle with abstract method area\n"
     ]
    }
   ],
   "source": [
    "try:\n",
    "    circle = Circle()\n",
    "except Exception as e:\n",
    "    print(e)"
   ]
  },
  {
   "cell_type": "markdown",
   "metadata": {
    "slideshow": {
     "slide_type": "subslide"
    }
   },
   "source": [
    "## Poprawna definicja klasy dziedzicącej po klasie abstrakcyjnej"
   ]
  },
  {
   "cell_type": "code",
   "execution_count": 41,
   "metadata": {
    "slideshow": {
     "slide_type": "fragment"
    }
   },
   "outputs": [],
   "source": [
    "import math\n",
    "\n",
    "class Circle(Figure):\n",
    "    def __init__(self, R):\n",
    "        super().__init__()\n",
    "        self.R = R\n",
    "        \n",
    "    def area(self):\n",
    "        return math.pi*self.R**2 "
   ]
  },
  {
   "cell_type": "code",
   "execution_count": 42,
   "metadata": {
    "slideshow": {
     "slide_type": "fragment"
    }
   },
   "outputs": [],
   "source": [
    "class Rectangle(Figure):\n",
    "    def __init__(self, a,b):\n",
    "        super().__init__()\n",
    "        self.a = a\n",
    "        self.b = b\n",
    "            \n",
    "    def area(self):\n",
    "        return self.a*self.b"
   ]
  },
  {
   "cell_type": "markdown",
   "metadata": {
    "slideshow": {
     "slide_type": "subslide"
    }
   },
   "source": [
    "## Inicjalizacja obiektów "
   ]
  },
  {
   "cell_type": "code",
   "execution_count": 43,
   "metadata": {
    "slideshow": {
     "slide_type": "fragment"
    }
   },
   "outputs": [
    {
     "name": "stdout",
     "output_type": "stream",
     "text": [
      "circle.area()=314.1592653589793\n",
      "Circle\n"
     ]
    }
   ],
   "source": [
    "circle = Circle(R = 10)\n",
    "print(f'{circle.area()=}')\n",
    "print(circle)"
   ]
  },
  {
   "cell_type": "code",
   "execution_count": 44,
   "metadata": {
    "slideshow": {
     "slide_type": "fragment"
    }
   },
   "outputs": [
    {
     "name": "stdout",
     "output_type": "stream",
     "text": [
      "rectangle.area()=100\n",
      "Rectangle\n"
     ]
    }
   ],
   "source": [
    "rectangle = Rectangle(a = 10, b = 10)\n",
    "print(f'{rectangle.area()=}')\n",
    "print(rectangle)"
   ]
  },
  {
   "cell_type": "markdown",
   "metadata": {
    "slideshow": {
     "slide_type": "slide"
    }
   },
   "source": [
    "## Dziedziczenie po wielu "
   ]
  },
  {
   "cell_type": "code",
   "execution_count": 45,
   "metadata": {
    "slideshow": {
     "slide_type": "fragment"
    }
   },
   "outputs": [],
   "source": [
    "class MyABC1(abc.ABC):\n",
    "    @abc.abstractmethod\n",
    "    def fun1(self):\n",
    "        ...\n",
    "    @abc.abstractmethod\n",
    "    def fun_abc1(self):\n",
    "        ...\n",
    "        \n",
    "class MyABC2(abc.ABC):\n",
    "    @abc.abstractmethod\n",
    "    def fun1(self):\n",
    "        ...\n",
    "    def fun_abc2(self):\n",
    "        print('fun_abc2')"
   ]
  },
  {
   "cell_type": "code",
   "execution_count": 46,
   "metadata": {
    "scrolled": true,
    "slideshow": {
     "slide_type": "fragment"
    }
   },
   "outputs": [
    {
     "name": "stdout",
     "output_type": "stream",
     "text": [
      "MyObj\n",
      "fun_abc1\n",
      "fun_abc2\n"
     ]
    }
   ],
   "source": [
    "class MyObj(MyABC1, MyABC2):\n",
    "    def __init__(self):\n",
    "        super().__init__()\n",
    "        \n",
    "    def fun1(self):\n",
    "        print(self.__class__.__name__)\n",
    "    \n",
    "    def fun_abc1(self):\n",
    "        print('fun_abc1')\n",
    "\n",
    "         \n",
    "myobj = MyObj()\n",
    "myobj.fun1()\n",
    "myobj.fun_abc1()\n",
    "myobj.fun_abc2()"
   ]
  },
  {
   "cell_type": "markdown",
   "metadata": {
    "slideshow": {
     "slide_type": "subslide"
    }
   },
   "source": [
    "## Problem dziedziczenia powileu"
   ]
  },
  {
   "cell_type": "code",
   "execution_count": 54,
   "metadata": {
    "slideshow": {
     "slide_type": "fragment"
    }
   },
   "outputs": [],
   "source": [
    "class MyABC3(abc.ABC):\n",
    "    @abc.abstractmethod\n",
    "    def fun1(self,a):\n",
    "        ...\n",
    "        \n",
    "class MyABC4(abc.ABC):\n",
    "    @abc.abstractmethod\n",
    "    def fun1(self,b,c):\n",
    "        ...\n",
    "        \n",
    "class MyObj2(MyABC3, MyABC4):\n",
    "    def __init__(self):\n",
    "        super().__init__()\n",
    "        \n",
    "    def fun1(self,a,b,c):\n",
    "        print(self.__class__.__name__)"
   ]
  },
  {
   "cell_type": "code",
   "execution_count": 55,
   "metadata": {
    "slideshow": {
     "slide_type": "fragment"
    }
   },
   "outputs": [
    {
     "name": "stdout",
     "output_type": "stream",
     "text": [
      "MyObj2\n"
     ]
    }
   ],
   "source": [
    "try:\n",
    "    myobj2 = MyObj2()\n",
    "except Exception as e:\n",
    "    print(e)\n",
    "    \n",
    "myobj2.fun1(1,2,3)"
   ]
  },
  {
   "cell_type": "markdown",
   "metadata": {
    "slideshow": {
     "slide_type": "slide"
    }
   },
   "source": [
    "## Duck typing\n",
    "\n",
    "- Termin ten pochodzi od powiedzenia „Jeśli coś chodzi jak kaczka i kwacze jak kaczka, to musi być kaczką”\n",
    "- Koncepcja związana z typowaniem dynamicznym, w której typ lub klasa obiektu jest mniej ważna niż metody\n",
    "- Polega na tym by nie sprawdzasz typów obiektów, zamiast tego sprawdzana jest obecność danej metody lub atrybutu"
   ]
  },
  {
   "cell_type": "markdown",
   "metadata": {
    "slideshow": {
     "slide_type": "subslide"
    }
   },
   "source": [
    "## Metoda _isinstance_"
   ]
  },
  {
   "cell_type": "code",
   "execution_count": 57,
   "metadata": {
    "slideshow": {
     "slide_type": "fragment"
    }
   },
   "outputs": [
    {
     "name": "stdout",
     "output_type": "stream",
     "text": [
      "isinstance(myobj2,MyABC3)=True\n",
      "isinstance(myobj2,MyABC4)=True\n",
      "isinstance(myobj2,MyABC1)=False\n",
      "isinstance(myobj2,abc.ABC)=True\n"
     ]
    }
   ],
   "source": [
    "print(f'{isinstance(myobj2,MyABC3)=}')\n",
    "print(f'{isinstance(myobj2,MyABC4)=}')\n",
    "print(f'{isinstance(myobj2,MyABC1)=}')\n",
    "print(f'{isinstance(myobj2,abc.ABC)=}')\n"
   ]
  },
  {
   "cell_type": "markdown",
   "metadata": {
    "slideshow": {
     "slide_type": "slide"
    }
   },
   "source": [
    "## Polimorfizm\n",
    "\n",
    "- wielopostaciowość to jedno z podstawowych założeń programowania obiektowego. \n",
    "\n",
    "- Wielopostaciowość, to umiejętność progrmu do ''interpretacji'' obiektów lub metod na różne sposoby\n",
    "\n",
    "- Polimorfizm statyczny to taki który dokonuje się na etapie kompilacji kodu\n",
    "\n",
    "- Polimorfizm dynamiczny to interpretacja typów w trakcie działania programu \n",
    "\n"
   ]
  },
  {
   "cell_type": "markdown",
   "metadata": {
    "slideshow": {
     "slide_type": "subslide"
    }
   },
   "source": [
    "## Przykład polimorfizmu"
   ]
  },
  {
   "cell_type": "code",
   "execution_count": 70,
   "metadata": {
    "slideshow": {
     "slide_type": "fragment"
    }
   },
   "outputs": [],
   "source": [
    "class BaseClass():\n",
    "    def baseMetod(self):\n",
    "        print('Klasa bazowa')\n",
    "        \n",
    "class Inherit1(BaseClass):\n",
    "    def baseMetod(self):\n",
    "        print('Klasa inherit 1')\n",
    "\n",
    "class Inherit2(Inherit1):\n",
    "    def baseMetod(self):\n",
    "        super().baseMetod()\n",
    "        print('Klasa inherit 2')"
   ]
  },
  {
   "cell_type": "markdown",
   "metadata": {
    "slideshow": {
     "slide_type": "subslide"
    }
   },
   "source": [
    "## Przykład polimorfizmu cd."
   ]
  },
  {
   "cell_type": "code",
   "execution_count": 71,
   "metadata": {
    "slideshow": {
     "slide_type": "fragment"
    }
   },
   "outputs": [],
   "source": [
    "bc =  BaseClass()    \n",
    "in1 = Inherit1()\n",
    "in2 = Inherit2()"
   ]
  },
  {
   "cell_type": "code",
   "execution_count": 73,
   "metadata": {
    "slideshow": {
     "slide_type": "fragment"
    }
   },
   "outputs": [
    {
     "name": "stdout",
     "output_type": "stream",
     "text": [
      "Klasa bazowa\n"
     ]
    }
   ],
   "source": [
    "bc.baseMetod()"
   ]
  },
  {
   "cell_type": "code",
   "execution_count": 74,
   "metadata": {
    "slideshow": {
     "slide_type": "fragment"
    }
   },
   "outputs": [
    {
     "name": "stdout",
     "output_type": "stream",
     "text": [
      "Klasa inherit 1\n"
     ]
    }
   ],
   "source": [
    "in1.baseMetod()"
   ]
  },
  {
   "cell_type": "code",
   "execution_count": 75,
   "metadata": {
    "slideshow": {
     "slide_type": "fragment"
    }
   },
   "outputs": [
    {
     "name": "stdout",
     "output_type": "stream",
     "text": [
      "Klasa inherit 1\n",
      "Klasa inherit 2\n"
     ]
    }
   ],
   "source": [
    "in2.baseMetod()"
   ]
  },
  {
   "cell_type": "code",
   "execution_count": 77,
   "metadata": {},
   "outputs": [
    {
     "data": {
      "text/plain": [
       "True"
      ]
     },
     "execution_count": 77,
     "metadata": {},
     "output_type": "execute_result"
    }
   ],
   "source": [
    "isinstance(in2,BaseClass)"
   ]
  }
 ],
 "metadata": {
  "celltoolbar": "Slideshow",
  "jupytext": {
   "formats": "ipynb"
  },
  "kernelspec": {
   "display_name": "Python 3 (ipykernel)",
   "language": "python",
   "name": "python3"
  },
  "language_info": {
   "codemirror_mode": {
    "name": "ipython",
    "version": 3
   },
   "file_extension": ".py",
   "mimetype": "text/x-python",
   "name": "python",
   "nbconvert_exporter": "python",
   "pygments_lexer": "ipython3",
   "version": "3.11.5"
  },
  "rise": {
   "autolaunch": true,
   "backimage": "img/tlo_agh.png"
  }
 },
 "nbformat": 4,
 "nbformat_minor": 2
}
