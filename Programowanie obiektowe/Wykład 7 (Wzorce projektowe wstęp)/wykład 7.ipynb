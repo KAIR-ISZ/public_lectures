{
 "cells": [
  {
   "cell_type": "markdown",
   "metadata": {
    "collapsed": true,
    "slideshow": {
     "slide_type": "slide"
    }
   },
   "source": [
    "# Programowanie Obirktowe\n",
    "\n",
    "## Wstęp - wzorce projektowe\n",
    "\n",
    "### dr inż. Waldemar Bauer"
   ]
  },
  {
   "cell_type": "markdown",
   "metadata": {
    "slideshow": {
     "slide_type": "slide"
    }
   },
   "source": [
    "## Co to jest wzorzec projektowy?\n",
    "\n",
    "- Wzorce projektowe to typowe rozwiązania często występujących problemów w projektowaniu oprogramowania. \n",
    "\n",
    "- Są to ''gotowe plany'', które można dostosować, aby rozwiązać powtarzający się problem projektowy w kodzie.\n",
    "\n",
    "- Wzorzec nie jest konkretnym fragmentem kodu, ale ogólną koncepcją rozwiązania konkretnego problemu. \n",
    "\n",
    "- Można analizować szczegóły wzorca i wdrożyć rozwiązanie pasujące do realiów własnego programu."
   ]
  },
  {
   "cell_type": "markdown",
   "metadata": {
    "slideshow": {
     "slide_type": "subslide"
    }
   },
   "source": [
    "## Czy wzorzec jest algorytmem?\n",
    "\n",
    "- Wzorce są często mylone z algorytmami, ponieważ oba pojęcia opisują typowe rozwiązania niektórych znanych problemów. - Algorytm zawsze definiuje jasny zestaw działań, które mogą osiągnąć jakiś cel. \n",
    "- Wzorzec jest bardziej ogólnym opisem rozwiązania. \n",
    "- Kod tego samego wzorca zastosowany do dwóch różnych programów może się różnić.\n"
   ]
  },
  {
   "cell_type": "markdown",
   "metadata": {
    "slideshow": {
     "slide_type": "subslide"
    }
   },
   "source": [
    "## Czy wzorzec jest algorytmem, cd.?\n",
    "\n",
    "Analogią do algorytmu jest przepis kulinarny: oba mają jasne kroki prowadzące do osiągnięcia celu. \n",
    "\n",
    "Wzorzec jest bardziej jak doświadczenie: możena przewidzieć, jaki będzie wyniki jego działania i jego cechy, ale dokładna kolejność implementacji/działań zależy od programisty."
   ]
  },
  {
   "cell_type": "markdown",
   "metadata": {
    "slideshow": {
     "slide_type": "subslide"
    }
   },
   "source": [
    "## Z czego składa się wzorzec projektowy?\n",
    "\n",
    "Większość wzorców jest opisana w sposób formalny, dzięki czemu programiści mogą je stosować dla wielu różnyxh problemów. \n",
    "\n",
    "Opis wzorca zazwyczaj składa się z:\n",
    "\n",
    "- __Przeznaczenie wzorc__ - sekcja która krutko opisuje problem problem, jak i rozwiązanie.\n",
    "- __Motywacja__ -  dodatkowo wyjaśnia problem i rozwiązanie, które umożliwia wzorzec.\n",
    "- __Struktura klas__ - pokazuje każdą część wzorca i sposób, w jaki są ze sobą powiązane.\n",
    "- __Przykładowy kod__ - w jednym z popularnych języków programowania ułatwia zrozumienie idei wzorca.\n",
    "\n",
    "Niektóre katalogi wzorców zawierają inne przydatne szczegóły, takie jak zastosowanie wzorca, etapy implementacji i relacje z innymi wzorcami.\n"
   ]
  },
  {
   "cell_type": "markdown",
   "metadata": {
    "slideshow": {
     "slide_type": "slide"
    }
   },
   "source": [
    "## Jak powstały wzorce projektowe?  (czyli krótka historia)\n",
    "\n",
    "- Wzorce są typowymi rozwiązaniami typowych problemów w projektowaniu obiektowym. \n",
    "\n",
    "- Kiedy rozwiązanie jest wielokrotnie powtarzane w różnych projektach, ktoś w końcu nadaje mu nazwę i szczegółowo opisuje rozwiązanie. \n",
    "\n",
    "- Zasadniczo w ten sposób wzorzec projektowy zostaje zdefiniowany ."
   ]
  },
  {
   "cell_type": "markdown",
   "metadata": {
    "slideshow": {
     "slide_type": "subslide"
    }
   },
   "source": [
    "## Jak powstały wzorce projektowe?  (czyli krótka historia) cd.\n",
    "- Koncepcja wzorców została po raz pierwszy opisana przez Christophera Alexandra w A Pattern Language: Towns, Buildings, Construction. \n",
    "- Książka opisuje \"język\" projektowania środowiska miejskiego. \n",
    "- Jednostkami tego \"języka\" są wzorce. \n",
    "- Mogą opisywać, jak wysokie powinny być okna, ile pięter powinien mieć budynek, jak duże mają być tereny zielone w okolicy i tak dalej."
   ]
  },
  {
   "cell_type": "markdown",
   "metadata": {
    "slideshow": {
     "slide_type": "subslide"
    }
   },
   "source": [
    "## Jak powstały wzorce projektowe?  (czyli krótka historia) cd.\n",
    "\n",
    "- Pomysł do świata obiektowego zaimplementowało czterech autorów  (gang czworga ang. __Gang of Four__): __Erich Gamma, John Vlissides, Ralph Johnson i Richard Helm__.\n",
    "- W 1994 roku opublikowali Design Patterns: Elements of Reusable Object-Oriented Software, w którym zastosowali koncepcję wzorców projektowych do programowania. \n",
    "- Książka zawierała 23 wzorce rozwiązujące różne problemy projektowania obiektowego. \n",
    "- Ze względu na swoją przydługą nazwę zaczęto ją nazywać „__ksiązką gangu czworga__” (“the book by the gang of four”), w skrócie „__the GoF book__”."
   ]
  },
  {
   "cell_type": "markdown",
   "metadata": {
    "slideshow": {
     "slide_type": "slide"
    }
   },
   "source": [
    "## Dlaczego warto uczyć się wzorców projektowych?\n",
    "\n",
    "Prawda jest taka, że można pracować jako programista przez wiele lat, nie znając ani jednego wzorca. Wiele osób tak właśnie robi. Jednak nawet w takim przypadku możesz wdrażać pewne wzorce, nawet o tym nie wiedząc. \n",
    "\n",
    "Dlaczego więc miałbyś poświęcać czas na ich naukę?\n",
    "\n",
    "1. Wzorce projektowe to zestaw wypróbowanych i przetestowanych rozwiązań typowych problemów w projektowaniu oprogramowania. Uczy, jak rozwiązywać wszelkiego rodzaju problemy przy użyciu zasad projektowania obiektowego.\n",
    "\n",
    "2.  Wzorce projektowe definiują wspólny język, którego można używać w komunikacji między programistami ze swojego zespołu lub innych organizacji."
   ]
  },
  {
   "cell_type": "markdown",
   "metadata": {
    "slideshow": {
     "slide_type": "slide"
    }
   },
   "source": [
    "## Czy wzorce projektowe to rozwiązanie idealne?\n",
    "\n",
    "- Nie w każdym języku da się zastosować wzorce projektowe. Dzieje się tak gdy wybierany jest język programowania lub technologia, której brakuje niezbędnego poziomu abstrakcji.\n",
    "\n",
    "- Wzorce próbują usystematyzować podejścia, które są już szeroko stosowane. To ujednolicenie przez wielu postrzegane jest jako dogmat, a wzorce wdrażają „co do litery”, nie dostosowując ich do kontekstu swojego projektu.\n",
    "\n",
    "- Nieuzasadnione użycie\n",
    "```\n",
    "Jeśli masz tylko młotek, wszystko wygląda jak gwóźdź.\n",
    "```"
   ]
  },
  {
   "cell_type": "markdown",
   "metadata": {
    "slideshow": {
     "slide_type": "slide"
    }
   },
   "source": [
    "## Klasyfikacja wzorców projektowych\n",
    "\n",
    "- Wzorce projektowe różnią się złożonością, poziomem szczegółowości i skalą stosowalności dla całego projektowanego systemu. \n",
    "\n",
    "- Najbardziej podstawowe i niskopoziomowe wzorce są często nazywane idiomami. Zwykle dotyczą tylko jednego języka programowania.\n",
    "\n",
    "- Najbardziej uniwersalne i wysokopoziomowe wzorce to wzorce architektoniczne. Deweloperzy mogą implementować te wzorce w praktycznie każdym języku. W przeciwieństwie do innych wzorców, można je wykorzystać do zaprojektowania architektury całej aplikacji."
   ]
  },
  {
   "cell_type": "markdown",
   "metadata": {
    "slideshow": {
     "slide_type": "subslide"
    }
   },
   "source": [
    "## Klasyfikacja wzorców projektowych cd.\n",
    "\n",
    "Ponadto wszystkie wzorce można podzielić na kategorie według ich intencji lub celu. Na zajęciach poznamy trzy główne grupy wzorców:\n",
    "\n",
    "- __Wzorce kreacyjne__ zapewniają mechanizmy tworzenia obiektów, które zwiększają elastyczność i ponowne wykorzystanie istniejącego kodu.\n",
    "- __Wzorce strukturalne__ wyjaśniają, jak łączyć obiekty i klasy w większe struktury, zachowując jednocześnie elastyczność i wydajność tych struktur.\n",
    "\n",
    "- __Wzorce zachowań__ dbają o efektywną komunikację i podział obowiązków między obiektami."
   ]
  },
  {
   "cell_type": "markdown",
   "metadata": {
    "slideshow": {
     "slide_type": "slide"
    }
   },
   "source": [
    "## Kompozyt\n",
    "\n",
    "- to strukturalny wzorzec projektowy, który umożliwia komponowanie obiektów w struktury drzewa, a następnie pracę z tymi strukturami tak, jakby były pojedynczymi obiektami.\n",
    "\n",
    "- Używanie tego wzorca ma sens tylko wtedy, gdy podstawowy model aplikacji można przedstawić w postaci drzewa.\n",
    "\n",
    "- Oznacz to, że obiekty w rzeczywistym świecie muszą być ze sobą powiązane w sposób hierarchiczny  "
   ]
  },
  {
   "cell_type": "markdown",
   "metadata": {
    "slideshow": {
     "slide_type": "slide"
    }
   },
   "source": [
    "## Stosowanie Kompozytu\n",
    "\n",
    "- Używamy gdy musimy zaimplementować strukturę obiektu przypominającą drzewo.\n",
    "\n",
    "    - Wzorzec ten zapewnia dwa typy elementów, które mają wspólny interfejs: proste liście i złożone pojemniki. \n",
    "    - Pojemnik może składać się zarówno z liści, jak i innych pojemników. \n",
    "    - Pozwala to na skonstruowanie zagnieżdżonej rekurencyjnej struktury obiektów, która przypomina drzewo.\n",
    "\n",
    "- Użyj wzorca, jeśli chcesz, aby kod klienta traktował jednakowo zarówno proste, jak i złożone elementy.\n",
    "\n",
    "    - Wszystkie elementy zdefiniowane przez wzorzec mają wspólny interfejs. \n",
    "    - Korzystając z tego interfejsu, klient nie musi martwić się o konkretną klasę obiektów, z którymi pracuje."
   ]
  },
  {
   "cell_type": "markdown",
   "metadata": {
    "slideshow": {
     "slide_type": "subslide"
    }
   },
   "source": [
    "## Kompozyt struktura\n",
    "\n",
    "<img src='img/composit.png'>"
   ]
  },
  {
   "cell_type": "markdown",
   "metadata": {
    "slideshow": {
     "slide_type": "subslide"
    }
   },
   "source": [
    "## Implementacja\n",
    "\n",
    "1. Upewnij się, że podstawowy model Twojej aplikacji można przedstawić w postaci struktury drzewa. Spróbuj rozbić to na proste elementy i pojemniki. Pamiętaj, że kontenery muszą być w stanie pomieścić zarówno proste elementy, jak i inne kontenery.\n",
    "\n",
    "2. Zadeklaruj interfejs komponentu z listą metod, które mają sens zarówno w przypadku prostych, jak i złożonych komponentów.\n",
    "\n",
    "3. Utwórz klasę liścia, aby reprezentować proste elementy. Program może mieć wiele różnych klas liści.\n",
    "\n",
    "4. Utwórz klasę kontenera do reprezentowania złożonych elementów. W tej klasie podaj pole tablicowe do przechowywania odwołań do elementów podrzędnych. Tablica musi być w stanie przechowywać zarówno liście, jak i kontenery, więc upewnij się, że jest zadeklarowana z typem interfejsu komponentu.\n",
    "\n",
    "5. Implementując metody interfejsu komponentu pamiętaj, że kontener ma delegować większość pracy do podelementów.\n",
    "\n",
    "6. Na koniec zdefiniuj metody dodawania i usuwania elementów podrzędnych w kontenerze."
   ]
  },
  {
   "cell_type": "markdown",
   "metadata": {
    "slideshow": {
     "slide_type": "subslide"
    }
   },
   "source": [
    "## Zalety i wady\n",
    "\n",
    "__Zalety__:\n",
    "  - Wygodna praca ze złożonymi strukturami i sprowadzenie ich do postaci drzewa.\n",
    "  - Wykorzystanie polimorfizmu i rekurencji do wyrażenia zależności między obiektami.\n",
    "  - Użycie zasady Zasada otwarte/zamknięte. Umożliwia wprowadzanie nowych typów elementów do aplikacji bez psucia istniejącego kodu, który działa z drzewem obiektów.\n",
    "  \n",
    "__Wady__:\n",
    "  - Zapewnienie wspólnego interfejsu dla klas, których funkcjonalność zbytnio się różni, może być trudne. \n",
    "  - W niektórych scenariuszach konieczne byłoby nadmierne uogólnienie interfejsu komponentu, co utrudni jego zrozumienie."
   ]
  },
  {
   "cell_type": "markdown",
   "metadata": {
    "slideshow": {
     "slide_type": "slide"
    }
   },
   "source": [
    "## Implementacja Python"
   ]
  },
  {
   "cell_type": "code",
   "execution_count": null,
   "metadata": {
    "slideshow": {
     "slide_type": "fragment"
    }
   },
   "outputs": [],
   "source": [
    "from __future__ import annotations\n",
    "from abc import ABC, abstractmethod\n",
    "from typing import List\n",
    "\n",
    "\n",
    "class Component(ABC):\n",
    "    \"\"\"\n",
    "    The base Component class declares common operations for both simple and\n",
    "    complex objects of a composition.\n",
    "    \"\"\"\n",
    "\n",
    "    @property\n",
    "    def parent(self) -> Component:\n",
    "        return self._parent\n",
    "\n",
    "    @parent.setter\n",
    "    def parent(self, parent: Component):\n",
    "        \"\"\"\n",
    "        Optionally, the base Component can declare an interface for setting and\n",
    "        accessing a parent of the component in a tree structure. It can also\n",
    "        provide some default implementation for these methods.\n",
    "        \"\"\"\n",
    "\n",
    "        self._parent = parent\n",
    "\n",
    "    \"\"\"\n",
    "    In some cases, it would be beneficial to define the child-management\n",
    "    operations right in the base Component class. This way, you won't need to\n",
    "    expose any concrete component classes to the client code, even during the\n",
    "    object tree assembly. The downside is that these methods will be empty for\n",
    "    the leaf-level components.\n",
    "    \"\"\"\n",
    "\n",
    "    def add(self, component: Component) -> None:\n",
    "        pass\n",
    "\n",
    "    def remove(self, component: Component) -> None:\n",
    "        pass\n",
    "\n",
    "    def is_composite(self) -> bool:\n",
    "        \"\"\"\n",
    "        You can provide a method that lets the client code figure out whether a\n",
    "        component can bear children.\n",
    "        \"\"\"\n",
    "\n",
    "        return False\n",
    "\n",
    "    @abstractmethod\n",
    "    def operation(self) -> str:\n",
    "        \"\"\"\n",
    "        The base Component may implement some default behavior or leave it to\n",
    "        concrete classes (by declaring the method containing the behavior as\n",
    "        \"abstract\").\n",
    "        \"\"\"\n",
    "\n",
    "        pass"
   ]
  },
  {
   "cell_type": "code",
   "execution_count": null,
   "metadata": {
    "slideshow": {
     "slide_type": "subslide"
    }
   },
   "outputs": [],
   "source": [
    "class Leaf(Component):\n",
    "    \"\"\"\n",
    "    The Leaf class represents the end objects of a composition. A leaf can't\n",
    "    have any children.\n",
    "\n",
    "    Usually, it's the Leaf objects that do the actual work, whereas Composite\n",
    "    objects only delegate to their sub-components.\n",
    "    \"\"\"\n",
    "\n",
    "    def operation(self) -> str:\n",
    "        return \"Leaf\""
   ]
  },
  {
   "cell_type": "code",
   "execution_count": null,
   "metadata": {
    "slideshow": {
     "slide_type": "subslide"
    }
   },
   "outputs": [],
   "source": [
    "class Composite(Component):\n",
    "    \"\"\"\n",
    "    The Composite class represents the complex components that may have\n",
    "    children. Usually, the Composite objects delegate the actual work to their\n",
    "    children and then \"sum-up\" the result.\n",
    "    \"\"\"\n",
    "\n",
    "    def __init__(self) -> None:\n",
    "        self._children: List[Component] = []\n",
    "\n",
    "    \"\"\"\n",
    "    A composite object can add or remove other components (both simple or\n",
    "    complex) to or from its child list.\n",
    "    \"\"\"\n",
    "\n",
    "    def add(self, component: Component) -> None:\n",
    "        self._children.append(component)\n",
    "        component.parent = self\n",
    "\n",
    "    def remove(self, component: Component) -> None:\n",
    "        self._children.remove(component)\n",
    "        component.parent = None\n",
    "\n",
    "    def is_composite(self) -> bool:\n",
    "        return True\n",
    "\n",
    "    def operation(self) -> str:\n",
    "        \"\"\"\n",
    "        The Composite executes its primary logic in a particular way. It\n",
    "        traverses recursively through all its children, collecting and summing\n",
    "        their results. Since the composite's children pass these calls to their\n",
    "        children and so forth, the whole object tree is traversed as a result.\n",
    "        \"\"\"\n",
    "\n",
    "        results = []\n",
    "        for child in self._children:\n",
    "            results.append(child.operation())\n",
    "        return f\"Branch({'+'.join(results)})\"\n"
   ]
  },
  {
   "cell_type": "code",
   "execution_count": null,
   "metadata": {
    "slideshow": {
     "slide_type": "subslide"
    }
   },
   "outputs": [],
   "source": [
    "def client_code(component: Component) -> None:\n",
    "    \"\"\"\n",
    "    The client code works with all of the components via the base interface.\n",
    "    \"\"\"\n",
    "\n",
    "    print(f\"RESULT: {component.operation()}\", end=\"\")\n",
    "\n",
    "\n",
    "def client_code2(component1: Component, component2: Component) -> None:\n",
    "    \"\"\"\n",
    "    Thanks to the fact that the child-management operations are declared in the\n",
    "    base Component class, the client code can work with any component, simple or\n",
    "    complex, without depending on their concrete classes.\n",
    "    \"\"\"\n",
    "\n",
    "    if component1.is_composite():\n",
    "        component1.add(component2)\n",
    "\n",
    "    print(f\"RESULT: {component1.operation()}\", end=\"\")\n",
    "\n",
    "\n"
   ]
  },
  {
   "cell_type": "code",
   "execution_count": null,
   "metadata": {
    "slideshow": {
     "slide_type": "subslide"
    }
   },
   "outputs": [],
   "source": [
    "if __name__ == \"__main__\":\n",
    "    # This way the client code can support the simple leaf components...\n",
    "    simple = Leaf()\n",
    "    print(\"Client: I've got a simple component:\")\n",
    "    client_code(simple)\n",
    "    print(\"\\n\")\n",
    "\n",
    "    # ...as well as the complex composites.\n",
    "    tree = Composite()\n",
    "\n",
    "    branch1 = Composite()\n",
    "    branch1.add(Leaf())\n",
    "    branch1.add(Leaf())\n",
    "\n",
    "    branch2 = Composite()\n",
    "    branch2.add(Leaf())\n",
    "\n",
    "    tree.add(branch1)\n",
    "    tree.add(branch2)\n",
    "\n",
    "    print(\"Client: Now I've got a composite tree:\")\n",
    "    client_code(tree)\n",
    "    print(\"\\n\")\n",
    "\n",
    "    print(\"Client: I don't need to check the components classes even when managing the tree:\")\n",
    "    client_code2(tree, simple)"
   ]
  }
 ],
 "metadata": {
  "celltoolbar": "Slideshow",
  "jupytext": {
   "formats": "ipynb"
  },
  "kernelspec": {
   "display_name": "Python 3 (ipykernel)",
   "language": "python",
   "name": "python3"
  },
  "language_info": {
   "codemirror_mode": {
    "name": "ipython",
    "version": 3
   },
   "file_extension": ".py",
   "mimetype": "text/x-python",
   "name": "python",
   "nbconvert_exporter": "python",
   "pygments_lexer": "ipython3",
   "version": "3.9.12"
  },
  "rise": {
   "autolaunch": true,
   "backimage": "img/tlo_agh.png"
  }
 },
 "nbformat": 4,
 "nbformat_minor": 2
}
