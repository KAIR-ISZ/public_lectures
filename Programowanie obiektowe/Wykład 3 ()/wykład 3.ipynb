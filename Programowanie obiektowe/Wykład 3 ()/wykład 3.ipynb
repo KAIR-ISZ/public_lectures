{
 "cells": [
  {
   "cell_type": "markdown",
   "metadata": {
    "collapsed": true,
    "slideshow": {
     "slide_type": "slide"
    }
   },
   "source": [
    "# Programowanie Obiektowe\n",
    "\n",
    "## Podpstawy projektowania aplikacji obiektowych\n",
    "\n",
    "### dr inż. Waldemar Bauer"
   ]
  },
  {
   "cell_type": "markdown",
   "metadata": {
    "slideshow": {
     "slide_type": "slide"
    }
   },
   "source": [
    "## Wstęp\n",
    "\n",
    "- W procesie tworzenia oprogramowania uważa się, że projektowanie aplikacji powinno zostać wykonywane przed programowaniem. \n",
    "- Ze względu na specyfikę wytwarzania oprogramwanie jednak nie zawsze tak jest. \n",
    "- W rzeczywistości analiza, programowanie i projektowanie mają tendencję do nakładania się, łączenia i przeplatania. \n",
    "\n",
    "Dzisiaj omówimy:\n",
    "- Co oznacza zorientowanie obiektowe\n",
    "- Różnica między projektowaniem zorientowanym obiektowo a programowaniem obiektowym\n",
    "- Podstawowe zasady projektowania obiektowego\n",
    "- Basic Unified Modeling Language (UML) - krótko"
   ]
  },
  {
   "cell_type": "markdown",
   "metadata": {
    "slideshow": {
     "slide_type": "slide"
    }
   },
   "source": [
    "## Analiza zorientowana obiektowo - _ang._ Object-oriented analysis (OOA)\n",
    "\n",
    "-  proces przyglądania się problemowi, systemowi lub zadaniu (które ktoś chce przekształcić w aplikację) w celu identyfikowania obiektów i interakcji między tymi obiektami.\n",
    "- Etap ten polega na określeniu co aplikacja powinna robić.\n",
    "- Wynikiem analizy jest zestaw wymagań funkcjonalnych i niefunkcjonalnych."
   ]
  },
  {
   "cell_type": "markdown",
   "metadata": {
    "slideshow": {
     "slide_type": "subslide"
    }
   },
   "source": [
    "## Projektowanie zorientowane obiektowo - _ang._ Object-oriented design (OOD) \n",
    "\n",
    "- Proces przekształcania wymagań funkcjonalnych i niefunkcjonalnych w specyfikację implementacyjną. \n",
    "- Projektant musi nazwać obiekty, zdefiniować zachowania i formalnie określić, które obiekty mogą aktywować określone zachowania na innych obiektach. \n",
    "- Na etapie projektowania odpowiada na pytanie \"jak należy to zaimplementować”."
   ]
  },
  {
   "cell_type": "markdown",
   "metadata": {
    "slideshow": {
     "slide_type": "subslide"
    }
   },
   "source": [
    "## Programowanie zorientowane obiektowo - _ang._ Object-oriented programming (OOP)\n",
    "\n",
    "- proces przekształcania tego doskonale zdefiniowanego projektu w działający program"
   ]
  },
  {
   "cell_type": "markdown",
   "metadata": {
    "slideshow": {
     "slide_type": "slide"
    }
   },
   "source": [
    "## Obiekt\n",
    "\n",
    "- podstawowe pojęcie wchodzące w skład paradygmatu programowania obiektowego\n",
    "\n",
    "__Jest to struktura zawierająca:__\n",
    "\n",
    "- atrybuty - dane opisujące obiekt\n",
    "- metody -  czyli funkcje służące do wykonywania określonych zadań na danych obiektów."
   ]
  },
  {
   "cell_type": "markdown",
   "metadata": {
    "slideshow": {
     "slide_type": "subslide"
    }
   },
   "source": [
    "## Obiekt cd.\n",
    "\n",
    "__Cechy obiektu:__\n",
    "\n",
    "- tożsamość\n",
    "- stan\n",
    "- zachowanie (ang. behaviour)\n",
    "\n",
    "Ich reprezentacją w programach są __klasy__."
   ]
  },
  {
   "cell_type": "markdown",
   "metadata": {
    "slideshow": {
     "slide_type": "subslide"
    }
   },
   "source": [
    "## Przykład zależności między obiektami\n",
    "\n",
    "<img src=\"img/ob1.png\" alt=\"Girl in a jacket\" width=\"500\" height=\"600\">\n"
   ]
  },
  {
   "cell_type": "markdown",
   "metadata": {
    "slideshow": {
     "slide_type": "slide"
    }
   },
   "source": [
    "## Unified Modeling Language (UML, zunifikowany język modelowania)\n",
    "\n",
    "- Pół-formalny język wykorzystywany do modelowania różnego rodzaju systemów, \n",
    "- Jego formalą specyfikację wytworzyła organizacja Object Management Group.\n",
    "- UML jest przeważnie używany wraz ze swoją reprezentacją graficzną – jego elementom przypisane są odpowiednie symbole wiązane ze sobą na diagramach."
   ]
  },
  {
   "cell_type": "markdown",
   "metadata": {
    "slideshow": {
     "slide_type": "subslide"
    }
   },
   "source": [
    "## Rodzaje diagramów UML\n",
    "\n",
    "__Diagramy struktury__\n",
    "- Diagram klas\n",
    "- Diagram obiektów\n",
    "- Diagram pakietów\n",
    "- Diagram struktur połączonych\n",
    "- Diagramy wdrożeniowe\n",
    "- Diagram komponentów\n",
    "- Diagram rozlokowania"
   ]
  },
  {
   "cell_type": "markdown",
   "metadata": {
    "slideshow": {
     "slide_type": "subslide"
    }
   },
   "source": [
    "## Rodzaje diagramów UML cd.\n",
    "__Diagramy dynamiki__\n",
    "- Diagram przypadków użycia\n",
    "- Diagram stanów\n",
    "- Diagram czynności\n",
    "- Diagramy interakcji\n",
    "- Diagram sekwencji\n",
    "- Diagram komunikacji\n",
    "- Diagram harmonogramowania\n",
    "- Diagram sterowania interakcją"
   ]
  },
  {
   "cell_type": "markdown",
   "metadata": {
    "slideshow": {
     "slide_type": "slide"
    }
   },
   "source": [
    "## Relacje między obiektami\n",
    "\n",
    "Między obiektami zachodzą następujące relacje:\n",
    "- asocjacje (wzajemne relacje między obiektami),\n",
    "- agregacje (kompozycja, całość–część, powiązanie obiektu z jego częścią składową),\n",
    "- generalizacji–specjalizacji (dziedziczenia, relacje między obiektami dziedziczącymi wybrane cechy innych obiektów)."
   ]
  },
  {
   "cell_type": "markdown",
   "metadata": {
    "slideshow": {
     "slide_type": "subslide"
    }
   },
   "source": [
    "## Przykład relacji między obiektami\n",
    "\n",
    "<img src=\"img/ob2.png\" alt=\"Girl in a jacket\" width=\"500\" height=\"600\">\n"
   ]
  },
  {
   "cell_type": "markdown",
   "metadata": {
    "slideshow": {
     "slide_type": "slide"
    }
   },
   "source": [
    "## Dane opisujące obiekt\n",
    "\n",
    "- Dowolna zmienna powiązana z obiektem jest jego atrybutem\n",
    "- Atrybutem może być wartość podstawoego typu lub innny obiekt lub kolekcja\n"
   ]
  },
  {
   "cell_type": "markdown",
   "metadata": {
    "slideshow": {
     "slide_type": "subslide"
    }
   },
   "source": [
    "## Atrybuty w UML\n",
    "\n",
    "<img src=\"img/ob3.png\" alt=\"Girl in a jacket\" width=\"500\" height=\"600\">\n"
   ]
  },
  {
   "cell_type": "markdown",
   "metadata": {
    "slideshow": {
     "slide_type": "subslide"
    }
   },
   "source": [
    "##  Atrybuty  z typem w UML \n",
    "\n",
    "<img src=\"img/ob4.png\" alt=\"Girl in a jacket\" width=\"500\" height=\"600\">\n",
    "\n"
   ]
  },
  {
   "cell_type": "markdown",
   "metadata": {
    "slideshow": {
     "slide_type": "slide"
    }
   },
   "source": [
    "## Metody klasy\n",
    "\n",
    "- Dowolna funkcja zdefiniowana wewnątrz klasy jest metodą. \n",
    "- Pierwszym argumentem każdej metody jest instancja klasy, zwyczajowo nazywana self. \n",
    "- Metody klasy mają zazwyczaj swobodny dostęp do jej atrybutów swobodny dostęp do jej atrybutów "
   ]
  },
  {
   "cell_type": "markdown",
   "metadata": {
    "slideshow": {
     "slide_type": "subslide"
    }
   },
   "source": [
    "## Metody w UML\n",
    "<img src=\"img/ob5.png\" alt=\"Girl in a jacket\" width=\"500\" height=\"600\">\n"
   ]
  },
  {
   "cell_type": "markdown",
   "metadata": {
    "slideshow": {
     "slide_type": "slide"
    }
   },
   "source": [
    "## Interfejs publiczny\n",
    "- Definicja abstrakcyjnego typu posiadającego jedynie operacje, a nie dane. \n",
    "- Kiedy w konkretnej klasie zdefiniowane są wszystkie metody interfejsu mówimy, że klasa implementuje dany interfejs. - Interfejs określa udostępniane operacje, nie zawiera natomiast ich implementacji i danych. \n",
    "- Wszystkie metody w interfejsie z reguły muszą być publiczne.\n",
    "- Interfejs pozwala na hermetyzację obiektów."
   ]
  },
  {
   "cell_type": "markdown",
   "metadata": {
    "slideshow": {
     "slide_type": "subslide"
    }
   },
   "source": [
    "## Interfejs publiczny w UML\n",
    "<img src=\"img/ob6.png\" alt=\"Girl in a jacket\" width=\"500\" height=\"600\">\n",
    "\n"
   ]
  },
  {
   "cell_type": "markdown",
   "metadata": {
    "slideshow": {
     "slide_type": "slide"
    }
   },
   "source": [
    "## Relacje między obiektami cd.\n",
    "\n",
    "Przy tworzeniu nowych klas możyć metod:\n",
    "- kompozycji,\n",
    "- dziedziczenia. \n",
    "\n",
    "__Kompozycję__ stosuje się wtedy, gdy nowa klasa zawiera w sobie istniejącą klasę. \n",
    "\n",
    "__Dziedziczenie__ stosuje się wtedy, gdy nowa klasa jest szczególnym\n",
    "rodzajem juz istniejącej klasy. \n",
    "\n"
   ]
  },
  {
   "cell_type": "markdown",
   "metadata": {
    "slideshow": {
     "slide_type": "subslide"
    }
   },
   "source": [
    "##  Kompozycja (agregacje)\n",
    "\n",
    "Kompozycję uzyskujemy poprzez definiowanie w nowej klasie pól, które są obiektami istniejących klas. \n",
    "\n",
    "<img src=\"img/ob9.png\" alt=\"Girl in a jacket\" width=\"500\" height=\"600\">\n"
   ]
  },
  {
   "cell_type": "markdown",
   "metadata": {
    "slideshow": {
     "slide_type": "subslide"
    }
   },
   "source": [
    "## Dziedziczenie (generalizacji–specjalizacji)\n",
    "\n",
    "Dziedziczenie polega na przejęciu właściwości i funkcjonalności obiektów innej klasy\n",
    "i ewentualnej modyfikacji tych właściwości i funkcjonalności w taki sposób, by były one\n",
    "bardziej wyspecjalizowane.\n",
    "\n",
    "<img src=\"img/ob10.png\" alt=\"Girl in a jacket\" width=\"500\" height=\"600\">\n"
   ]
  }
 ],
 "metadata": {
  "celltoolbar": "Slideshow",
  "jupytext": {
   "formats": "ipynb"
  },
  "kernelspec": {
   "display_name": "Python 3 (ipykernel)",
   "language": "python",
   "name": "python3"
  },
  "language_info": {
   "codemirror_mode": {
    "name": "ipython",
    "version": 3
   },
   "file_extension": ".py",
   "mimetype": "text/x-python",
   "name": "python",
   "nbconvert_exporter": "python",
   "pygments_lexer": "ipython3",
   "version": "3.11.5"
  },
  "rise": {
   "autolaunch": true,
   "backimage": "img/tlo_agh.png"
  }
 },
 "nbformat": 4,
 "nbformat_minor": 2
}
