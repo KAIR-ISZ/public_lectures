{
 "cells": [
  {
   "cell_type": "markdown",
   "metadata": {
    "collapsed": true,
    "slideshow": {
     "slide_type": "slide"
    }
   },
   "source": [
    "# Programowanie Obirktowe\n",
    "\n",
    "## Kreacyjne wzorce projektowe\n",
    "\n",
    "### dr inż. Waldemar Bauer"
   ]
  },
  {
   "cell_type": "markdown",
   "metadata": {
    "slideshow": {
     "slide_type": "slide"
    }
   },
   "source": [
    "## Kreacyjne wzorce projektowe:\n",
    "\n",
    "- Służą do usystematyzowani tworzenia obiektów w programie\n",
    "\n",
    "- Procesy tworzenia nowych obiektów opieraj się na abstrakcji \n",
    "\n",
    "- Hermetyzują wiedzę o tym, jakich klas konkretnych używa system i w jaki sposób egzemplarze tych klas są tworzone i łączone ze sobą\n",
    "\n",
    "- Umożliwiają konfigurowanie systemu z obiektami-produktami, które w znacznym stopniu różnią się strukturą i funkcjonalnością \n",
    " - Konfiguracja statyczna (podczas kompilacji) \n",
    " - Konfiguracja dynamiczna (w trakcie wykonywania programu)\n",
    "\n"
   ]
  },
  {
   "cell_type": "markdown",
   "metadata": {
    "slideshow": {
     "slide_type": "subslide"
    }
   },
   "source": [
    "## Rodzaje wzorców kreacyjnych:\n",
    "\n",
    "- klasowe – wykorzystują dziedziczenie do zmieniania klasy, której egzemplarze są tworzone\n",
    "\n",
    "- obiektowe – delegują tworzenie egzemplarzy do innego obiektu\n",
    "\n"
   ]
  },
  {
   "cell_type": "markdown",
   "metadata": {
    "slideshow": {
     "slide_type": "slide"
    }
   },
   "source": [
    "## Singleton\n",
    "\n",
    "- kreacyjny wzorzec projektowy, który pozwala na ty by w programie istniała tylko jedna instacja danej klasa\n",
    "- zapewnia jednocześnie globalny dostęu do instancji tej klasy"
   ]
  },
  {
   "cell_type": "markdown",
   "metadata": {
    "slideshow": {
     "slide_type": "subslide"
    }
   },
   "source": [
    "## Rozwiązywane problemy\n",
    "\n",
    "1. Wymagane jest by istniała dokładnie jedna instacja klasy\n",
    "2. Zapewnij globalny punkt dostępu do instancji klasy i uniemożliwia jej modyfikacji w sposób nie planowany."
   ]
  },
  {
   "cell_type": "markdown",
   "metadata": {
    "slideshow": {
     "slide_type": "subslide"
    }
   },
   "source": [
    "## Zastosowanie\n",
    "\n",
    "- Opiera się na przygtowoaniu metody tworzenia w ten sposób by nie było możliwe utworzenie jej instacji inaczej niż przez tą metodę. Metoda tworzenia obiektu tworzy nowy obiekt lub zwraca istniejący, jeśli został już utworzony.\n",
    "\n",
    "- Służy do kontroli nad zmiennymi globalnymi.\n",
    "\n",
    "- W przeciwieństwie do zmiennych globalnych wzorzec ten gwarantuje, że istnieje tylko jedna instancja klasy."
   ]
  },
  {
   "cell_type": "markdown",
   "metadata": {
    "slideshow": {
     "slide_type": "subslide"
    }
   },
   "source": [
    "## Rozwiązanie UML\n",
    "\n",
    "<img src='img/singleton.png' >\n"
   ]
  },
  {
   "cell_type": "markdown",
   "metadata": {
    "slideshow": {
     "slide_type": "subslide"
    }
   },
   "source": [
    "## Koncepcja implementacji\n",
    "\n",
    "- Zadeklaruj pole statyczne do klasy do przechowywania instancji singleton.\n",
    "\n",
    "- Zadeklaruj publiczną statyczną metodę tworzenia, aby uzyskać pojedynczą instancję.\n",
    "\n",
    "- Zaimplementuj zasady tworzenia singletonu wewnątrz metody statycznej. Metoda ta powinna utworzyć nowy obiekt przy pierwszym wywołaniu i umieścić go w polu statycznym. Jeżeli instacja istnije i jest przypisana do pola statycznego powinna zawsze zwracać tę instancję we wszystkich kolejnych wywołaniach.\n",
    "\n",
    "- Zadeklaruj konstruktora klasy jako prywatny."
   ]
  },
  {
   "cell_type": "markdown",
   "metadata": {
    "slideshow": {
     "slide_type": "subslide"
    }
   },
   "source": [
    "## Implementacja Python"
   ]
  },
  {
   "cell_type": "code",
   "execution_count": 2,
   "metadata": {
    "slideshow": {
     "slide_type": "fragment"
    }
   },
   "outputs": [
    {
     "name": "stdout",
     "output_type": "stream",
     "text": [
      "Singleton works, both variables contain the same instance.\n",
      "4564694352\n",
      "4564694352\n"
     ]
    }
   ],
   "source": [
    "class SingletonMeta(type):\n",
    "\n",
    "    _instances = {}\n",
    "\n",
    "    def __call__(cls, *args, **kwargs):\n",
    "        if cls not in cls._instances:\n",
    "            instance = super().__call__(*args, **kwargs)\n",
    "            cls._instances[cls] = instance\n",
    "        return cls._instances[cls]\n",
    "\n",
    "\n",
    "class Singleton(metaclass=SingletonMeta):\n",
    "    def some_business_logic(self):\n",
    "        ...\n",
    "\n",
    "if __name__ == \"__main__\":\n",
    "    # The client code.\n",
    "\n",
    "    s1 = Singleton()\n",
    "    s2 = Singleton()\n",
    "\n",
    "    if id(s1) == id(s2):\n",
    "        print(\"Singleton works, both variables contain the same instance.\")\n",
    "        print(id(s1))\n",
    "        print(id(s2))\n",
    "    else:\n",
    "        print(\"Singleton failed, variables contain different instances.\")"
   ]
  },
  {
   "cell_type": "markdown",
   "metadata": {
    "slideshow": {
     "slide_type": "subslide"
    }
   },
   "source": [
    "## Zalety i Wady\n",
    "\n",
    "### Zalety\n",
    "- Daje pewność, że klasa ma tylko jedną instancję.\n",
    "- W programie istnieje globalny punkt dostępu do tej instancji.\n",
    "- Obiekt singleton jest inicjowany tylko wtedy, gdy jest żądany po raz pierwszy.\n",
    "\n",
    "### Wady \n",
    "- Narusza zasadę pojedynczej odpowiedzialności. \n",
    "- Wzorzec ten wymaga specjalnego traktowania w środowisku wielowątkowym.\n",
    "- Testowanie jednostkowe kodu ze wzorcem Singletona może być trudne."
   ]
  },
  {
   "cell_type": "markdown",
   "metadata": {
    "slideshow": {
     "slide_type": "slide"
    }
   },
   "source": [
    "## Builder\n",
    "\n",
    "- Kreacyjny wzorzec projektowy, który pozwala krok po kroku konstruować złożone obiekty. \n",
    "\n",
    "- Wzorzec umożliwia tworzenie różnych typów i reprezentacji obiektu przy użyciu tego samego kodu konstrukcyjnego."
   ]
  },
  {
   "cell_type": "markdown",
   "metadata": {
    "slideshow": {
     "slide_type": "subslide"
    }
   },
   "source": [
    "## Rozwiązywane problemy\n",
    "\n",
    "1. Umożliwia hermetyzację operacji niezbędne do stworzenia złożonego obiektu oraz ukryć wewnętrzną reprezentację produktu przed klientem\n",
    "\n",
    "2. Umożliwia modyfikację poszczególnych kroków algorytmu tworzenia nowego obiektu"
   ]
  },
  {
   "cell_type": "markdown",
   "metadata": {
    "slideshow": {
     "slide_type": "subslide"
    }
   },
   "source": [
    "## Zastosowanie\n",
    "- Zaleca sie wyodrębnienie kodu konstrukcji obiektu z jego własnej klasy i przeniesienie go do oddzielnych obiektów zwanych konstruktorami.\n",
    "- Wzorzec organizuje konstrukcję obiektu w zestaw kroków. \n",
    "- Aby utworzyć obiekt, wykonaj serię tych kroków na obiekcie konstruktora. \n",
    "- Ważną cechą jest to, że nie trzeba wywoływać wszystkich kroków. Można wywołać tylko te kroki, które są niezbędne do wytworzenia określonej konfiguracji obiektu, poprzez stworzenie oddzielnych konstruktorów."
   ]
  },
  {
   "cell_type": "markdown",
   "metadata": {
    "slideshow": {
     "slide_type": "subslide"
    }
   },
   "source": [
    "## Rozwiązanie UML\n",
    "\n",
    "<img src='img/builder.png' width=\"40%\" height=\"40%\">"
   ]
  },
  {
   "cell_type": "markdown",
   "metadata": {
    "slideshow": {
     "slide_type": "subslide"
    }
   },
   "source": [
    "## Koncepcja implementacji\n",
    "\n",
    "- Zdefinować wspólne etapy budowy wszystkich dostępnych reprezentacji produktów. Jeżeli nie jest to możliwe nie będzie można zastosowanie wzorca.\n",
    "\n",
    "- Zadeklarować wspólne etapy budowy w podstawowym interfejsie konstruktora.\n",
    "\n",
    "- Zaimplementuj konkretną klasę konstruktora dla każdej reprezentacji produktu i ich etapy konstrukcyjne.\n",
    "\n",
    "- Zaimplementuj metodę pobierania wyniku konstrukcji. \n",
    "\n",
    "- Można zaimplementować klasę Director. Może obejmować różne sposoby konstruowania produktu przy użyciu tego samego obiektu konstruktora."
   ]
  },
  {
   "cell_type": "markdown",
   "metadata": {
    "slideshow": {
     "slide_type": "subslide"
    }
   },
   "source": [
    "## Implementacja Python"
   ]
  },
  {
   "cell_type": "code",
   "execution_count": 3,
   "metadata": {
    "slideshow": {
     "slide_type": "fragment"
    }
   },
   "outputs": [],
   "source": [
    "from __future__ import annotations\n",
    "from abc import ABC, abstractmethod\n",
    "from typing import Any\n",
    "\n",
    "\n",
    "class Builder(ABC):\n",
    "    @property\n",
    "    @abstractmethod\n",
    "    def product(self) -> None:\n",
    "        pass\n",
    "\n",
    "    @abstractmethod\n",
    "    def produce_part_a(self) -> None:\n",
    "        pass\n",
    "\n",
    "    @abstractmethod\n",
    "    def produce_part_b(self) -> None:\n",
    "        pass\n",
    "\n",
    "    @abstractmethod\n",
    "    def produce_part_c(self) -> None:\n",
    "        pass"
   ]
  },
  {
   "cell_type": "code",
   "execution_count": 4,
   "metadata": {
    "slideshow": {
     "slide_type": "subslide"
    }
   },
   "outputs": [],
   "source": [
    "class ConcreteBuilder1(Builder):\n",
    "    def __init__(self) -> None:\n",
    "        self.reset()\n",
    "\n",
    "    def reset(self) -> None:\n",
    "        self._product = Product1()\n",
    "\n",
    "    @property\n",
    "    def product(self) -> Product1:\n",
    "        product = self._product\n",
    "        self.reset()\n",
    "        return product\n",
    "\n",
    "    def produce_part_a(self) -> None:\n",
    "        self._product.add(\"PartA1\")\n",
    "\n",
    "    def produce_part_b(self) -> None:\n",
    "        self._product.add(\"PartB1\")\n",
    "\n",
    "    def produce_part_c(self) -> None:\n",
    "        self._product.add(\"PartC1\")\n",
    "\n",
    "class Product1():\n",
    "\n",
    "    def __init__(self) -> None:\n",
    "        self.parts = []\n",
    "\n",
    "    def add(self, part: Any) -> None:\n",
    "        self.parts.append(part)\n",
    "\n",
    "    def list_parts(self) -> None:\n",
    "        print(f\"Product parts: {', '.join(self.parts)}\", end=\"\")"
   ]
  },
  {
   "cell_type": "code",
   "execution_count": 6,
   "metadata": {
    "slideshow": {
     "slide_type": "subslide"
    }
   },
   "outputs": [],
   "source": [
    "class Director:\n",
    "    def __init__(self) -> None:\n",
    "        self._builder = None\n",
    "\n",
    "    @property\n",
    "    def builder(self) -> Builder:\n",
    "        return self._builder\n",
    "\n",
    "    @builder.setter\n",
    "    def builder(self, builder: Builder) -> None:\n",
    "        self._builder = builder\n",
    "\n",
    "\n",
    "    def build_minimal_viable_product(self) -> None:\n",
    "        self.builder.produce_part_a()\n",
    "\n",
    "    def build_full_featured_product(self) -> None:\n",
    "        self.builder.produce_part_a()\n",
    "        self.builder.produce_part_b()\n",
    "        self.builder.produce_part_c()"
   ]
  },
  {
   "cell_type": "code",
   "execution_count": 8,
   "metadata": {
    "slideshow": {
     "slide_type": "subslide"
    }
   },
   "outputs": [
    {
     "name": "stdout",
     "output_type": "stream",
     "text": [
      "Standard basic product: \n",
      "Product parts: PartA1\n",
      "\n"
     ]
    }
   ],
   "source": [
    "director = Director()\n",
    "builder = ConcreteBuilder1()\n",
    "director.builder = builder\n",
    "\n",
    "print(\"Standard basic product: \")\n",
    "director.build_minimal_viable_product()\n",
    "builder.product.list_parts()\n",
    "print(\"\\n\")"
   ]
  },
  {
   "cell_type": "code",
   "execution_count": 9,
   "metadata": {
    "slideshow": {
     "slide_type": "subslide"
    }
   },
   "outputs": [
    {
     "name": "stdout",
     "output_type": "stream",
     "text": [
      "Standard full featured product: \n",
      "Product parts: PartA1, PartB1, PartC1\n",
      "\n"
     ]
    }
   ],
   "source": [
    "print(\"Standard full featured product: \")\n",
    "director.build_full_featured_product()\n",
    "builder.product.list_parts()\n",
    "print(\"\\n\")"
   ]
  },
  {
   "cell_type": "code",
   "execution_count": 11,
   "metadata": {
    "slideshow": {
     "slide_type": "fragment"
    }
   },
   "outputs": [
    {
     "name": "stdout",
     "output_type": "stream",
     "text": [
      "Custom product: \n",
      "Product parts: PartA1, PartB1"
     ]
    }
   ],
   "source": [
    "print(\"Custom product: \")\n",
    "builder.produce_part_a()\n",
    "builder.produce_part_b()\n",
    "builder.product.list_parts()"
   ]
  },
  {
   "cell_type": "markdown",
   "metadata": {
    "slideshow": {
     "slide_type": "subslide"
    }
   },
   "source": [
    "## Zalety i Wady\n",
    "\n",
    "### Zalety\n",
    "- Konstruowanie obiektu krok po kroku.\n",
    "- Możliwość użycia tego samego kodu konstrukcyjnego podczas budowania różnych reprezentacji obiektów.\n",
    "- Zasada pojedynczej odpowiedzialności. \n",
    "- Umożliwia oddzielenie kodu konstrukcyjnego obiketu \\od logiki biznesowej produktu.\n",
    "\n",
    "### Wady\n",
    "- Ogólna złożoność kodu wzrasta, ponieważ wzorzec wymaga utworzenia wielu nowych klas."
   ]
  },
  {
   "cell_type": "markdown",
   "metadata": {
    "slideshow": {
     "slide_type": "slide"
    }
   },
   "source": [
    "## Prototype\n",
    "\n",
    "- umożliwia kopiowanie istniejących obiektów bez uzależnienia kodu od ich klas.\n"
   ]
  },
  {
   "cell_type": "markdown",
   "metadata": {
    "slideshow": {
     "slide_type": "subslide"
    }
   },
   "source": [
    "## Rozwiązywane problemy\n",
    "\n",
    "1. kopiowanie obiektów wraz z ich atrybutami prywatnymi nie zależnie od typu klasy"
   ]
  },
  {
   "cell_type": "markdown",
   "metadata": {
    "slideshow": {
     "slide_type": "subslide"
    }
   },
   "source": [
    "## Zastosowanie\n",
    "\n",
    "- Używany gdy kod programu nie powinien zależeć od konkretnych klas obiektów, które chcemy skopiować.\n",
    "- Używamy go gdy chcemy zmniejszyć liczbę podklas, które różnią się tylko sposobem inicjowania odpowiednich obiektów."
   ]
  },
  {
   "cell_type": "markdown",
   "metadata": {
    "slideshow": {
     "slide_type": "subslide"
    }
   },
   "source": [
    "## Rozwiązanie UML\n",
    "\n",
    "<img src='img/prototype.png'>"
   ]
  },
  {
   "cell_type": "markdown",
   "metadata": {
    "slideshow": {
     "slide_type": "subslide"
    }
   },
   "source": [
    "## Koncepcja implementacji\n",
    "\n",
    "- Zadeklaruj interfejs Prototype wraz z metodą kopiującą. \n",
    "\n",
    "- Klasa Prototype musi definiować alternatywny konstruktor, który przyjmuje obiekt tej klasy jako argument. Konstruktor musi skopiować wartości wszystkich pól zdefiniowanych w klasie z przekazanego obiektu do nowo utworzonej instancji. Jeśli inicjalizujesz podklasę, musi wywołać konstruktora nadrzędny, aby nadklasa zajęła się klonowaniem jej pól prywatnych.\n",
    "\n",
    "- Jeśli język programowania nie obsługuje przeciążania metod, nie można stworzyć osobnego konstruktora Prototype.  \n",
    "\n",
    "- Metoda kopiująca zwykle składa się tylko z jednej linii: uruchomienia nowego operatora z prototypową wersją konstruktora. \n"
   ]
  },
  {
   "cell_type": "markdown",
   "metadata": {
    "slideshow": {
     "slide_type": "subslide"
    }
   },
   "source": [
    "## Implementacja Python"
   ]
  },
  {
   "cell_type": "code",
   "execution_count": null,
   "metadata": {
    "slideshow": {
     "slide_type": "fragment"
    }
   },
   "outputs": [],
   "source": [
    "import copy\n",
    "\n",
    "\n",
    "class SelfReferencingEntity:\n",
    "    def __init__(self):\n",
    "        self.parent = None\n",
    "\n",
    "    def set_parent(self, parent):\n",
    "        self.parent = parent\n",
    "\n",
    "\n",
    "class SomeComponent:\n",
    "    def __init__(self, some_int, some_list_of_objects, some_circular_ref):\n",
    "        self.some_int = some_int\n",
    "        self.some_list_of_objects = some_list_of_objects\n",
    "        self.some_circular_ref = some_circular_ref\n",
    "\n",
    "    def __copy__(self):\n",
    "        # First, let's create copies of the nested objects.\n",
    "        some_list_of_objects = copy.copy(self.some_list_of_objects)\n",
    "        some_circular_ref = copy.copy(self.some_circular_ref)\n",
    "\n",
    "        # Then, let's clone the object itself, using the prepared clones of the\n",
    "        # nested objects.\n",
    "        new = self.__class__(\n",
    "            self.some_int, some_list_of_objects, some_circular_ref\n",
    "        )\n",
    "        new.__dict__.update(self.__dict__)\n",
    "\n",
    "        return new\n",
    "\n",
    "    def __deepcopy__(self, memo=None):\n",
    "        if memo is None:\n",
    "            memo = {}\n",
    "\n",
    "        # First, let's create copies of the nested objects.\n",
    "        some_list_of_objects = copy.deepcopy(self.some_list_of_objects, memo)\n",
    "        some_circular_ref = copy.deepcopy(self.some_circular_ref, memo)\n",
    "\n",
    "        # Then, let's clone the object itself, using the prepared clones of the\n",
    "        # nested objects.\n",
    "        new = self.__class__(\n",
    "            self.some_int, some_list_of_objects, some_circular_ref\n",
    "        )\n",
    "        new.__dict__ = copy.deepcopy(self.__dict__, memo)\n",
    "\n",
    "        return new"
   ]
  },
  {
   "cell_type": "code",
   "execution_count": null,
   "metadata": {
    "slideshow": {
     "slide_type": "subslide"
    }
   },
   "outputs": [],
   "source": [
    "list_of_objects = [1, {1, 2, 3}, [1, 2, 3]]\n",
    "circular_ref = SelfReferencingEntity()\n",
    "component = SomeComponent(23, list_of_objects, circular_ref)\n",
    "circular_ref.set_parent(component)"
   ]
  },
  {
   "cell_type": "code",
   "execution_count": null,
   "metadata": {
    "slideshow": {
     "slide_type": "fragment"
    }
   },
   "outputs": [],
   "source": [
    "shallow_copied_component = copy.copy(component)\n",
    "\n",
    "# Let's change the list in shallow_copied_component and see if it changes in\n",
    "# component.\n",
    "shallow_copied_component.some_list_of_objects.append(\"another object\")\n",
    "if component.some_list_of_objects[-1] == \"another object\":\n",
    "    print(\n",
    "        \"Adding elements to `shallow_copied_component`'s \"\n",
    "        \"some_list_of_objects adds it to `component`'s \"\n",
    "        \"some_list_of_objects.\"\n",
    "    )\n",
    "else:\n",
    "    print(\n",
    "        \"Adding elements to `shallow_copied_component`'s \"\n",
    "        \"some_list_of_objects doesn't add it to `component`'s \"\n",
    "        \"some_list_of_objects.\"\n",
    "    )"
   ]
  },
  {
   "cell_type": "code",
   "execution_count": null,
   "metadata": {
    "slideshow": {
     "slide_type": "subslide"
    }
   },
   "outputs": [],
   "source": [
    "# Let's change the set in the list of objects.\n",
    "component.some_list_of_objects[1].add(4)\n",
    "if 4 in shallow_copied_component.some_list_of_objects[1]:\n",
    "    print(\n",
    "        \"Changing objects in the `component`'s some_list_of_objects \"\n",
    "        \"changes that object in `shallow_copied_component`'s \"\n",
    "        \"some_list_of_objects.\"\n",
    "    )\n",
    "else:\n",
    "    print(\n",
    "        \"Changing objects in the `component`'s some_list_of_objects \"\n",
    "        \"doesn't change that object in `shallow_copied_component`'s \"\n",
    "        \"some_list_of_objects.\"\n",
    "    )"
   ]
  },
  {
   "cell_type": "code",
   "execution_count": null,
   "metadata": {
    "slideshow": {
     "slide_type": "subslide"
    }
   },
   "outputs": [],
   "source": [
    "deep_copied_component = copy.deepcopy(component)\n",
    "\n",
    "# Let's change the list in deep_copied_component and see if it changes in\n",
    "# component.\n",
    "deep_copied_component.some_list_of_objects.append(\"one more object\")\n",
    "if component.some_list_of_objects[-1] == \"one more object\":\n",
    "    print(\n",
    "        \"Adding elements to `deep_copied_component`'s \"\n",
    "        \"some_list_of_objects adds it to `component`'s \"\n",
    "        \"some_list_of_objects.\"\n",
    "    )\n",
    "else:\n",
    "    print(\n",
    "        \"Adding elements to `deep_copied_component`'s \"\n",
    "        \"some_list_of_objects doesn't add it to `component`'s \"\n",
    "        \"some_list_of_objects.\"\n",
    "    )"
   ]
  },
  {
   "cell_type": "code",
   "execution_count": null,
   "metadata": {
    "slideshow": {
     "slide_type": "subslide"
    }
   },
   "outputs": [],
   "source": [
    "# Let's change the set in the list of objects.\n",
    "component.some_list_of_objects[1].add(10)\n",
    "if 10 in deep_copied_component.some_list_of_objects[1]:\n",
    "    print(\n",
    "        \"Changing objects in the `component`'s some_list_of_objects \"\n",
    "        \"changes that object in `deep_copied_component`'s \"\n",
    "        \"some_list_of_objects.\"\n",
    "    )\n",
    "else:\n",
    "    print(\n",
    "        \"Changing objects in the `component`'s some_list_of_objects \"\n",
    "        \"doesn't change that object in `deep_copied_component`'s \"\n",
    "        \"some_list_of_objects.\"\n",
    "    )\n",
    "\n",
    "print(\n",
    "    f\"id(deep_copied_component.some_circular_ref.parent): \"\n",
    "    f\"{id(deep_copied_component.some_circular_ref.parent)}\"\n",
    ")\n",
    "print(\n",
    "    f\"id(deep_copied_component.some_circular_ref.parent.some_circular_ref.parent): \"\n",
    "    f\"{id(deep_copied_component.some_circular_ref.parent.some_circular_ref.parent)}\"\n",
    ")\n",
    "print(\n",
    "    \"^^ This shows that deepcopied objects contain same reference, they \"\n",
    "    \"are not cloned repeatedly.\"\n",
    ")"
   ]
  }
 ],
 "metadata": {
  "celltoolbar": "Slideshow",
  "jupytext": {
   "formats": "ipynb"
  },
  "kernelspec": {
   "display_name": "Python 3 (ipykernel)",
   "language": "python",
   "name": "python3"
  },
  "language_info": {
   "codemirror_mode": {
    "name": "ipython",
    "version": 3
   },
   "file_extension": ".py",
   "mimetype": "text/x-python",
   "name": "python",
   "nbconvert_exporter": "python",
   "pygments_lexer": "ipython3",
   "version": "3.11.5"
  },
  "rise": {
   "autolaunch": true,
   "backimage": "img/tlo_agh.png"
  }
 },
 "nbformat": 4,
 "nbformat_minor": 2
}
