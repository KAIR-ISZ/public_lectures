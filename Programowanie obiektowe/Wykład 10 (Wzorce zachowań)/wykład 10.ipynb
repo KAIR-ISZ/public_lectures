{
 "cells": [
  {
   "cell_type": "markdown",
   "metadata": {
    "collapsed": true,
    "slideshow": {
     "slide_type": "slide"
    }
   },
   "source": [
    "# Programowanie Obirktowe\n",
    "\n",
    "##  Wzorce czynnościowe\n",
    "\n",
    "### dr inż. Waldemar Bauer"
   ]
  },
  {
   "cell_type": "markdown",
   "metadata": {
    "slideshow": {
     "slide_type": "slide"
    }
   },
   "source": [
    "## Czynnościowe wzorce projektowe:\n",
    "\n",
    "- Dotyczą algorytmów i przydzielania zobowiązań obiektom.\n",
    "\n",
    "- Charakteryzują złożone przepływy sterowania między obiektami, które są trudne do prześledzenia w czasie wykonywania programu.\n",
    "\n",
    "- Są wykorzystywane do organizowania, zarządzania i łączenia zachowań."
   ]
  },
  {
   "cell_type": "markdown",
   "metadata": {
    "slideshow": {
     "slide_type": "slide"
    }
   },
   "source": [
    "## Template Method\n",
    "\n",
    "\n",
    "- Definiuje szkielet algorytmu w nadklasie, ale pozwala podklasom zastąpić określone kroki algorytmu bez zmiany jego struktury."
   ]
  },
  {
   "cell_type": "markdown",
   "metadata": {
    "slideshow": {
     "slide_type": "subslide"
    }
   },
   "source": [
    "## Rozwiązywane problemy\n",
    "\n",
    "1. Zaplanowanie interfejsu klas w taki sposób by istniały metody domyślne dla wszystkich pod klas i abstrakcyjne do zaimplemenotwania "
   ]
  },
  {
   "cell_type": "markdown",
   "metadata": {
    "slideshow": {
     "slide_type": "subslide"
    }
   },
   "source": [
    "## Zastosowanie\n",
    "\n",
    "- Umożliwia rozszerzenie tylko poszczególnych kroków algorytmu, ale nie cały algorytm lub jego strukturę.\n",
    "\n",
    "- Pozwala przekształcić monolityczny algorytm w serię pojedynczych kroków, które można łatwo rozszerzyć o podklasy, zachowując nienaruszoną strukturę zdefiniowaną w nadklasie.\n",
    "\n",
    "- Pozwala na agregację klas które zawierają prawie identyczne algorytmy z niewielkimi różnicami.\n"
   ]
  },
  {
   "cell_type": "markdown",
   "metadata": {
    "slideshow": {
     "slide_type": "subslide"
    }
   },
   "source": [
    "## Rozwiązanie UML\n",
    "\n",
    "<img src='img/temp.png' >\n",
    "\n",
    "[źródło](https://refactoring.guru/design-patterns/template-method)"
   ]
  },
  {
   "cell_type": "markdown",
   "metadata": {
    "slideshow": {
     "slide_type": "subslide"
    }
   },
   "source": [
    "## Koncepcja implementacji\n",
    "\n",
    "1. Analiza docelowego algorytmu, aby  podzielić go na etapy. \n",
    "\n",
    "2. Utwórzenie abstrakcyjnej klasy bazowej i zadeklarowanie metody szablonowej oraz zestaw metod abstrakcyjnych reprezentujących kroki algorytmu. \n",
    "\n",
    "3. Możliwe,ze wszystkie kroki okażą się abstrakcyjne. Jednak niektóre kroki mogą skorzystać z domyślnej implementacji. \n",
    "\n",
    "4. Dla każdej odmiany algorytmu utworzyć nową konkretną podklasę. "
   ]
  },
  {
   "cell_type": "markdown",
   "metadata": {
    "slideshow": {
     "slide_type": "subslide"
    }
   },
   "source": [
    "## Implementacja Python"
   ]
  },
  {
   "cell_type": "code",
   "execution_count": 2,
   "metadata": {
    "slideshow": {
     "slide_type": "fragment"
    }
   },
   "outputs": [],
   "source": [
    "from abc import ABC, abstractmethod\n",
    "\n",
    "\n",
    "class AbstractClass(ABC):\n",
    "\n",
    "    def template_method(self) -> None:\n",
    "        self.base_operation1()\n",
    "        self.required_operations1()\n",
    "        self.base_operation2()\n",
    "        self.hook1()\n",
    "        self.required_operations2()\n",
    "        self.base_operation3()\n",
    "        self.hook2()\n",
    "\n",
    "    def base_operation1(self) -> None:\n",
    "        print(\"AbstractClass says: I am doing the bulk of the work\")\n",
    "\n",
    "    def base_operation2(self) -> None:\n",
    "        print(\"AbstractClass says: But I let subclasses override some operations\")\n",
    "\n",
    "    def base_operation3(self) -> None:\n",
    "        print(\"AbstractClass says: But I am doing the bulk of the work anyway\")\n",
    "\n",
    "    # These operations have to be implemented in subclasses.\n",
    "\n",
    "    @abstractmethod\n",
    "    def required_operations1(self) -> None:\n",
    "        pass\n",
    "\n",
    "    @abstractmethod\n",
    "    def required_operations2(self) -> None:\n",
    "        pass\n",
    "\n",
    "    def hook1(self) -> None:\n",
    "        pass\n",
    "\n",
    "    def hook2(self) -> None:\n",
    "        pass"
   ]
  },
  {
   "cell_type": "code",
   "execution_count": 3,
   "metadata": {
    "slideshow": {
     "slide_type": "subslide"
    }
   },
   "outputs": [],
   "source": [
    "class ConcreteClass1(AbstractClass):\n",
    "\n",
    "    def required_operations1(self) -> None:\n",
    "        print(\"ConcreteClass1 says: Implemented Operation1\")\n",
    "\n",
    "    def required_operations2(self) -> None:\n",
    "        print(\"ConcreteClass1 says: Implemented Operation2\")\n",
    "\n",
    "\n",
    "class ConcreteClass2(AbstractClass):\n",
    "    def required_operations1(self) -> None:\n",
    "        print(\"ConcreteClass2 says: Implemented Operation1\")\n",
    "\n",
    "    def required_operations2(self) -> None:\n",
    "        print(\"ConcreteClass2 says: Implemented Operation2\")\n",
    "\n",
    "    def hook1(self) -> None:\n",
    "        print(\"ConcreteClass2 says: Overridden Hook1\")\n",
    "\n",
    "\n",
    "def client_code(abstract_class: AbstractClass) -> None:\n",
    "    abstract_class.template_method()"
   ]
  },
  {
   "cell_type": "code",
   "execution_count": 3,
   "metadata": {
    "slideshow": {
     "slide_type": "subslide"
    }
   },
   "outputs": [
    {
     "name": "stdout",
     "output_type": "stream",
     "text": [
      "Same client code can work with different subclasses:\n",
      "AbstractClass says: I am doing the bulk of the work\n",
      "ConcreteClass1 says: Implemented Operation1\n",
      "AbstractClass says: But I let subclasses override some operations\n",
      "ConcreteClass1 says: Implemented Operation2\n",
      "AbstractClass says: But I am doing the bulk of the work anyway\n",
      "\n",
      "Same client code can work with different subclasses:\n",
      "AbstractClass says: I am doing the bulk of the work\n",
      "ConcreteClass2 says: Implemented Operation1\n",
      "AbstractClass says: But I let subclasses override some operations\n",
      "ConcreteClass2 says: Overridden Hook1\n",
      "ConcreteClass2 says: Implemented Operation2\n",
      "AbstractClass says: But I am doing the bulk of the work anyway\n"
     ]
    }
   ],
   "source": [
    "print(\"Same client code can work with different subclasses:\")\n",
    "client_code(ConcreteClass1())\n",
    "print(\"\")\n",
    "\n",
    "print(\"Same client code can work with different subclasses:\")\n",
    "client_code(ConcreteClass2())"
   ]
  },
  {
   "cell_type": "code",
   "execution_count": null,
   "metadata": {},
   "outputs": [],
   "source": []
  },
  {
   "cell_type": "markdown",
   "metadata": {
    "slideshow": {
     "slide_type": "subslide"
    }
   },
   "source": [
    "## Zalety i Wady\n",
    "\n",
    "\n",
    "  \n",
    "### Zalety\n",
    "- Możesz zezwolić klientom na zastępowanie tylko niektórych części dużego algorytmu, dzięki czemu zmiany zachodzące w innych częściach algorytmu będą mniej dotknięte.\n",
    "- Możesz pobrać zduplikowany kod do nadklasy.\n",
    "\n",
    "### Wady \n",
    "- Niektórzy klienci mogą być ograniczeni przez dostarczony szkielet algorytmu.\n",
    "- Można naruszyć zasadę Liskov Substitution, usuwając domyślną implementację kroku za pomocą podklasy.\n",
    "- Metody szablonowe są zwykle trudniejsze do utrzymania, im więcej mają kroków.\n"
   ]
  },
  {
   "cell_type": "markdown",
   "metadata": {
    "slideshow": {
     "slide_type": "slide"
    }
   },
   "source": [
    "## Strategy\n",
    "\n",
    "- Pozwala zdefiniować rodzinę algorytmów, umieścić każdy z nich w osobnej klasie i sprawić, by ich obiekty były wymienne."
   ]
  },
  {
   "cell_type": "markdown",
   "metadata": {
    "slideshow": {
     "slide_type": "subslide"
    }
   },
   "source": [
    "## Rozwiązywane problemy\n",
    "\n",
    "1. Wzorzec według którego należy wyodrębnić wiele algorytmów umożliwiających wykonanie tego samego i wydzielenie ich do oddzielnych klas zwanych strategiami.\n",
    "\n",
    "2. Kontekst nie jest odpowiedzialny za wybór odpowiedniego algorytmu dla zadania. Zamiast tego klient przekazuje pożądaną strategię do kontekstu. \n",
    "\n",
    "3. Kontekst uniezależnia się od konkretnych strategii, dzięki czemu można dodawać nowe algorytmy lub modyfikować istniejące bez zmiany kodu kontekstu lub innych strategii."
   ]
  },
  {
   "cell_type": "markdown",
   "metadata": {
    "slideshow": {
     "slide_type": "subslide"
    }
   },
   "source": [
    "## Zastosowanie\n",
    "- Umożliwia używanie różnych wariantów algorytmu w obiekcie i posiadanie możliwości przełączania się z jednego algorytmu na inny w czasie wykonywania.\n",
    "\n",
    "- Używany gdy program zawiera wiele podobnych klas, które różnią się tylko sposobem wykonywania niektórych zachowań.\n",
    "\n",
    "- Używanny do wyizolowania logiki biznesowej klasy od szczegółów implementacji algorytmów, które mogą nie być tak ważne w kontekście tej logiki.\n",
    "\n",
    "- Używany, gdy  klasa ma rozbudowaną strukturę warunków, które przełącza się między różnymi wariantami tego samego algorytmu.\n",
    "\n",
    " "
   ]
  },
  {
   "cell_type": "markdown",
   "metadata": {
    "slideshow": {
     "slide_type": "subslide"
    }
   },
   "source": [
    "## Rozwiązanie UML\n",
    "\n",
    "<img src='img/stra.png' width=\"40%\" height=\"40%\">\n",
    "\n",
    "[źródło](https://refactoring.guru/design-patterns/strategy)"
   ]
  },
  {
   "cell_type": "markdown",
   "metadata": {
    "slideshow": {
     "slide_type": "subslide"
    }
   },
   "source": [
    "## Koncepcja implementacji\n",
    "\n",
    "- Identyfikacja algorytmu, który jest podatny na częste zmiany.\n",
    "\n",
    "- Deklaracja interfejs strategii wspólny dla wszystkich wariantów algorytmu.\n",
    "\n",
    "- Wyodrębnienie wszystkich algorytmów do ich własnych klas. Wszystkie powinny wdrożyć interfejs strategii.\n",
    "\n",
    "- Deklaracja pole do przechowywania referencji do obiektu strategii w klasie kontekstu. \n",
    "\n",
    "- Klienci kontekstu muszą powiązać go z odpowiednią strategią, która pasuje do sposobu, w jaki oczekują, że kontekst będzie wykonywał swoje podstawowe zadanie."
   ]
  },
  {
   "cell_type": "markdown",
   "metadata": {
    "slideshow": {
     "slide_type": "subslide"
    }
   },
   "source": [
    "## Implementacja Python"
   ]
  },
  {
   "cell_type": "code",
   "execution_count": 4,
   "metadata": {
    "slideshow": {
     "slide_type": "fragment"
    }
   },
   "outputs": [],
   "source": [
    "from __future__ import annotations\n",
    "from abc import ABC, abstractmethod\n",
    "from typing import List\n",
    "\n",
    "\n",
    "class Context():\n",
    "\n",
    "    def __init__(self, strategy: Strategy) -> None:\n",
    "        self._strategy = strategy\n",
    "\n",
    "    @property\n",
    "    def strategy(self) -> Strategy:\n",
    "        return self._strategy\n",
    "\n",
    "    @strategy.setter\n",
    "    def strategy(self, strategy: Strategy) -> None:\n",
    "        self._strategy = strategy\n",
    "\n",
    "    def do_some_business_logic(self) -> None:\n",
    "        print(\"Context: Sorting data using the strategy (not sure how it'll do it)\")\n",
    "        result = self._strategy.do_algorithm([\"a\", \"b\", \"c\", \"d\", \"e\"])\n",
    "        print(\",\".join(result))"
   ]
  },
  {
   "cell_type": "code",
   "execution_count": 6,
   "metadata": {
    "slideshow": {
     "slide_type": "subslide"
    }
   },
   "outputs": [],
   "source": [
    "class Strategy(ABC):\n",
    "\n",
    "    @abstractmethod\n",
    "    def do_algorithm(self, data: List):\n",
    "        pass\n",
    "\n",
    "class ConcreteStrategyA(Strategy):\n",
    "    def do_algorithm(self, data: List) -> List:\n",
    "        return sorted(data)\n",
    "\n",
    "\n",
    "class ConcreteStrategyB(Strategy):\n",
    "    def do_algorithm(self, data: List) -> List:\n",
    "        return reversed(sorted(data))"
   ]
  },
  {
   "cell_type": "code",
   "execution_count": 7,
   "metadata": {
    "slideshow": {
     "slide_type": "subslide"
    }
   },
   "outputs": [
    {
     "name": "stdout",
     "output_type": "stream",
     "text": [
      "Client: Strategy is set to normal sorting.\n",
      "Context: Sorting data using the strategy (not sure how it'll do it)\n",
      "a,b,c,d,e\n",
      "\n",
      "Client: Strategy is set to reverse sorting.\n",
      "Context: Sorting data using the strategy (not sure how it'll do it)\n",
      "e,d,c,b,a\n"
     ]
    }
   ],
   "source": [
    "context = Context(ConcreteStrategyA())\n",
    "print(\"Client: Strategy is set to normal sorting.\")\n",
    "context.do_some_business_logic()\n",
    "print()\n",
    "\n",
    "print(\"Client: Strategy is set to reverse sorting.\")\n",
    "context.strategy = ConcreteStrategyB()\n",
    "context.do_some_business_logic()"
   ]
  },
  {
   "cell_type": "markdown",
   "metadata": {
    "slideshow": {
     "slide_type": "subslide"
    }
   },
   "source": [
    "## Zalety i Wady\n",
    "\n",
    "### Zalety\n",
    "- Możliwość zamiany algorytmu używanego wewnątrz obiektu w czasie wykonywania.\n",
    "- Możliwość wyodrębnienia implementacji algorytmu z kodu, który go używa.\n",
    "- Możliwość zastąpienia dziedziczenia kompozycją.\n",
    "- Zasada otwarte/zamknięte. Możliwość wprowadzania nowej strategie bez konieczności zmiany kontekstu.\n",
    "\n",
    "### Wady\n",
    "- Klienci muszą być świadomi różnic między strategiami, aby móc wybrać właściwą.\n",
    "  "
   ]
  },
  {
   "cell_type": "markdown",
   "metadata": {
    "slideshow": {
     "slide_type": "slide"
    }
   },
   "source": [
    "## State\n",
    "\n",
    "- Pozwala obiektowi zmieniać swoje zachowanie, gdy zmienia się jego stan wewnętrzny. Wygląda to tak, jakby obiekt zmienił swoją klasę."
   ]
  },
  {
   "cell_type": "markdown",
   "metadata": {
    "slideshow": {
     "slide_type": "subslide"
    }
   },
   "source": [
    "## Rozwiązywane problemy\n",
    "\n",
    "1. Zamiast samodzielnie implementować wszystkie zachowania, oryginalny obiekt, zwany kontekstem, przechowuje odniesienie do jednego z obiektów stanu, który reprezentuje jego bieżący stan, i deleguje całą pracę związaną ze stanem do tego obiektu.\n",
    "\n",
    "2. Aby przenieść kontekst do innego stanu, należy zastąpić obiekt aktywnego stanu innym obiektem reprezentującym nowy stan. Jest to możliwe tylko wtedy, gdy wszystkie klasy stanów mają ten sam interfejs, a sam kontekst działa z tymi obiektami za pośrednictwem tego interfejsu.\n"
   ]
  },
  {
   "cell_type": "markdown",
   "metadata": {
    "slideshow": {
     "slide_type": "subslide"
    }
   },
   "source": [
    "## Zastosowanie\n",
    "\n",
    "- Używany gdy w programie istnieje obiekt, który zachowuje się różnie w zależności od jego bieżącego stanu, a kod specyficzny dla stanu często się zmienia.\n",
    "- Używany gdy w klasie istnieje wiele wyrażeń warunkowych, które zmieniają zachowanie klasy zgodnie z bieżącymi wartościami pól klasy.\n",
    "- Używany gdy w klasie istnieje zduplikowany kod w podobnych stanach i przejścia maszyny stanów opartej na warunkach."
   ]
  },
  {
   "cell_type": "markdown",
   "metadata": {
    "slideshow": {
     "slide_type": "subslide"
    }
   },
   "source": [
    "## Rozwiązanie UML\n",
    "\n",
    "<img src='img/stan.png'>\n",
    "\n",
    "[źródło](https://refactoring.guru/design-patterns/state)"
   ]
  },
  {
   "cell_type": "markdown",
   "metadata": {
    "slideshow": {
     "slide_type": "subslide"
    }
   },
   "source": [
    "## Koncepcja implementacji\n",
    "\n",
    "- Zdecyduj, która klasa będzie działać jako kontekst. Może to być istniejąca klasa, która ma już kod zależny od stanu; lub nową klasę, jeśli kod specyficzny dla stanu jest rozproszony w wielu klasach.\n",
    "\n",
    "- Zadeklaruj stan interfejsu. Chociaż może odzwierciedlać wszystkie metody zadeklarowane w kontekście, celuj tylko w te, które mogą zawierać zachowanie specyficzne dla stanu.\n",
    "\n",
    "- Dla każdego aktualnego stanu utwórz klasę wywodzącą się z interfejsu stanu. Następnie przejrzyj metody kontekstu i wyodrębnij cały kod związany z tym stanem do nowo utworzonej klasy.\n",
    "\n",
    "- Podczas przenoszenia kodu do klasy state możesz odkryć, że zależy on od prywatnych członków kontekstu. Istnieje kilka obejść:\n",
    "\n",
    "    - Upublicznij te pola lub metody.\n",
    "    - Zmień zachowanie, które wyodrębniasz, w metodę publiczną w kontekście i wywołaj ją z klasy stanu. Ten sposób jest brzydki, ale szybki i zawsze możesz to naprawić później.\n",
    "    - Zagnieżdżaj klasy stanu w klasie kontekstu, ale tylko wtedy, gdy twój język programowania obsługuje zagnieżdżanie klas.\n",
    "    - W klasie kontekstowej dodaj pole referencyjne typu interfejsu stanu oraz publiczną metodę ustawiającą, która umożliwia przesłonięcie wartości tego pola.\n",
    "\n",
    "- Ponownie przejrzyj metodę kontekstu i zastąp puste warunki stanu wywołaniami odpowiednich metod obiektu stanu.\n",
    "\n",
    "- Aby zmienić stan kontekstu, utwórz instancję jednej z klas stanów i przekaż ją do kontekstu. Możesz to zrobić w samym kontekście, w różnych stanach lub w kliencie. Gdziekolwiek to się dzieje, klasa staje się zależna od konkretnej klasy stanu, którą tworzy."
   ]
  },
  {
   "cell_type": "markdown",
   "metadata": {
    "slideshow": {
     "slide_type": "subslide"
    }
   },
   "source": [
    "## Implementacja Python"
   ]
  },
  {
   "cell_type": "code",
   "execution_count": 8,
   "metadata": {
    "slideshow": {
     "slide_type": "fragment"
    }
   },
   "outputs": [],
   "source": [
    "from __future__ import annotations\n",
    "from abc import ABC, abstractmethod\n",
    "\n",
    "class Context:\n",
    "\n",
    "    _state = None\n",
    "\n",
    "    def __init__(self, state: State) -> None:\n",
    "        self.transition_to(state)\n",
    "\n",
    "    def transition_to(self, state: State):\n",
    "\n",
    "        print(f\"Context: Transition to {type(state).__name__}\")\n",
    "        self._state = state\n",
    "        self._state.context = self\n",
    "\n",
    "    def request1(self):\n",
    "        self._state.handle1()\n",
    "\n",
    "    def request2(self):\n",
    "        self._state.handle2()"
   ]
  },
  {
   "cell_type": "code",
   "execution_count": 9,
   "metadata": {
    "slideshow": {
     "slide_type": "subslide"
    }
   },
   "outputs": [],
   "source": [
    "class State(ABC):\n",
    "\n",
    "    @property\n",
    "    def context(self) -> Context:\n",
    "        return self._context\n",
    "\n",
    "    @context.setter\n",
    "    def context(self, context: Context) -> None:\n",
    "        self._context = context\n",
    "\n",
    "    @abstractmethod\n",
    "    def handle1(self) -> None:\n",
    "        pass\n",
    "\n",
    "    @abstractmethod\n",
    "    def handle2(self) -> None:\n",
    "        pass"
   ]
  },
  {
   "cell_type": "code",
   "execution_count": 10,
   "metadata": {
    "slideshow": {
     "slide_type": "subslide"
    }
   },
   "outputs": [],
   "source": [
    "class ConcreteStateA(State):\n",
    "    def handle1(self) -> None:\n",
    "        print(\"ConcreteStateA handles request1.\")\n",
    "        print(\"ConcreteStateA wants to change the state of the context.\")\n",
    "        self.context.transition_to(ConcreteStateB())\n",
    "\n",
    "    def handle2(self) -> None:\n",
    "        print(\"ConcreteStateA handles request2.\")\n",
    "\n",
    "\n",
    "class ConcreteStateB(State):\n",
    "    def handle1(self) -> None:\n",
    "        print(\"ConcreteStateB handles request1.\")\n",
    "\n",
    "    def handle2(self) -> None:\n",
    "        print(\"ConcreteStateB handles request2.\")\n",
    "        print(\"ConcreteStateB wants to change the state of the context.\")\n",
    "        self.context.transition_to(ConcreteStateA())"
   ]
  },
  {
   "cell_type": "code",
   "execution_count": 11,
   "metadata": {
    "slideshow": {
     "slide_type": "subslide"
    }
   },
   "outputs": [
    {
     "name": "stdout",
     "output_type": "stream",
     "text": [
      "Context: Transition to ConcreteStateA\n",
      "ConcreteStateA handles request1.\n",
      "ConcreteStateA wants to change the state of the context.\n",
      "Context: Transition to ConcreteStateB\n",
      "ConcreteStateB handles request2.\n",
      "ConcreteStateB wants to change the state of the context.\n",
      "Context: Transition to ConcreteStateA\n"
     ]
    }
   ],
   "source": [
    "context = Context(ConcreteStateA())\n",
    "context.request1()\n",
    "context.request2()"
   ]
  },
  {
   "cell_type": "markdown",
   "metadata": {
    "slideshow": {
     "slide_type": "subslide"
    }
   },
   "source": [
    "## Zalety i Wady\n",
    "\n",
    "  \n",
    "### Zalety\n",
    "- Zasada pojedynczej odpowiedzialności. Zorganizuj kod związany z poszczególnymi stanami w osobne klasy.\n",
    "- Zasada otwarte/zamknięte. Wprowadzaj nowe stany bez zmiany istniejących klas stanów lub kontekstu.\n",
    "- Uprość kod kontekstu, eliminując obszerne instrukcje warunkowe maszyny stanów.\n",
    "\n",
    "### Wady\n",
    "- Stosowanie wzorca może być przesadą, jeśli maszyna stanów ma tylko kilka stanów lub rzadko się zmienia."
   ]
  },
  {
   "cell_type": "code",
   "execution_count": null,
   "metadata": {},
   "outputs": [],
   "source": []
  }
 ],
 "metadata": {
  "celltoolbar": "Slideshow",
  "jupytext": {
   "formats": "ipynb"
  },
  "kernelspec": {
   "display_name": "Python 3 (ipykernel)",
   "language": "python",
   "name": "python3"
  },
  "language_info": {
   "codemirror_mode": {
    "name": "ipython",
    "version": 3
   },
   "file_extension": ".py",
   "mimetype": "text/x-python",
   "name": "python",
   "nbconvert_exporter": "python",
   "pygments_lexer": "ipython3",
   "version": "3.11.5"
  },
  "rise": {
   "autolaunch": true,
   "backimage": "img/tlo_agh.png"
  }
 },
 "nbformat": 4,
 "nbformat_minor": 2
}
