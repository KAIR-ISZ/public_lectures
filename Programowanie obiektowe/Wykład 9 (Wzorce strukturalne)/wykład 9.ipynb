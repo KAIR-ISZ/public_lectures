{
 "cells": [
  {
   "cell_type": "markdown",
   "metadata": {
    "collapsed": true,
    "slideshow": {
     "slide_type": "slide"
    }
   },
   "source": [
    "# Programowanie Obirktowe\n",
    "\n",
    "## Strukturalne wzorce projektowe\n",
    "\n",
    "### dr inż. Waldemar Bauer"
   ]
  },
  {
   "cell_type": "code",
   "execution_count": null,
   "metadata": {},
   "outputs": [],
   "source": []
  },
  {
   "cell_type": "markdown",
   "metadata": {
    "slideshow": {
     "slide_type": "slide"
    }
   },
   "source": [
    "## Strukturalne wzorce projektowe:\n",
    "\n",
    "- Umożliwiają komponowanie klas i obiketów by tworzyć nowe struktury\n",
    "\n",
    "- Powstałe na ich podstawie nowe struktury rozszerzają funkcjonalności klas z których powstały\n"
   ]
  },
  {
   "cell_type": "markdown",
   "metadata": {
    "slideshow": {
     "slide_type": "subslide"
    }
   },
   "source": [
    "## Rodzaje wzorców strukturalnych:\n",
    "\n",
    "- Klasowe - używają dziedziczenie do integracji interfejsów lub ich implementacji.\n",
    "\n",
    "- Obiektowe - nie wykorzystują interfejsów lub implementacji, a opisują sposoby składania obiektów.\n",
    "\n"
   ]
  },
  {
   "cell_type": "markdown",
   "metadata": {
    "slideshow": {
     "slide_type": "slide"
    }
   },
   "source": [
    "## Adapter\n",
    "\n",
    "- Umożliwia współpracę obiektów z niekompatybilnymi interfejsami."
   ]
  },
  {
   "cell_type": "markdown",
   "metadata": {
    "slideshow": {
     "slide_type": "subslide"
    }
   },
   "source": [
    "## Rozwiązywane problemy\n",
    "\n",
    "1. Dopasowuje działanie interfejsu klas w taki sposób by ich działanie było zrozumiałem dla kla o innym interfejsie"
   ]
  },
  {
   "cell_type": "markdown",
   "metadata": {
    "slideshow": {
     "slide_type": "subslide"
    }
   },
   "source": [
    "## Zastosowanie\n",
    "\n",
    "- Umożliwia utworzenie klasy pośredniej, która służy jako tłumacz między interfejsem jednej klasy a drugiej\n",
    "\n",
    "- Umożliwia wykorzystanie istniejącego kodu podklas które nie mają  wspólnej funkcjonalności, której nie można dodać do nadklasy."
   ]
  },
  {
   "cell_type": "markdown",
   "metadata": {
    "slideshow": {
     "slide_type": "subslide"
    }
   },
   "source": [
    "## Rozwiązanie UML\n",
    "\n",
    "<img src='img/adapter.png' >\n",
    "\n",
    "[źródło](https://refactoring.guru/design-patterns/adapter)"
   ]
  },
  {
   "cell_type": "markdown",
   "metadata": {
    "slideshow": {
     "slide_type": "subslide"
    }
   },
   "source": [
    "## Koncepcja implementacji\n",
    "\n",
    "1. WYodrębnić co najmniej dwie klasy z niekompatybilnymi interfejsami, które powinny się komunikować.\n",
    "2. Zaimplemntować klasę adaptera której interfejs jest zgodna z interfejsem klienta.\n",
    "3. Dodać pole do klasy adaptera, aby przechowywać odwołanie do obiektu usługi. \n",
    "4. Implementacja metod interfejsu klienta w klasie adaptera."
   ]
  },
  {
   "cell_type": "markdown",
   "metadata": {
    "slideshow": {
     "slide_type": "subslide"
    }
   },
   "source": [
    "## Implementacja Python"
   ]
  },
  {
   "cell_type": "code",
   "execution_count": 1,
   "metadata": {
    "slideshow": {
     "slide_type": "fragment"
    }
   },
   "outputs": [],
   "source": [
    "class Target:\n",
    "    def request(self) -> str:\n",
    "        return \"Target: The default target's behavior.\"\n",
    "\n",
    "\n",
    "class Adaptee:\n",
    "    def specific_request(self) -> str:\n",
    "        return \".eetpadA eht fo roivaheb laicepS\"\n",
    "\n",
    "\n",
    "class Adapter(Target, Adaptee):\n",
    "    def request(self) -> str:  \n",
    "        return f\"Adapter: (TRANSLATED) {self.specific_request()[::-1]}\"\n",
    "\n",
    "\n",
    "def client_code(target: \"Target\") -> None:\n",
    "    print(target.request(), end=\"\")"
   ]
  },
  {
   "cell_type": "code",
   "execution_count": 2,
   "metadata": {
    "slideshow": {
     "slide_type": "subslide"
    }
   },
   "outputs": [
    {
     "name": "stdout",
     "output_type": "stream",
     "text": [
      "Client: I can work just fine with the Target objects:\n",
      "Target: The default target's behavior.\n",
      "\n"
     ]
    }
   ],
   "source": [
    "print(\"Client: I can work just fine with the Target objects:\")\n",
    "target = Target()\n",
    "client_code(target)\n",
    "print(\"\\n\")"
   ]
  },
  {
   "cell_type": "code",
   "execution_count": 3,
   "metadata": {
    "slideshow": {
     "slide_type": "subslide"
    }
   },
   "outputs": [
    {
     "name": "stdout",
     "output_type": "stream",
     "text": [
      "Client: The Adaptee class has a weird interface. See, I don't understand it:\n",
      "Adaptee: .eetpadA eht fo roivaheb laicepS\n",
      "\n"
     ]
    }
   ],
   "source": [
    "adaptee = Adaptee()\n",
    "print(\"Client: The Adaptee class has a weird interface. \"\n",
    "      \"See, I don't understand it:\")\n",
    "print(f\"Adaptee: {adaptee.specific_request()}\", end=\"\\n\\n\")"
   ]
  },
  {
   "cell_type": "code",
   "execution_count": 4,
   "metadata": {
    "slideshow": {
     "slide_type": "subslide"
    }
   },
   "outputs": [
    {
     "name": "stdout",
     "output_type": "stream",
     "text": [
      "Client: But I can work with it via the Adapter:\n",
      "Adapter: (TRANSLATED) Special behavior of the Adaptee."
     ]
    }
   ],
   "source": [
    "print(\"Client: But I can work with it via the Adapter:\")\n",
    "adapter = Adapter()\n",
    "client_code(adapter)"
   ]
  },
  {
   "cell_type": "markdown",
   "metadata": {
    "slideshow": {
     "slide_type": "subslide"
    }
   },
   "source": [
    "## Zalety i Wady\n",
    "\n",
    "### Zalety\n",
    "- Spełnia zasadę pojedynczej odpowiedzialności.\n",
    "- Umożliwia oddzielenie interfejsów lub kodu konwersji danych od podstawowej logiki biznesowej programu.\n",
    "- Spełnia zasadę otwarte/zamknięte\n",
    "- Umożliwia wprowadzenie nowych typy adapterów do programu bez ''psucia'' istniejącego kodu klienta, o ile działają one z adapterami poprzez interfejs klienta.\n",
    "\n",
    "### Wady \n",
    "- Ogólna złożoność kodu wzrasta."
   ]
  },
  {
   "cell_type": "markdown",
   "metadata": {
    "slideshow": {
     "slide_type": "slide"
    }
   },
   "source": [
    "## Decorator\n",
    "\n",
    "- Umożliwia dołączanie nowych zachowań do obiektów poprzez umieszczanie tych obiektów w specjalnych obiektach opakowujących zawierających te zachowania."
   ]
  },
  {
   "cell_type": "markdown",
   "metadata": {
    "slideshow": {
     "slide_type": "subslide"
    }
   },
   "source": [
    "## Rozwiązywane problemy\n",
    "\n",
    "1. Statyczność Dziedziczenia. \n",
    "2. Brako możliwości zmiany zachowania istniejącego obiektu w czasie wykonywania.\n",
    "3. Podklasy mogą mieć tylko jedną klasę nadrzędną. W większości języków dziedziczenie nie pozwala klasie na dziedziczenie zachowań wielu klas jednocześnie."
   ]
  },
  {
   "cell_type": "markdown",
   "metadata": {
    "slideshow": {
     "slide_type": "subslide"
    }
   },
   "source": [
    "## Zastosowanie\n",
    "- Używany, gdy należy rozszerzyć logikę obiektów w czasie wykonywania bez zmiany kodu, który używa tych obiektów.\n",
    "- Umożliwia uporządkowanie logiki biznesowej w warstwy.\n",
    "- Używany gdy rozszerzenie zachowania obiektu za pomocą dziedziczenia jest niewygodne lub niemożliwe."
   ]
  },
  {
   "cell_type": "markdown",
   "metadata": {
    "slideshow": {
     "slide_type": "subslide"
    }
   },
   "source": [
    "## Rozwiązanie UML\n",
    "\n",
    "<img src='img/decorator.png' width=\"40%\" height=\"40%\">\n",
    "\n",
    "[źródło](https://refactoring.guru/design-patterns/decorator)"
   ]
  },
  {
   "cell_type": "markdown",
   "metadata": {
    "slideshow": {
     "slide_type": "subslide"
    }
   },
   "source": [
    "## Koncepcja implementacji\n",
    "\n",
    "- Upewnij się, że Twoja domena biznesowa może być reprezentowana jako główny komponent z wieloma opcjonalnymi warstwami.\n",
    "\n",
    "- Dowiedz się, jakie metody są wspólne dla składnika podstawowego i warstw opcjonalnych. Utwórz interfejs komponentu i zadeklaruj tam te metody.\n",
    "\n",
    "- Utwórz konkretną klasę komponentów i zdefiniuj w niej podstawowe zachowanie.\n",
    "\n",
    "- Utwórz podstawową klasę dekoratora. \n",
    "\n",
    "- Upewnij się, że wszystkie klasy implementują interfejs komponentu.\n",
    "\n",
    "- Twórz konkretne dekoratory, rozszerzając je z podstawowego dekoratora. \n",
    "\n",
    "- Kod klienta musi być odpowiedzialny za tworzenie dekoratorów i komponowanie ich w sposób wymagany przez klienta."
   ]
  },
  {
   "cell_type": "markdown",
   "metadata": {
    "slideshow": {
     "slide_type": "subslide"
    }
   },
   "source": [
    "## Implementacja Python"
   ]
  },
  {
   "cell_type": "code",
   "execution_count": 5,
   "metadata": {
    "slideshow": {
     "slide_type": "fragment"
    }
   },
   "outputs": [],
   "source": [
    "class Component():\n",
    "    def operation(self) -> str:\n",
    "        pass\n",
    "\n",
    "\n",
    "class ConcreteComponent(Component):\n",
    "    def operation(self) -> str:\n",
    "        return \"ConcreteComponent\"\n",
    "\n",
    "\n",
    "class Decorator(Component):\n",
    "    _component: Component = None\n",
    "\n",
    "    def __init__(self, component: Component) -> None:\n",
    "        self._component = component\n",
    "\n",
    "    @property\n",
    "    def component(self) -> Component:\n",
    "        return self._component\n",
    "\n",
    "    def operation(self) -> str:\n",
    "        return self._component.operation()"
   ]
  },
  {
   "cell_type": "code",
   "execution_count": 7,
   "metadata": {
    "slideshow": {
     "slide_type": "subslide"
    }
   },
   "outputs": [],
   "source": [
    "class ConcreteDecoratorA(Decorator):\n",
    "    def operation(self) -> str:\n",
    "        return f\"ConcreteDecoratorA({self.component.operation()})\"\n",
    "\n",
    "\n",
    "class ConcreteDecoratorB(Decorator):\n",
    "    def operation(self) -> str:\n",
    "        return f\"ConcreteDecoratorB({self.component.operation()})\"\n",
    "\n",
    "\n",
    "def client_code(component: Component) -> None:\n",
    "    print(f\"RESULT: {component.operation()}\", end=\"\")"
   ]
  },
  {
   "cell_type": "code",
   "execution_count": 8,
   "metadata": {
    "slideshow": {
     "slide_type": "subslide"
    }
   },
   "outputs": [
    {
     "name": "stdout",
     "output_type": "stream",
     "text": [
      "Client: I've got a simple component:\n",
      "RESULT: ConcreteComponent\n",
      "\n"
     ]
    }
   ],
   "source": [
    "simple = ConcreteComponent()\n",
    "print(\"Client: I've got a simple component:\")\n",
    "client_code(simple)\n",
    "print(\"\\n\")"
   ]
  },
  {
   "cell_type": "code",
   "execution_count": 9,
   "metadata": {
    "slideshow": {
     "slide_type": "fragment"
    }
   },
   "outputs": [
    {
     "name": "stdout",
     "output_type": "stream",
     "text": [
      "Client: Now I've got a decorated component:\n",
      "RESULT: ConcreteDecoratorB(ConcreteDecoratorA(ConcreteComponent))"
     ]
    }
   ],
   "source": [
    "decorator1 = ConcreteDecoratorA(simple)\n",
    "decorator2 = ConcreteDecoratorB(decorator1)\n",
    "\n",
    "print(\"Client: Now I've got a decorated component:\")\n",
    "client_code(decorator2)"
   ]
  },
  {
   "cell_type": "markdown",
   "metadata": {
    "slideshow": {
     "slide_type": "subslide"
    }
   },
   "source": [
    "## Zalety i Wady\n",
    "\n",
    "### Zalety\n",
    "-  Rozszerzenie zachowania obiektu bez tworzenia nowej podklasy.\n",
    "- Możliwość dodania wielu zachowań za pomocą dekoratorów.\n",
    "- Zasada pojedynczej odpowiedzialności. Klasę monolityczną, która implementuje wiele możliwych wariantów zachowania, można podzielić na kilka mniejszych klas.\n",
    "\n",
    "### Wady\n",
    "- Trudno jest usunąć określone opakowanie ze stosu opakowań.\n",
    "- Trudno jest zaimplementować dekorator w taki sposób, aby jego zachowanie nie zależało od kolejności na stosie dekoratorów."
   ]
  },
  {
   "cell_type": "markdown",
   "metadata": {
    "slideshow": {
     "slide_type": "slide"
    }
   },
   "source": [
    "## Composite\n",
    "\n",
    "- Umożliwia komponowanie obiektów w struktury drzewa, a następnie pracę z tymi strukturami tak, jakby były pojedynczymi obiektami."
   ]
  },
  {
   "cell_type": "markdown",
   "metadata": {
    "slideshow": {
     "slide_type": "subslide"
    }
   },
   "source": [
    "## Rozwiązywane problemy\n",
    "\n",
    "1. Agregacja za pomocą kontenrea obiketów które współpracują poprzez wspólny interfejs."
   ]
  },
  {
   "cell_type": "markdown",
   "metadata": {
    "slideshow": {
     "slide_type": "subslide"
    }
   },
   "source": [
    "## Zastosowanie\n",
    "\n",
    "- Trzeba zaimplementować strukturę obiektu przypominającą drzewo.\n",
    "- Używany gdy chcemy żeby kod klienta traktował jednakowo zarówno proste, jak i złożone elementy."
   ]
  },
  {
   "cell_type": "markdown",
   "metadata": {
    "slideshow": {
     "slide_type": "subslide"
    }
   },
   "source": [
    "## Rozwiązanie UML\n",
    "\n",
    "<img src='img/komppozyt.png'>\n",
    "\n",
    "[źródło](https://refactoring.guru/design-patterns/composite)"
   ]
  },
  {
   "cell_type": "markdown",
   "metadata": {
    "slideshow": {
     "slide_type": "subslide"
    }
   },
   "source": [
    "## Koncepcja implementacji\n",
    "\n",
    "- Upewnij się, że podstawowy model aplikacji można przedstawić w postaci struktury drzewa. \n",
    "- Rozbij klasy na proste elementy i pojemniki. \n",
    "- Zadeklaruj interfejs komponentu z listą metod, które mają sens zarówno w przypadku prostych, jak i złożonych komponentów.\n",
    "- Utwórz klasę liścia, aby reprezentować proste elementy. Program może mieć wiele różnych klas liści.\n",
    "- Utwórz klasę kontenera do reprezentowania złożonych elementów. W tej klasie podaj pole tablicowe do przechowywania odwołań do elementów podrzędnych. Tablica musi być w stanie przechowywać zarówno liście, jak i kontenery.\n",
    "- Implementując metody interfejsu komponentu pamiętaj, że kontener ma delegować większość pracy do podelementów.\n",
    "- Na koniec zdefiniuj metody dodawania i usuwania elementów podrzędnych w kontenerze.\n"
   ]
  },
  {
   "cell_type": "markdown",
   "metadata": {
    "slideshow": {
     "slide_type": "subslide"
    }
   },
   "source": [
    "## Implementacja Python"
   ]
  },
  {
   "cell_type": "code",
   "execution_count": 2,
   "metadata": {
    "slideshow": {
     "slide_type": "fragment"
    }
   },
   "outputs": [],
   "source": [
    "from __future__ import annotations\n",
    "from abc import ABC, abstractmethod\n",
    "from typing import List\n",
    "\n",
    "class Component(ABC):\n",
    "    @property\n",
    "    def parent(self) -> Component:\n",
    "        return self._parent\n",
    "\n",
    "    @parent.setter\n",
    "    def parent(self, parent: Component):\n",
    "        self._parent = parent\n",
    "\n",
    "    def add(self, component: Component) -> None:\n",
    "        pass\n",
    "\n",
    "    def remove(self, component: Component) -> None:\n",
    "        pass\n",
    "\n",
    "    def is_composite(self) -> bool:\n",
    "        return False\n",
    "\n",
    "    @abstractmethod\n",
    "    def operation(self) -> str:\n",
    "        pass"
   ]
  },
  {
   "cell_type": "code",
   "execution_count": 3,
   "metadata": {
    "slideshow": {
     "slide_type": "subslide"
    }
   },
   "outputs": [],
   "source": [
    "class Leaf(Component):\n",
    "    def operation(self) -> str:\n",
    "        return \"Leaf\"\n",
    "\n",
    "\n",
    "class Composite(Component):\n",
    "    def __init__(self) -> None:\n",
    "        self._children: List[Component] = []\n",
    "\n",
    "    def add(self, component: Component) -> None:\n",
    "        self._children.append(component)\n",
    "        component.parent = self\n",
    "\n",
    "    def remove(self, component: Component) -> None:\n",
    "        self._children.remove(component)\n",
    "        component.parent = None\n",
    "\n",
    "    def is_composite(self) -> bool:\n",
    "        return True\n",
    "\n",
    "    def operation(self) -> str:\n",
    "        results = []\n",
    "        for child in self._children:\n",
    "            results.append(child.operation())\n",
    "        return f\"Branch({'+'.join(results)})\""
   ]
  },
  {
   "cell_type": "code",
   "execution_count": 4,
   "metadata": {
    "slideshow": {
     "slide_type": "subslide"
    }
   },
   "outputs": [],
   "source": [
    "def client_code(component: Component) -> None:\n",
    "    print(f\"RESULT: {component.operation()}\", end=\"\")\n",
    "\n",
    "\n",
    "def client_code2(component1: Component, component2: Component) -> None:\n",
    "    if component1.is_composite():\n",
    "        component1.add(component2)\n",
    "\n",
    "    print(f\"RESULT: {component1.operation()}\", end=\"\")"
   ]
  },
  {
   "cell_type": "code",
   "execution_count": 5,
   "metadata": {
    "slideshow": {
     "slide_type": "fragment"
    }
   },
   "outputs": [
    {
     "name": "stdout",
     "output_type": "stream",
     "text": [
      "Client: I've got a simple component:\n",
      "RESULT: Leaf\n",
      "\n"
     ]
    }
   ],
   "source": [
    "simple = Leaf()\n",
    "print(\"Client: I've got a simple component:\")\n",
    "client_code(simple)\n",
    "print(\"\\n\")"
   ]
  },
  {
   "cell_type": "code",
   "execution_count": 6,
   "metadata": {
    "slideshow": {
     "slide_type": "subslide"
    }
   },
   "outputs": [],
   "source": [
    "tree = Composite()\n",
    "\n",
    "branch1 = Composite()\n",
    "branch1.add(Leaf())\n",
    "branch1.add(Leaf())\n",
    "\n",
    "branch2 = Composite()\n",
    "branch2.add(Leaf())\n",
    "\n",
    "tree.add(branch1)\n",
    "tree.add(branch2)"
   ]
  },
  {
   "cell_type": "code",
   "execution_count": 7,
   "metadata": {
    "slideshow": {
     "slide_type": "subslide"
    }
   },
   "outputs": [
    {
     "name": "stdout",
     "output_type": "stream",
     "text": [
      "Client: Now I've got a composite tree:\n",
      "RESULT: Branch(Branch(Leaf+Leaf)+Branch(Leaf))\n",
      "\n",
      "Client: I don't need to check the components classes even when managing the tree:\n",
      "RESULT: Branch(Branch(Leaf+Leaf)+Branch(Leaf)+Leaf)"
     ]
    }
   ],
   "source": [
    "print(\"Client: Now I've got a composite tree:\")\n",
    "client_code(tree)\n",
    "print(\"\\n\")\n",
    "\n",
    "print(\"Client: I don't need to check the components classes even when managing the tree:\")\n",
    "client_code2(tree, simple)"
   ]
  },
  {
   "cell_type": "markdown",
   "metadata": {
    "slideshow": {
     "slide_type": "subslide"
    }
   },
   "source": [
    "## Zalety i Wady\n",
    "  \n",
    "  \n",
    "### Zalety\n",
    "-  Umożliwia wygodną pracę ze złożonymi strukturami drzewa: wykorzystaj polimorfizm i rekurencję.\n",
    "- Zasada otwarte/zamknięte. Umożliwia wprowadzanie nowych typów elementów do aplikacji bez ingerencji w istniejący kod, który działa z drzewem obiektów.\n",
    "\n",
    "### Wady\n",
    "- Zapewnienie wspólnego interfejsu dla klas, których funkcjonalność zbytnio się różni. "
   ]
  }
 ],
 "metadata": {
  "celltoolbar": "Slideshow",
  "jupytext": {
   "formats": "ipynb"
  },
  "kernelspec": {
   "display_name": "Python 3 (ipykernel)",
   "language": "python",
   "name": "python3"
  },
  "language_info": {
   "codemirror_mode": {
    "name": "ipython",
    "version": 3
   },
   "file_extension": ".py",
   "mimetype": "text/x-python",
   "name": "python",
   "nbconvert_exporter": "python",
   "pygments_lexer": "ipython3",
   "version": "3.9.12"
  },
  "rise": {
   "autolaunch": true,
   "backimage": "img/tlo_agh.png"
  }
 },
 "nbformat": 4,
 "nbformat_minor": 2
}
